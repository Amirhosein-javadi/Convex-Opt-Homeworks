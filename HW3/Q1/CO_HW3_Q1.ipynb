{
 "cells": [
  {
   "cell_type": "code",
   "execution_count": 1,
   "metadata": {},
   "outputs": [],
   "source": [
    "using MLDatasets\n",
    "train_x, train_y = MNIST.traindata();\n",
    "test_x,  test_y  = MNIST.testdata();\n",
    "train_x_array = zeros((60000,28*28));\n",
    "test_x_array = zeros((10000,28*28));"
   ]
  },
  {
   "cell_type": "code",
   "execution_count": 2,
   "metadata": {},
   "outputs": [],
   "source": [
    "for i = 1:60000\n",
    "    train_x_array[i,:] = vec(convert(Array{Float64}, train_x[:,:,i]));\n",
    "end\n",
    "for i = 1:10000\n",
    "    test_x_array[i,:] = vec(convert(Array{Float64}, test_x[:,:,i]));\n",
    "end"
   ]
  },
  {
   "cell_type": "code",
   "execution_count": 3,
   "metadata": {},
   "outputs": [],
   "source": [
    "k = 3;\n",
    "\n",
    "Class_1 = [0, 1, 2, 3];\n",
    "Class_2 = [4, 5, 6];\n",
    "Class_3 = [7, 8, 9];\n",
    "\n",
    "Class_1_Train_Index = findall(x-> (x<=3), train_y);\n",
    "Class_2_Train_Index = findall(x-> (x>=4) && (x<=6), train_y);\n",
    "Class_3_Train_Index = findall(x-> (x>=7), train_y);\n",
    "\n",
    "Class_1_Test_Index = findall(x-> (x<=3), test_y);\n",
    "Class_2_Test_Index = findall(x-> (x>=4) && (x<=6), test_y);\n",
    "Class_3_Test_Index = findall(x-> (x>=7), test_y);\n",
    "\n",
    "Class_1_Train_x = train_x_array[Class_1_Train_Index,:];\n",
    "Class_2_Train_x = train_x_array[Class_2_Train_Index,:];\n",
    "Class_3_Train_x = train_x_array[Class_3_Train_Index,:];\n",
    "\n",
    "Class_1_Train_y = train_y[Class_1_Train_Index];\n",
    "Class_2_Train_y = train_y[Class_2_Train_Index];\n",
    "Class_3_Train_y = train_y[Class_3_Train_Index];"
   ]
  },
  {
   "cell_type": "code",
   "execution_count": 4,
   "metadata": {},
   "outputs": [],
   "source": [
    "Model_1_data = [Class_1_Train_x ; Class_2_Train_x];\n",
    "Model_2_data = [Class_1_Train_x ; Class_3_Train_x];\n",
    "Model_3_data = [Class_2_Train_x ; Class_3_Train_x];\n",
    "\n",
    "Model_1_label = [ones(size(Class_1_Train_y)) ; -1 * ones(size(Class_2_Train_y))];\n",
    "Model_2_label = [ones(size(Class_1_Train_y)) ; -1 * ones(size(Class_3_Train_y))];\n",
    "Model_3_label = [ones(size(Class_2_Train_y)) ; -1 * ones(size(Class_3_Train_y))];\n",
    "\n",
    "Model_1 = Model_1_data \\ Model_1_label;\n",
    "Model_2 = Model_2_data \\ Model_2_label;\n",
    "Model_3 = Model_3_data \\ Model_3_label;"
   ]
  },
  {
   "cell_type": "code",
   "execution_count": 5,
   "metadata": {},
   "outputs": [
    {
     "name": "stdout",
     "output_type": "stream",
     "text": [
      "Error Rate on Train Data is 0.1081\n"
     ]
    }
   ],
   "source": [
    "Train_Model_Votes = zeros(60000,Int(k*(k-1)/2));\n",
    "vote1 = sign.(train_x_array * Model_1);  # 1 -- > 1   -1 --> 2   y = (3-x)/2\n",
    "vote1 = Int.((3 .- vote1) ./ 2);\n",
    "vote2 = sign.(train_x_array * Model_2);  # 1 -- > 1   -1 --> 3   y = 2-x\n",
    "vote2 = Int.(2 .- vote2);\n",
    "vote3 = sign.(train_x_array * Model_3);  # 1 -- > 2   -1 --> 3   y = (5-x)/2\n",
    "vote3 = Int.((5 .- vote3) ./ 2);\n",
    "for i = 1:60000\n",
    "    Train_Model_Votes[i,vote1[i]] += 1;\n",
    "    Train_Model_Votes[i,vote2[i]] += 1;\n",
    "    Train_Model_Votes[i,vote3[i]] += 1;\n",
    "end\n",
    "Train_y_hat = getindex.(findmax(Train_Model_Votes, dims=2 )[2], 2);\n",
    "Train_y = zeros((60000,1));\n",
    "Train_y[Class_1_Train_Index,1] .= 1;\n",
    "Train_y[Class_2_Train_Index,1] .= 2;\n",
    "Train_y[Class_3_Train_Index,1] .= 3;\n",
    "Train_Error_Rate = 1 - sum(Train_y_hat .== Train_y) / 60000;\n",
    "println(\"Error Rate on Train Data is \" * string(round(Train_Error_Rate; digits = 5)))"
   ]
  },
  {
   "cell_type": "code",
   "execution_count": 6,
   "metadata": {},
   "outputs": [
    {
     "name": "stdout",
     "output_type": "stream",
     "text": [
      "Error Rate on Test Data is 0.1097\n"
     ]
    }
   ],
   "source": [
    "Test_Model_Votes = zeros(10000,Int(k*(k-1)/2));\n",
    "vote1 = sign.(test_x_array * Model_1);  # 1 -- > 1   -1 --> 2   y = (3-x)/2\n",
    "vote1 = Int.((3 .- vote1) ./ 2);\n",
    "vote2 = sign.(test_x_array * Model_2);  # 1 -- > 1   -1 --> 3   y = 2-x\n",
    "vote2 = Int.(2 .- vote2);\n",
    "vote3 = sign.(test_x_array * Model_3);  # 1 -- > 2   -1 --> 3   y = (5-x)/2\n",
    "vote3 = Int.((5 .- vote3) ./ 2);\n",
    "for i = 1:10000\n",
    "    Test_Model_Votes[i,vote1[i]] += 1;\n",
    "    Test_Model_Votes[i,vote2[i]] += 1;\n",
    "    Test_Model_Votes[i,vote3[i]] += 1;\n",
    "end\n",
    "Test_y_hat = getindex.(findmax(Test_Model_Votes, dims=2 )[2], 2);\n",
    "Test_y = zeros((10000,1));\n",
    "Test_y[Class_1_Test_Index,1] .= 1;\n",
    "Test_y[Class_2_Test_Index,1] .= 2;\n",
    "Test_y[Class_3_Test_Index,1] .= 3;\n",
    "Test_Error_Rate = 1 - sum(Test_y_hat .== Test_y) / 10000;\n",
    "println(\"Error Rate on Test Data is \" * string(round(Test_Error_Rate; digits = 5)))"
   ]
  },
  {
   "cell_type": "code",
   "execution_count": 7,
   "metadata": {},
   "outputs": [
    {
     "data": {
      "text/plain": [
       "confusion_matrix (generic function with 1 method)"
      ]
     },
     "execution_count": 7,
     "metadata": {},
     "output_type": "execute_result"
    }
   ],
   "source": [
    "function confusion_matrix(y_hat, y_true)\n",
    "    C = zeros(3,3)\n",
    "    for i in 1:3\n",
    "        for j in 1:3\n",
    "            C[i,j] = 1.0 * sum((y_hat .== i) .* (y_true .== j))\n",
    "        end\n",
    "    end\n",
    "    return C\n",
    "end"
   ]
  },
  {
   "cell_type": "code",
   "execution_count": 8,
   "metadata": {},
   "outputs": [
    {
     "name": "stdout",
     "output_type": "stream",
     "text": [
      "Train Confusion Matrix :\n",
      "[22953.0, 1150.0, 1608.0]\n",
      "[752.0, 14946.0, 842.0]\n",
      "[1049.0, 1085.0, 15615.0]\n"
     ]
    }
   ],
   "source": [
    "Train_Confusion_Matrix = confusion_matrix(Train_y_hat, Train_y);\n",
    "println(\"Train Confusion Matrix :\")\n",
    "println(Train_Confusion_Matrix[1,:])\n",
    "println(Train_Confusion_Matrix[2,:])\n",
    "println(Train_Confusion_Matrix[3,:])"
   ]
  },
  {
   "cell_type": "code",
   "execution_count": 9,
   "metadata": {},
   "outputs": [
    {
     "name": "stdout",
     "output_type": "stream",
     "text": [
      "Test Confusion Matrix :\n",
      "[3848.0, 204.0, 248.0]\n",
      "[125.0, 2445.0, 153.0]\n",
      "[184.0, 183.0, 2610.0]\n"
     ]
    }
   ],
   "source": [
    "Test_Confusion_Matrix = confusion_matrix(Test_y_hat, Test_y)\n",
    "println(\"Test Confusion Matrix :\")\n",
    "println(Test_Confusion_Matrix[1,:])\n",
    "println(Test_Confusion_Matrix[2,:])\n",
    "println(Test_Confusion_Matrix[3,:])"
   ]
  }
 ],
 "metadata": {
  "kernelspec": {
   "display_name": "Julia 1.7.2",
   "language": "julia",
   "name": "julia-1.7"
  },
  "language_info": {
   "file_extension": ".jl",
   "mimetype": "application/julia",
   "name": "julia",
   "version": "1.7.2"
  }
 },
 "nbformat": 4,
 "nbformat_minor": 4
}
