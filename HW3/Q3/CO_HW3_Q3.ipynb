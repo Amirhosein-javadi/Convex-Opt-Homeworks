{
 "cells": [
  {
   "cell_type": "code",
   "execution_count": 1,
   "metadata": {},
   "outputs": [],
   "source": [
    "using Gadfly\n",
    "#srand(1524)\n",
    "# number of products\n",
    "n=5\n",
    "# nominal prices\n",
    "p_nom = [1.6\n",
    "         1.7\n",
    "         1.5\n",
    "         0.7\n",
    "         1.85];\n",
    "# nominal demand\n",
    "d_nom = [0.623\n",
    "         0.811\n",
    "         0.302\n",
    "         0.336\n",
    "         0.110];\n",
    "# costs\n",
    "c = [0.9\n",
    "     1.50\n",
    "     1.05\n",
    "     0.1\n",
    "     0.75];\n",
    "# A matrix for the true model, which is not the same as yours.\n",
    "# Your E_hat will not necessarily look like this one.\n",
    "E =[-1.1   0.18 -0.4  -0.2   0.1\n",
    "     0.18 -0.9   0.1  -0.3  -0.4\n",
    "    -0.4   0.1  -0.7  -0.2  -0.3\n",
    "    -0.2  -0.3  -0.2  -1.0   0.05\n",
    "     0.1  -0.4  -0.3   0.05  -1.3];\n",
    "# returns the true demand for a given price\n",
    "function demand(p_new)\n",
    "    exp.(E*(log.(p_new) .- log.(p_nom)) .+ log.(d_nom) .+ randn(n)*0.20);\n",
    "end\n",
    "# plots a histogram of a list of profits\n",
    "function plot_profit_hist(profits)\n",
    "    plot(x=profits, Geom.histogram(bincount=20));\n",
    "end\n",
    "# Create the data \n",
    "N=10000;\n",
    "Prices = zeros(n,N);\n",
    "Demands = zeros(n,N);\n",
    "for i=1:N\n",
    "    Prices[:,i] = p_nom.*exp.(0.2*(rand(n).-0.5))\n",
    "    p_new = Prices[:,i]\n",
    "    Demands[:,i] = demand(Prices[:,i])\n",
    "end"
   ]
  },
  {
   "cell_type": "code",
   "execution_count": 2,
   "metadata": {},
   "outputs": [],
   "source": [
    "Train_size = 8000;\n",
    "Test_size = N - Train_size;\n",
    "\n",
    "Delta_P_Train = Prices[:,1:Train_size] .- p_nom;\n",
    "Delta_D_Train = Demands[:,1:Train_size] .- d_nom;\n",
    "\n",
    "Delta_P_Test = Prices[:,Train_size+1:N] .- p_nom;\n",
    "Delta_D_Test = Demands[:,Train_size+1:N] .- d_nom;\n"
   ]
  },
  {
   "cell_type": "code",
   "execution_count": 3,
   "metadata": {},
   "outputs": [
    {
     "data": {
      "text/plain": [
       "5×5 Matrix{Float64}:\n",
       " -0.448085    0.0940974  -0.0747751  -0.0310561   0.00533481\n",
       "  0.0780497  -0.42634     0.0242196  -0.0624897  -0.0285637\n",
       " -0.186934    0.0386256  -0.134247   -0.0308019  -0.0247213\n",
       " -0.12037    -0.401943   -0.0846407  -0.507068    0.00790565\n",
       "  0.0491076  -0.1495     -0.0523931   0.0238486  -0.0785934"
      ]
     },
     "execution_count": 3,
     "metadata": {},
     "output_type": "execute_result"
    }
   ],
   "source": [
    "E_hat = Delta_P_Train' \\ Delta_D_Train';\n",
    "E_hat"
   ]
  },
  {
   "cell_type": "code",
   "execution_count": 4,
   "metadata": {},
   "outputs": [
    {
     "name": "stdout",
     "output_type": "stream",
     "text": [
      "Error Rate on Train Data is 0.05403\n"
     ]
    }
   ],
   "source": [
    "Delta_D_hat_Train = (Delta_P_Train' * E_hat)';\n",
    "Error = sum((Delta_D_hat_Train - Delta_D_Train).^2)/Train_size;\n",
    "println(\"Error Rate on Train Data is \" * string(round(Error; digits = 5)))"
   ]
  },
  {
   "cell_type": "code",
   "execution_count": 5,
   "metadata": {},
   "outputs": [
    {
     "name": "stdout",
     "output_type": "stream",
     "text": [
      "Error Rate on Test Data is 0.05572\n"
     ]
    }
   ],
   "source": [
    "Delta_D_hat_Test = (Delta_P_Test' * E_hat)';\n",
    "Error = sum((Delta_D_hat_Test - Delta_D_Test).^2)/Test_size;\n",
    "println(\"Error Rate on Test Data is \" * string(round(Error; digits = 5)))"
   ]
  },
  {
   "cell_type": "markdown",
   "metadata": {},
   "source": [
    "For solving this problem, I sampled N = 10000 data from Prices and demand. I use 8000 of data data for training a model and 2000 for testing and checking for overfitting. \n",
    "As you can see, the elements on main diagonal are negative and the train and test error are almost the same."
   ]
  }
 ],
 "metadata": {
  "kernelspec": {
   "display_name": "Julia 1.7.2",
   "language": "julia",
   "name": "julia-1.7"
  },
  "language_info": {
   "file_extension": ".jl",
   "mimetype": "application/julia",
   "name": "julia",
   "version": "1.7.2"
  }
 },
 "nbformat": 4,
 "nbformat_minor": 4
}
