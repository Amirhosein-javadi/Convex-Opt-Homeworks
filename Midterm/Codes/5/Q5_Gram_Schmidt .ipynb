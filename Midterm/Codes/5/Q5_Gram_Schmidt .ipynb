{
 "cells": [
  {
   "cell_type": "code",
   "execution_count": 4,
   "metadata": {},
   "outputs": [
    {
     "data": {
      "text/plain": [
       "1×5 Matrix{Int64}:\n",
       " 0  1  0  0  0"
      ]
     },
     "execution_count": 4,
     "metadata": {},
     "output_type": "execute_result"
    }
   ],
   "source": [
    "using LinearAlgebra\n",
    "q1 = [-37 -16 -66 96 11]\n",
    "q2 = [-100 230 100 -34 24]\n",
    "q3 = [-15 20 -10 52 20]\n",
    "q4 = [1 0 0 0 0]\n",
    "q5 = [0 1 0 0 0]"
   ]
  },
  {
   "cell_type": "code",
   "execution_count": 5,
   "metadata": {},
   "outputs": [
    {
     "data": {
      "text/plain": [
       "1×5 Matrix{Float64}:\n",
       " -0.298951  -0.129276  -0.533265  0.775658  0.0888775"
      ]
     },
     "execution_count": 5,
     "metadata": {},
     "output_type": "execute_result"
    }
   ],
   "source": [
    "q1 = q1/ norm(q1)"
   ]
  },
  {
   "cell_type": "code",
   "execution_count": 7,
   "metadata": {},
   "outputs": [
    {
     "data": {
      "text/plain": [
       "1×5 Matrix{Float64}:\n",
       " -0.470012  0.839691  0.224139  0.0993886  0.117864"
      ]
     },
     "execution_count": 7,
     "metadata": {},
     "output_type": "execute_result"
    }
   ],
   "source": [
    "q2 = q2 - (q1*q2')q1\n",
    "q2 = q2/ norm(q2)"
   ]
  },
  {
   "cell_type": "code",
   "execution_count": 10,
   "metadata": {},
   "outputs": [
    {
     "data": {
      "text/plain": [
       "1×5 Matrix{Float64}:\n",
       " 0.575355  0.0821969  0.418799  0.463631  0.521406"
      ]
     },
     "execution_count": 10,
     "metadata": {},
     "output_type": "execute_result"
    }
   ],
   "source": [
    "q3 = q3 - (q1*q3')q1 - (q2*q3')q2\n",
    "q3 = q3/ norm(q3)"
   ]
  },
  {
   "cell_type": "code",
   "execution_count": 13,
   "metadata": {},
   "outputs": [
    {
     "data": {
      "text/plain": [
       "1×5 Matrix{Float64}:\n",
       " 0.598902  0.515485  -0.492619  0.0197789  -0.364043"
      ]
     },
     "execution_count": 13,
     "metadata": {},
     "output_type": "execute_result"
    }
   ],
   "source": [
    "q4 = q4 - (q1*q4')q1 - (q2*q4')q2 - (q3*q4')q3 \n",
    "q4 = q4/ norm(q4)"
   ]
  },
  {
   "cell_type": "code",
   "execution_count": 14,
   "metadata": {},
   "outputs": [
    {
     "data": {
      "text/plain": [
       "1×5 Matrix{Float64}:\n",
       " -1.46716e-15  0.0756714  -0.497317  -0.416091  0.757507"
      ]
     },
     "execution_count": 14,
     "metadata": {},
     "output_type": "execute_result"
    }
   ],
   "source": [
    "q5 = q5 - (q1*q5')q1 - (q2*q5')q2 - (q3*q5')q3 - (q4*q5')q4\n",
    "q5 = q5/ norm(q5)"
   ]
  },
  {
   "cell_type": "code",
   "execution_count": 26,
   "metadata": {},
   "outputs": [
    {
     "name": "stdout",
     "output_type": "stream",
     "text": [
      "[5.932724773857937e-18;;]\n",
      "[5.843474943447922e-17;;]\n",
      "[-2.4035054479968163e-17;;]\n",
      "[1.156851759032321e-17;;]\n",
      "[3.351930395605562e-17;;]\n",
      "[1.760229856919899e-20;;]\n",
      "[2.570656149341609e-15;;]\n",
      "[-2.4510914801150135e-17;;]\n",
      "[-7.578599728646851e-16;;]\n",
      "[3.57795379089255e-16;;]\n"
     ]
    }
   ],
   "source": [
    "println(q1*q2')\n",
    "println(q1*q3')\n",
    "println(q1*q4')\n",
    "println(q1*q5')\n",
    "println(q2*q3')\n",
    "println(q2*q4')\n",
    "println(q2*q5')\n",
    "println(q3*q4')\n",
    "println(q3*q5')\n",
    "println(q4*q5')"
   ]
  },
  {
   "cell_type": "code",
   "execution_count": 20,
   "metadata": {},
   "outputs": [
    {
     "data": {
      "text/plain": [
       "1×5 Matrix{Float64}:\n",
       " -1.46716e-15  0.0756714  -0.497317  -0.416091  0.757507"
      ]
     },
     "execution_count": 20,
     "metadata": {},
     "output_type": "execute_result"
    }
   ],
   "source": [
    "A = zeros(2,5)\n",
    "A[1,:] = q4\n",
    "A[2,:] = q5"
   ]
  },
  {
   "cell_type": "code",
   "execution_count": 22,
   "metadata": {},
   "outputs": [
    {
     "data": {
      "text/plain": [
       "1×5 Matrix{Int64}:\n",
       " 2  15  2  -13  2"
      ]
     },
     "execution_count": 22,
     "metadata": {},
     "output_type": "execute_result"
    }
   ],
   "source": [
    "b = [2 15 2 -13 2]"
   ]
  },
  {
   "cell_type": "code",
   "execution_count": 23,
   "metadata": {},
   "outputs": [
    {
     "data": {
      "text/plain": [
       "2×1 Matrix{Float64}:\n",
       " 6.959631187105747\n",
       " 7.064638955085694"
      ]
     },
     "execution_count": 23,
     "metadata": {},
     "output_type": "execute_result"
    }
   ],
   "source": [
    "a = A*b'"
   ]
  },
  {
   "cell_type": "code",
   "execution_count": null,
   "metadata": {},
   "outputs": [],
   "source": []
  }
 ],
 "metadata": {
  "kernelspec": {
   "display_name": "Julia 1.7.2",
   "language": "julia",
   "name": "julia-1.7"
  },
  "language_info": {
   "file_extension": ".jl",
   "mimetype": "application/julia",
   "name": "julia",
   "version": "1.7.2"
  }
 },
 "nbformat": 4,
 "nbformat_minor": 4
}
