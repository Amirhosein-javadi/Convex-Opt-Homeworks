{
 "cells": [
  {
   "cell_type": "code",
   "execution_count": 79,
   "metadata": {},
   "outputs": [
    {
     "data": {
      "text/plain": [
       "0.9999999985025297"
      ]
     },
     "execution_count": 79,
     "metadata": {},
     "output_type": "execute_result"
    }
   ],
   "source": [
    "using Random, Distributions\n",
    "using LinearAlgebra\n",
    "\n",
    "A = [-0.992451 -0.0662472 -0.111489 -0.0135726 -0.00161579 0.0132494 -0.00113105 -0.00396837 -0.0296594 0.020876;\n",
    "-0.0662472 -0.418635 0.978395 0.119109 0.0141796 -0.116273 0.00992574 0.0348252 0.260281 -0.183201;\n",
    "-0.111489 0.978395 0.646567 0.200452 0.0238633 -0.195679 0.0167043 0.0586082 0.438034 -0.308314;\n",
    "-0.0135726 0.119109 0.200452 -0.975597 0.0029051 -0.0238218 0.00203357 0.00713492 0.0533259 -0.0375338;\n",
    "-0.00161579 0.0141796 0.0238633 0.0029051 -0.999654 -0.00283593 0.000242091 0.000849395 0.00634833 -0.00446831;\n",
    "0.0132494 -0.116273 -0.195679 -0.0238218 -0.00283593 -0.976745 -0.00198515 -0.00696504 -0.0520563 0.0366402;\n",
    "-0.00113105 0.00992574 0.0167043 0.00203357 0.000242091 -0.00198515 -0.999831 0.000594576 0.00444383 -0.00312782;\n",
    "-0.00396837 0.0348252 0.0586082 0.00713492 0.000849395 -0.00696504 0.000594576 -0.997914 0.0155915 -0.0109742;\n",
    "-0.0296594 0.260281 0.438034 0.0533259 0.00634833 -0.0520563 0.00444383 0.0155915 -0.88347 -0.0820204;\n",
    "0.020876 -0.183201 -0.308314 -0.0375338 -0.00446831 0.0366402 -0.00312782 -0.0109742 -0.0820204 -0.942269;]\n",
    "\n",
    "x = [-0.05539568 0.48613499 0.81812962 0.09959839 0.01185695 -0.097227 0.00829987 0.02912067 0.21764619 -0.15319181]"
   ]
  },
  {
   "cell_type": "code",
   "execution_count": 106,
   "metadata": {},
   "outputs": [
    {
     "data": {
      "text/plain": [
       "Label_data (generic function with 1 method)"
      ]
     },
     "execution_count": 106,
     "metadata": {},
     "output_type": "execute_result"
    }
   ],
   "source": [
    "function Create_data(data_size)\n",
    "    data = rand(Uniform(-1,1), (data_size,10));\n",
    "    for i = 1 : data_size\n",
    "        data[i,:] = data[i,:] / norm(data[i,:])\n",
    "    end\n",
    "    return data\n",
    "end\n",
    "\n",
    "function Label_data(data_Arr,data_size)\n",
    "    label_d = zeros(data_size)\n",
    "    for i = 1 : data_size\n",
    "        data = data_Arr[i,:]'\n",
    "        A_pred = data * A * transpose(data)\n",
    "        if A_pred>=0\n",
    "            label_d[i] = 1\n",
    "        else\n",
    "            label_d[i] = -1\n",
    "        end\n",
    "    end\n",
    "    return label_d \n",
    "end"
   ]
  },
  {
   "cell_type": "code",
   "execution_count": 143,
   "metadata": {},
   "outputs": [],
   "source": [
    "Train_size = 100000;\n",
    "Test_size = 10000;\n",
    "Train_data = Create_data(Train_size);\n",
    "Train_label = Label_data(Train_data,Train_size);\n",
    "Test_data = Create_data(Test_size);\n",
    "Test_label = Label_data(Test_data,Test_size);\n",
    "Model = x' / norm(x);"
   ]
  },
  {
   "cell_type": "code",
   "execution_count": 144,
   "metadata": {},
   "outputs": [
    {
     "data": {
      "text/plain": [
       "Find_alpha (generic function with 2 methods)"
      ]
     },
     "execution_count": 144,
     "metadata": {},
     "output_type": "execute_result"
    }
   ],
   "source": [
    "function Find_alpha(data,model,label)\n",
    "    model_pred = data*model\n",
    "    P_indx = findall(label .== 1)\n",
    "    N_indx = findall(label .== -1)\n",
    "    Positive_pred = model_pred[P_indx]\n",
    "    Negative_pred = model_pred[N_indx]\n",
    "    P_max = maximum(Positive_pred)\n",
    "    P_min = minimum(Positive_pred)\n",
    "    N_max = maximum(Negative_pred)\n",
    "    N_min = minimum(Negative_pred)   \n",
    "    alpha = (P_max + N_max + abs(P_min) + abs(N_min))/4\n",
    "    return alpha\n",
    "end"
   ]
  },
  {
   "cell_type": "code",
   "execution_count": 145,
   "metadata": {},
   "outputs": [
    {
     "data": {
      "text/plain": [
       "0.759318189036726"
      ]
     },
     "execution_count": 145,
     "metadata": {},
     "output_type": "execute_result"
    }
   ],
   "source": [
    "alpha = Find_alpha(Train_data,Model,Train_label)"
   ]
  },
  {
   "cell_type": "code",
   "execution_count": 146,
   "metadata": {},
   "outputs": [
    {
     "data": {
      "text/plain": [
       "evaluate (generic function with 3 methods)"
      ]
     },
     "execution_count": 146,
     "metadata": {},
     "output_type": "execute_result"
    }
   ],
   "source": [
    "function evaluate(model,data,label,n,alpha)\n",
    "    data_score = abs.(data * model)\n",
    "    data_pred = (data_score .> alpha ) .* 2 .- 1;\n",
    "    precision = sum(data_pred .== label) / n;\n",
    "    return precision\n",
    "end"
   ]
  },
  {
   "cell_type": "code",
   "execution_count": 150,
   "metadata": {},
   "outputs": [
    {
     "name": "stdout",
     "output_type": "stream",
     "text": [
      "The precision of my classifier on training data is 97.857%\n"
     ]
    }
   ],
   "source": [
    "Train_precision = evaluate(Model,Train_data,Train_label,Train_size,alpha)\n",
    "println(\"The precision of my classifier on training data is \", string(Train_precision*100 , \"%\"))"
   ]
  },
  {
   "cell_type": "code",
   "execution_count": 151,
   "metadata": {},
   "outputs": [
    {
     "name": "stdout",
     "output_type": "stream",
     "text": [
      "The precision of my classifier on test data is 97.74000000000001%\n"
     ]
    }
   ],
   "source": [
    "Test_precision = evaluate(Model,Test_data,Test_label,Test_size,alpha)\n",
    "println(\"The precision of my classifier on test data is \", string(Test_precision*100 , \"%\"))"
   ]
  },
  {
   "cell_type": "code",
   "execution_count": 152,
   "metadata": {},
   "outputs": [],
   "source": []
  },
  {
   "cell_type": "code",
   "execution_count": null,
   "metadata": {},
   "outputs": [],
   "source": []
  }
 ],
 "metadata": {
  "kernelspec": {
   "display_name": "Julia 1.7.2",
   "language": "julia",
   "name": "julia-1.7"
  },
  "language_info": {
   "file_extension": ".jl",
   "mimetype": "application/julia",
   "name": "julia",
   "version": "1.7.2"
  }
 },
 "nbformat": 4,
 "nbformat_minor": 4
}
