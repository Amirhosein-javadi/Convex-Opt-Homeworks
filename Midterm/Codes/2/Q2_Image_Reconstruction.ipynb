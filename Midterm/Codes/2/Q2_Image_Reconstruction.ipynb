{
 "cells": [
  {
   "cell_type": "code",
   "execution_count": 54,
   "metadata": {},
   "outputs": [],
   "source": [
    "using Plots\n",
    "using LinearAlgebra\n",
    "\n",
    "file = open(\"v1.txt\", \"r\");\n",
    "s = read(file, String);\n",
    "close(file);\n",
    "v1 = reshape(parse.(Int64, split(s)),(3000,1));\n",
    "file = open(\"v2.txt\", \"r\");\n",
    "s = read(file, String);\n",
    "close(file);\n",
    "v2 = reshape(parse.(Int64, split(s)),(3000,1));"
   ]
  },
  {
   "cell_type": "code",
   "execution_count": 2,
   "metadata": {},
   "outputs": [
    {
     "data": {
      "image/svg+xml": [
       "<?xml version=\"1.0\" encoding=\"utf-8\"?>\n",
       "<svg xmlns=\"http://www.w3.org/2000/svg\" xmlns:xlink=\"http://www.w3.org/1999/xlink\" width=\"600\" height=\"400\" viewBox=\"0 0 2400 1600\">\n",
       "<defs>\n",
       "  <clipPath id=\"clip200\">\n",
       "    <rect x=\"0\" y=\"0\" width=\"2400\" height=\"1600\"/>\n",
       "  </clipPath>\n",
       "</defs>\n",
       "<path clip-path=\"url(#clip200)\" d=\"\n",
       "M0 1600 L2400 1600 L2400 0 L0 0  Z\n",
       "  \" fill=\"#ffffff\" fill-rule=\"evenodd\" fill-opacity=\"1\"/>\n",
       "<defs>\n",
       "  <clipPath id=\"clip201\">\n",
       "    <rect x=\"480\" y=\"0\" width=\"1681\" height=\"1600\"/>\n",
       "  </clipPath>\n",
       "</defs>\n",
       "<path clip-path=\"url(#clip200)\" d=\"\n",
       "M202.177 1486.45 L2352.76 1486.45 L2352.76 47.2441 L202.177 47.2441  Z\n",
       "  \" fill=\"#ffffff\" fill-rule=\"evenodd\" fill-opacity=\"1\"/>\n",
       "<defs>\n",
       "  <clipPath id=\"clip202\">\n",
       "    <rect x=\"202\" y=\"47\" width=\"2152\" height=\"1440\"/>\n",
       "  </clipPath>\n",
       "</defs>\n",
       "<g clip-path=\"url(#clip202)\">\n",
       "<image width=\"1199\" height=\"1439\" xlink:href=\"data:image/png;base64,\n",
       "iVBORw0KGgoAAAANSUhEUgAABK8AAAWfCAYAAABtCdX9AAAgAElEQVR4nOzdSZLbOhZAUaqi9r9l\n",
       "1cDf9d1ko4bNBXDO3BGKtEQRFw/Ubdu2+wYAAAAAQf+5+gUAAAAAwGfEKwAAAACyxCsAAAAAssQr\n",
       "AAAAALLEKwAAAACyxCsAAAAAssQrAAAAALLEKwAAAACyxCsAAAAAssQrAAAAALLEKwAAAACyxCsA\n",
       "AAAAssQrAAAAALLEKwAAAACyxCsAAAAAssQrAAAAALLEKwAAAACyxCsAAAAAssQrAAAAALLEKwAA\n",
       "AACyxCsAAAAAssQrAAAAALLEKwAAAACyxCsAAAAAssQrAAAAALLEKwAAAACyxCsAAAAAssQrAAAA\n",
       "ALLEKwAAAACyxCsAAAAAssQrAAAAALLEKwAAAACyxCsAAAAAssQrAAAAALLEKwAAAACyxCsAAAAA\n",
       "ssQrAAAAALLEKwAAAACyxCsAAAAAssQrAAAAALLEKwAAAACyxCsAAAAAssQrAAAAALLEKwAAAACy\n",
       "xCsAAAAAssQrAAAAALLEKwAAAACyxCsAAAAAssQrAAAAALLEKwAAAACyxCsAAAAAssQrAAAAALLE\n",
       "KwAAAACyxCsAAAAAssQrAAAAALLEKwAAAACyxCsAAAAAssQrAAAAALLEKwAAAACyxCsAAAAAssQr\n",
       "AAAAALLEKwAAAACyxCsAAAAAssQrAAAAALLEKwAAAACyxCsAAAAAssQrAAAAALLEKwAAAACyxCsA\n",
       "AAAAssQrAAAAALLEKwAAAACyxCsAAAAAssQrAAAAALLEKwAAAACyxCsAAAAAssQrAAAAALLEKwAA\n",
       "AACyxCsAAAAAssQrAAAAALLEKwAAAACyxCsAAAAAssQrAAAAALLEKwAAAACyxCsAAAAAssQrAAAA\n",
       "ALLEKwAAAACyxCsAAAAAssQrAAAAALLEKwAAAACyxCsAAAAAssQrAAAAALLEKwAAAACyxCsAAAAA\n",
       "ssQrAAAAALLEKwAAAACyxCsAAAAAssQrAAAAALLEKwAAAACyxCsAAAAAssQrAAAAALLEKwAAAACy\n",
       "xCsAAAAAssQrAAAAALLEKwAAAACyxCsAAAAAssQrAAAAALLEKwAAAACyxCsAAAAAssQrAAAAALLE\n",
       "KwAAAACyxCsAAAAAssQrAAAAALLEKwAAAACyxCsAAAAAssQrAAAAALLEKwAAAACyxCsAAAAAssQr\n",
       "AAAAALLEKwAAAACyxCsAAAAAssQrAAAAALLEKwAAAACyxCsAAAAAssQrAAAAALLEKwAAAACyxCsA\n",
       "AAAAssQrAAAAALLEKwAAAACyxCsAAAAAssQrAAAAALLEKwAAAACyxCsAAAAAssQrAAAAALLEKwAA\n",
       "AACyxCsAAAAAssQrAAAAALLEKwAAAACyxCsAAAAAssQrAAAAALLEKwAAAACyxCsAAAAAssQrAAAA\n",
       "ALLEKwAAAACyxCsAAAAAssQrAAAAALLEKwAAAACyxCsAAAAAssQrAAAAALLEKwAAAACyxCsAAAAA\n",
       "ssQrAAAAALLEKwAAAACyxCsAAAAAssQrAAAAALLEKwAAAACyxCsAAAAAssQrAAAAALLEKwAAAACy\n",
       "xCsAAAAAssQrAAAAALLEKwAAAACyxCsAAAAAssQrAAAAALLEKwAAAACyxCsAAAAAssQrAAAAALLE\n",
       "KwAAAACyxCsAAAAAssQrAAAAALLEKwAAAACyxCsAAAAAssQrAAAAALLEKwAAAACyxCsAAAAAssQr\n",
       "AAAAALLEKwAAAACyxCsAAAAAssQrAAAAALLEKwAAAACyxCsAAAAAssQrAAAAALLEKwAAAACyxCsA\n",
       "AAAAssQrAAAAALLEKwAAAACyxCsAAAAAssQrAAAAALLEKwAAAACyxCsAAAAAssQrAAAAALLEKwAA\n",
       "AACyxCsAAAAAssQrAAAAALLEKwAAAACyxCsAAAAAssQrAAAAALLEKwAAAACyxCsAAAAAssQrAAAA\n",
       "ALLEKwAAAACyxCsAAAAAssQrAAAAALLEKwAAAACyxCsAAAAAssQrAAAAALLEKwAAAACyxCsAAAAA\n",
       "ssQrAAAAALLEKwAAAACyxCsAAAAAssQrAAAAALLEKwAAAACyxCsAAAAAssQrAAAAALLEKwAAAACy\n",
       "xCsAAAAAssQrAAAAALLEKwAAAACyxCsAAAAAssQrAAAAALLEKwAAAACyxCsAAAAAssQrAAAAALLE\n",
       "KwAAAACyxCsAAAAAssQrAAAAALLEKwAAAACyxCsAAAAAssQrAAAAALLEKwAAAACyxCsAAAAAssQr\n",
       "AAAAALLEKwAAAACyxCsAAAAAssQrAAAAALLEKwAAAACyxCsAAAAAssQrAAAAALLEKwAAAACyxCsA\n",
       "AAAAssQrAAAAALLEKwAAAACyxCsAAAAAssQrAAAAALLEKwAAAACyxCsAAAAAssQrAAAAALLEKwAA\n",
       "AACyxCsAAAAAssQrAAAAALLEKwAAAACyxCsAAAAAssQrAAAAALLEKwAAAACyxCsAAAAAssQrAAAA\n",
       "ALLEKwAAAACyxCsAAAAAssQrAAAAALLEKwAAAACyxCsAAAAAssQrAAAAALLEKwAAAACyxCsAAAAA\n",
       "ssQrAAAAALLEKwAAAACyxCsAAAAAssQrAAAAALLEKwAAAACyxCsAAAAAssQrAAAAALLEKwAAAACy\n",
       "xCsAAAAAssQrAAAAALLEKwAAAACyxCsAAAAAssQrAAAAALLEKwAAAACyxCsAAAAAssQrAAAAALLE\n",
       "KwAAAACyxCsAAAAAssQrAAAAALLEKwAAAACyxCsAAAAAssQrAAAAALLEKwAAAACyxCsAAAAAssQr\n",
       "AAAAALLEKwAAAACyxCsAAAAAssQrAAAAALLEKwAAAACyxCsAAAAAssQrAAAAALLEKwAAAACyxCsA\n",
       "AAAAssQrAAAAALLEKwAAAACyxCsAAAAAssQrAAAAALLEKwAAAACyxCsAAAAAssQrAAAAALLEKwAA\n",
       "AACyxCsAAAAAssQrAAAAALLEKwAAAACyxCsAAAAAssQrAAAAALLEKwAAAACyxCsAAAAAssQrAAAA\n",
       "ALLEKwAAAACyxCsAAAAAssQrAAAAALLEKwAAAACyxCsAAAAAssQrAAAAALLEKwAAAACyxCsAAAAA\n",
       "ssQrAAAAALLEKwAAAACyxCsAAAAAssQrAAAAALLEKwAAAACyxCsAAAAAssQrAAAAALLEKwAAAACy\n",
       "xCsAAAAAssQrAAAAALLEKwAAAACyxCsAAAAAssQrAAAAALLEKwAAAACyxCsAAAAAssQrAAAAALLE\n",
       "KwAAAACyxCsAAAAAssQrAAAAALLEKwAAAACyxCsAAAAAssQrAAAAALLEKwAAAACyxCsAAAAAssQr\n",
       "AAAAALLEKwAAAACyxCsAAAAAssQrAAAAALLEKwAAAACyxCsAAAAAssQrAAAAALLEKwAAAACyxCsA\n",
       "AAAAssQrAAAAALLEKwAAAACyxCsAAAAAssQrAAAAALLEKwAAAACyxCsAAAAAssQrAAAAALLEKwAA\n",
       "AACyxCsAAAAAssQrAAAAALLEKwAAAACyxCsAAAAAssQrAAAAALLEKwAAAACyxCsAAAAAssQrAAAA\n",
       "ALLEKwAAAACyxCsAAAAAssQrAAAAALLEKwAAAACyxCsAAAAAssQrAAAAALLEKwAAAACyxCsAAAAA\n",
       "ssQrAAAAALLEKwAAAACyxCsAAAAAssQrAAAAALLEKwAAAACyxCsAAAAAssQrAAAAALLEKwAAAACy\n",
       "xCsAAAAAssQrAAAAALLEKwAAAACyxCsAAAAAssQrAAAAALLEKwAAAACyxCsAAAAAssQrAAAAALLE\n",
       "KwAAAACyxCsAAAAAssQrAAAAALLEKwAAAACyxCsAAAAAssQrAAAAALLEKwAAAACyxCsAAAAAssQr\n",
       "AAAAALLEKwAAAACyxCsAAAAAssQrAAAAALLEKwAAAACyxCsAAAAAssQrAAAAALLEKwAAAACyxCsA\n",
       "AAAAssQrAAAAALLEKwAAAACyxCsAAAAAssQrAAAAALLEKwAAAACyxCsAAAAAssQrAAAAALLEKwAA\n",
       "AACyxCsAAAAAssQrAAAAALLEKwAAAACyxCsAAAAAssQrAAAAALLEKwAAAACyxCsAAAAAssQrAAAA\n",
       "ALLEKwAAAACyxCsAAAAAssQrAAAAALLEKwAAAACyxCsAAAAAssQrAAAAALLEKwAAAACyxCsAAAAA\n",
       "ssQrAAAAALLEKwAAAACyxCsAAAAAssQrAAAAALLEKwAAAACyxCsAAAAAssQrAAAAALLEKwAAAACy\n",
       "xCsAAAAAssQrAAAAALLEKwAAAACyxCsAAAAAssQrAAAAALLEKwAAAACyxCsAAAAAssQrAAAAALLE\n",
       "KwAAAACyxCsAAAAAssQrAAAAALLEKwAAAACyxCsAAAAAssQrAAAAALLEKwAAAACyxCsAAAAAssQr\n",
       "AAAAALLEKwAAAACyxCsAAAAAssQrAAAAALLEKwAAAACyxCsAAAAAssQrAAAAALLEKwAAAACyxCsA\n",
       "AAAAssQrAAAAALLEKwAAAACyxCsAAAAAssQrAAAAALLEKwAAAACyxCsAAAAAssQrAAAAALL+e/UL\n",
       "AIBZ3e/3l//t7Xbb8ZUAAMC4btu2vX5nDQCTeydAXUX4AgBgJuIVAMsZMUgdQeQCAGAE4hUA0xKp\n",
       "XiNqAQBQIl4BMDyR6hyiFgAAVxCvABiOWNUhaAEAcDTxCoA0oWosYhYAAHsTrwBIEavmImYBAPAu\n",
       "8QqAS40Sq+oRZpS/47b1/5YAALSIVwCcqhhZVooptb//Sn97AABeI14BcLhCMBFJvnf1/5P/IwAA\n",
       "PiJeAXCIq0KIALKvK4OW/0sAALZNvAJgR2eHDnHjGv6fAQA4k3gFwFvODBkiRtdZ7wPvAQCA9YhX\n",
       "ADzt6FAhUMzhjKDlvQIAMD/xCoCHCFa868j3kPcPAMC8xCsAvnRUcBAb1iZkAQDwKPEKgL8IVpzt\n",
       "iPec9xsAwBzEKwD+T0CgwPsQAIBfiVcA7BoLRAL2tHfI8v4EABiPeAWwKMGKEXnfAgCsR7wCWMxe\n",
       "i38Lf64kYgEArEO8AliAYMXMvL8BAOYmXgFMzKKelXi/AwDMSbwCmNS7C3kLeEa2R8jyGQAAaBCv\n",
       "ACZiwQ5/E3IBAMYmXgFMwOIcvudzAgAwJvEKYGAW4/Cadz47PjcAAOcSrwAGJFrBPkQsAIA+8Qpg\n",
       "MBbbsD+fKwCALvEKYBCvLq4trOFxIhYAQI94BRBnMQ3nE4sBADrEK4Aoi2doeOWz6HMIALAf8Qog\n",
       "yGIZWsRkAIDriFcAIaIVtIlYAADnE68AAkQrGIvPLADAecQrgIs9uwi2AIYOEQsA4HjiFcBFLHph\n",
       "HiI0AMBxxCuAk4lWMC8RCwBgf+IVwIksbGENPusAAPsRrwBOYCEL6/G5BwDYh3gFcDALWFjbM9cA\n",
       "n38AgL+JVwAHsmgFtk3EBgB4h3gFcADRCviIiAUA8DzxCmBHFqbAIwRuAIDHiVcAO7EYBZ7hmgEA\n",
       "8BjxCmAHFqHAq1w/AAC+Jl4BvMGiE9iDawkAwOfEK4AXWWwCe3v0uuKaAgCsRLwCeIEFJnAk1xgA\n",
       "gH+JVwBPsKAEzuJ6AwDww3+ufgEAo7CQBM706LXkmSPMAAAjMnkF8ADhCrjSI9cg1x8AYFbiFcA3\n",
       "LBqBAhEdAFiVY4MAXxCugArHCAGAVZm8AviAaAWUuUYBACsRrwD+YFEIjMAxQgBgFY4NAvxCuAJG\n",
       "4RghALAKk1cA/xCugFG5fgEAMxOvALbvF34WfUCdgAUAzEq8ApZmsQfMxDUNAJiReAUsyyIPmJVp\n",
       "UgBgJh7YDixJuAJm9t31y0PcAYCRmLwClmMiAViF6x0AMAOTV8BSLOSAlZjAAgBmYPIKWIZwBazK\n",
       "UWkAYGQmr4AlCFfAyh65xpnCAgCqTF4B0xOuAP7lmggAjMbkFTA1izSA33kOFgAwGvEKmJZwBfAx\n",
       "AQsAGIljg8CUvlp4iVYAP4j8AMAITF4B0zExAPAYE1gAwAjEK2AqpggAniNgAQB1jg0C03BUEOB1\n",
       "4j8AUGXyCpiCcAXwHhNYAECVeAUMT7gC2IeABQAUiVfA0IQrgH25dgIANeIVMCzhCuAYX11DTV8B\n",
       "AGcTr4AhCVcAxxKwAIAK8QoYjnAFcA4BCwAoEK+AoQhXAOcSsACAq4lXwDCEK4BrCFgAwJXEK2B4\n",
       "whXA8QQsAOAq4hUwhM8WRsIVwHkELADgCuIVkGdBBNAhYAEAZ7tt2+YuA8gycQXQ5DmEAMBZTF4B\n",
       "WcIVQJdrMQBwFvEKSHL0BKDvs4DlGg4A7Em8AnIcRQEYh4AFABxNvAKGIVwBjEXAAgD2IF4BKZ5z\n",
       "BTAev0AIABxJvAIyhCuAcblWAwBHEa+ABOEKYHyefwUAHEG8Ai4nXAHMQ8ACAPYmXgEAsCsBCwDY\n",
       "k3gFXMrUFQAAAF8Rr4DLCFcA8zJ9BQDsRbwCLiFcAcxPwAIA9iBeARnCFcB8BCwA4F3iFXA6CxaA\n",
       "tdicAADeIV4Bp3JcEGBNH13nbWYAAI8Qr4DLCVcA6xKwAIDviFfAaT5aoAhXAOvw/CsA4BXiFXAK\n",
       "4QqAbXPtBwCeJ14BAHAqz78CAJ4hXgGHM3UFwCMELADgI+IVcCjhCoCP+C4AAB4lXgEAcAnHBwGA\n",
       "R4hXwGFMXQHwHQELAPiOeAUcQrgCAABgD+IVsDvhCoBnmL4CAL4iXgEAcDmbHADAZ8QrYFemrgDY\n",
       "i+krAGDbxCsAACIcHwQAPiJeAbsxdQXAuwQsAOBP4hWwC+EKAACAI4hXwCGEKwBeZfoKAPiVeAW8\n",
       "zYICgL3ZBAEAfhKvgN1ZcABwBJslALAm8Qp4y58LCeEKgL34TgEAtk28At5gBxyAo/0ZsHz3AMB6\n",
       "xCtgN3bIATiDgAUAaxGvgJdYOABwFpsjALA28QrYhYUFAGeyiQIA6xCvgKd5SDsAZ/NdAwDrEq8A\n",
       "ABiCh7cDwJrEK+Appq4AAAA4k3gFAMAwTF8BwHrEK+Bhpq4AKBKwAGBu4hXwEOEKgArfQQCwFvEK\n",
       "AIDhmb4CgHmJV8C3LAgAqDF9BQDrEK+Ap1kwAFDg+wgA1iBeAV/yrCsARmFSGADmJF4BADAsmyoA\n",
       "MD/xCniYBQIAdaavAGA+4hXwKQsAAEZgcwUA5iZeAQ+xMABgFDZfAGAu4hXwITf+AIzEJgsAzEu8\n",
       "Ar5lQQDAaGzCAMA8xCvgL274ARiRzRYAmJN4BXzJQgCAUdmMAYA5iFfAb9zoAzAymy4AMB/xCviU\n",
       "BQAAo7MpAwDjE6+A/3ODD8AMbL4AwFzEK+BDbvwBAAAoEK+AbdtMXQEwl183YXzHAcDYxCvgL6au\n",
       "AAAAqBCvAACYkukrAJiDeAX8dkNv6goAAIAS8QoAgGmZvgKA8YlXsDhTVwAAAJSJVwAAAABkiVcA\n",
       "AEzN0UEAGJt4BQtzZBAAAIA68QoAgOmZvgKAcYlXsChTVwAAAIxAvAIAAAAgS7wCAGAJjg4CwJjE\n",
       "K1iQI4MAAACMQrwCAGAZNm0AYDziFSzMDTwAK3N0EADGIF7BYtyoA7A6mzcAMBbxCgAAAIAs8QoW\n",
       "ZdcZAEwkA8AIxCtYiBt0APjBJg4AjEO8AgAAACBLvIIF2W0GgH+ZTAaANvEKFuHGHAB+ZzMHAMYg\n",
       "XsFi3KgDAAAwEvEKAIDlmVAGgC7xChbghhwAPmYiGQD6xCsAAAAAssQrWIjdZQD4nEllAGgSrwAA\n",
       "WJrNHQBoE69gcnaRAQAAGJl4BYuwqwwA37PpAwA94hUAAMuzyQMAXeIVTMzuMQAAAKMTr2ABdpMB\n",
       "AAAYlXgFAACbzR4AqBKvAADgF47dA0CLeAWT+nnjbRcZAACAkYlXAAAAAGSJVwAA8A8TywDQI17B\n",
       "xNyAA8BrPPcKADrEKwAAAACyxCuYkN1iAAAAZiFeAQDALxy7B4AW8Qom5cYbAN5jkhkAGsQrAAAA\n",
       "ALLEK5iMXWIAAABmIl4BAMAfHL8HgA7xCgAAAIAs8QomZLcYAPbhOD4AXE+8AgAAACBLvIKJ2B0G\n",
       "AABgNuIVAAB8wDF8AGgQrwAAAADIEq9gMnaJAWBfjuUDwLXEKwAAAACyxCsAAPiEiWYAuJ54BZNw\n",
       "pAEAAIAZiVcwEbvDAAAAzEa8AgAAACBLvAIAgG84ng8A1xGvAADgC47lA8C1xCsAAAAAssQrmICj\n",
       "DAAAAMxKvIJJONIAAADAjMQrAAAAALLEKwAAAACyxCsAAPiG4/kAcB3xCgAAAIAs8QoAAB7g130B\n",
       "4BriFUzAUQYAAABmJV7B4OwCAwAAMDPxCgAAAIAs8QoAAACALPEKAAAAgCzxCgAAAIAs8QoAAB7g\n",
       "130B4BriFQAAAABZ4hUAAAAAWbdt2+5XvwgAAAAA+IjJKwAAeND9bt8XAM4mXgEAAACQJV4BAAAA\n",
       "kCVeAQAAAJAlXgEAAACQJV4BAAAAkCVeAQAAAJB127bN7/0CAAAAkGTyCgAAAIAs8QoAAACALPEK\n",
       "AAAAgCzxCgAAAIAs8QoAAACALPEKAAAAgCzxCgAAAIAs8QoGdr/fr34JAAAAcCjxCgAAAIAs8QoA\n",
       "AACALPEKAAAAgCzxCgAAAIAs8QoAAACALPEKAAAAgCzxCgAAAICs27Zt96tfBAAAAAB8xOQVAAAA\n",
       "AFniFQAAAABZ4hUAAAAAWeIVAAAAAFniFQAAAABZ4hUAAAAAWeIVAAA84X6/X/0SAGAp4hUAAAAA\n",
       "WeIVAAAAAFniFQAAAABZ4hUAAAAAWeIVAAAAAFniFQAAAABZ4hUAAAAAWbdt2+5XvwgAAAAA+IjJ\n",
       "KwAAAACyxCsAAAAAssQrAAB40v3uyRsAcBbxCgAAAIAs8QoAAACALPEKAAAAgCzxCgAAAIAs8QoA\n",
       "AACALPEKAAAAgCzxCgAAAIAs8QoGd7/fr34JALCc2+3mOxgATiJeAQAAAJAlXgEAAACQJV4BAAAA\n",
       "kCVeAQAAAJAlXgEAAACQJV4BAAAAkHXbts1v/AIAAACQZPIKAABedL/bBwaAo4lXAAAAAGSJVwAA\n",
       "AABkiVcAAAAAZIlXMAHP2wAAAGBW4hUAALzBJhIAHEu8AgAAACBLvAIAgBfdbrerXwIATE+8AgAA\n",
       "ACBLvAIAgDd57hUAHEe8AgAAACBLvIIJeN4GAAAAsxKvAADgDTaRAOBY4hVMwrM2AAAAmJF4BQAA\n",
       "O7CRBADHEK8AAAAAyBKvAAAAAMgSrwAA4E0/H9ru6CAA7E+8AgAAACBLvAIAAAAgS7yCSfw8rgAA\n",
       "AAAzEa9gIp6zAQDX8dwrADiGeAUAAABAlngFAAAAQJZ4BQAAAECWeAUAADvx3CsA2J94BQAAAECW\n",
       "eAWTsdMLAADATMQrmMjPowoAwHUcHQSAfYlXAAAAAGSJVwAAAABkiVcAAAAAZIlXAABwEM+9AoD3\n",
       "iVcAALAzP6ICAPsRr2BCdnkBoMP3MgC8R7yCydjpBQAAYCbiFQAAHMCGEgDsQ7wCAICDOToIAK8T\n",
       "rwAAAADIEq8AAOAgjg4CwPvEKwAAOIGjgwDwGvEKJnS73dwgAwAAMAXxCgAADuToIAC8R7wCAICT\n",
       "mIwGgOeJVwAAAABkiVcAAHAwRwcB4HXiFUzM0QQA6PH9DADPEa8AAOAEpq8A4DXiFUzKDTIAdJm+\n",
       "AoDHiVcAAAAAZIlXAABwAdNXAPAY8Qom58YYADoc6weA54lXAAAAAGSJVwAAcKJfp69MSAPA98Qr\n",
       "mJijCQAAAIxOvAIAgAuZvgKAr4lXsAA3xQDQYjoaAB4nXgEAAACQJV4BAMAFPLgdAB4jXsHkHEsA\n",
       "AABgZOIVLMKOLgD0mL4CgO+JVwAAAABkiVcAAHAh01cA8DXxChbguVcAAACMSrwCAIAQ01cA8Dvx\n",
       "ChbiZhgAmkxJA8DnxCsAAIix4QQA/xKvAAAgwPQVAHxMvIJFuCEGgLGYvgKAH8QrAACIsNkEAH8T\n",
       "r2AxdnEBYBy+twFAvAIAgBTTVwDwO/EKFuJmGADGY/oKgNWJVwAAEPPnhpOABcDKxCtYkBtgAAAA\n",
       "RiFeAQBAkOkrAPhBvAIAAAAgS7yCxXhoOwCMw/QVAIhXsCw3vwAAAIxAvAIAgDDTVwCsTrwCAIDB\n",
       "CFgArES8ggX93MF14wsAY/DMSgBWJl4BAMCAbEIBsArxCgAABmD6CoBViVcAADAID28HYEXiFSzK\n",
       "c68AYA6+ywGY3f/au7fkRm4tioKg485/yr4fttxsNUnVA48NIHMAtiJaqgIWD0DxCgAAJuL4IAC7\n",
       "Ea8AAGBypq8AWJl4BVjwAsBkXk1feZ8DsCrxCjbm2AEAAADpxCsAAJiQ6SsAdiFeAQDApExRA7AD\n",
       "8Qo297Xo9UktAKzBOx2A1YhXAAAwMccHAVideAUAAJMTsABYmXgFAAAAQCzxCnDvFQAswPQVAKsS\n",
       "rwAAYGECFgCzE68AAGARr6avAGB24hXwG5/OAsDcHB8EYDXiFVBK8UktAKxEwAJgJeIVAABsQsAC\n",
       "YEbiFfAHC1sAmJ+pagBWIV4B/7HIBYC1OD4IwArEKwAAWJiABcDsxCvgJYtaAFibdz0AsxCvgN84\n",
       "OggA6/F+B2Bm4hUAAGzK9BUAMxCvgLcsaAFgHe+mr7zvAUgnXgF/cLQAANYkYAEwI/EKAAA2ImAB\n",
       "MBvxCgAANiNgATAT8Qp46WtRaxELAADASOIVAABsyPQVALMQr4AfWcQCwJoELABmIF4Bb/nWQQBY\n",
       "n4AFQDrxCgAAeEnAAiCBeAUcYvEKAOv6NG1tDQDAaOIVAAAgYAEQS7wCPnLvFQDsw3sfgETiFXCY\n",
       "T10BYH0ucAcgjXgFAAD8RsACIIl4BfzoeQFr0QoAe7MWAKA38QoAAPiDC9wBSCFeAQAALwlYACQQ\n",
       "r4BDHB0EgD0JWACMJl4BAAAfCVgAjCReAYd9WrgCAGsTsAAYRbwCLrFIBYD9CFgAjCBeAQAAhwlY\n",
       "APQmXgGnODoIAAhYAPQkXgGXWZwCwL4ELAB6Ea8AAIBLBCwAehCvgNOeF6oWpgCwNwELgNbEKwAA\n",
       "4BYBC4CWxCsAAOA2AQuAVh6lFG8S4JLnhY7Yhn4AABXxSURBVKhvIQQASvk5VFkzAHCWySsAAKAa\n",
       "cQqA2kxeAbeYvgIAXjGBBUAtJq8AAIDqfopT7sEC4CjxCqjGIhQAeCZgAVCDeAXcYuQfAPhEwALg\n",
       "LvEKAABoSsAC4A7xCrjteUFq8QkAvCJgAXCVeAUAAHRxJGCJWAB8J14BVZi+AgCOOHJfprUEAM/E\n",
       "KwAAoKujAUvEAqAU8QoAABjg8XiYwgLgEPEKqMbRQQDgLAELgJ+IVwAAwFACFgCfiFdAMxaZAMBR\n",
       "7sEC4B3xCqjqyMITAOCVo+sIAQtgL+IV0JTFJQBwhovcAfhOvAKqM30FANzlGCEAX8QroDmLSgDg\n",
       "CscIAShFvAIaMX0FANQgYAEgXgEAANHO3IMlYgGs51FK8XQHmnleQJrGAgDuOhOnrD0A1mDyCgAA\n",
       "mMaZIGUKC2AN4hXQjQUkAFDD0WOEpVh/AKxAvAKaMq4PALRyJmCJWADzEq+AriwcAYCazh4jtBYB\n",
       "mI94BTRn+goAaOnMMcJSfJgGMBvxCujOghEAaMEUFsCaHqUUT2ygi+cFomksAKCls2HK2gQgl8kr\n",
       "YAifdAIALZ2NUdYmALnEKwAAYElX7sISsQDyiFdAN8bxAYARrkxhiVgAOdx5BXT1fSEoaAEAPV2J\n",
       "UtYrAGOJV0B3Lm4HAEYTsQDm4dggMJSRfABghCshyroFYAyTV8AQpq8AgBSmsACymbwChvMpJgAw\n",
       "0tUpLGsYgD5MXgHDmL4CANJcDVLWMgDtiFfAML55EABIdWeqypoGoC7xChhKwAIAkolYAOO58woA\n",
       "AOCNx+NxOUK5FwugDpNXwHCmrwCAGdwNUdY4ANeYvAIAADjgzhRWKSaxAK4yeQVE8M2DAMBsTGIB\n",
       "9CFeAREcHQQAZlVjmsraB+A98QqIIWABALMTsgDqc+cVAABAJXfvxSrF3VgA35m8AqKYvgIAVlIr\n",
       "QlkTATszeQUAANBIjUmsUkxjAXszeQXEMX0FAKyqZoCyRgJ28b/RPwAAAMAunoPT3ZDlAz9gFyav\n",
       "gEgWYwDALlocB7R2AlZi8goAAGCgr9BUM2I9/7eELGB2Jq+AWKavAIBdtbqc3XoKmJHJKwAAgDAt\n",
       "prFe/ffELGAGJq+AaBZYAAD/aDWN9cxaC0gkXgHxBCwAgN/1CFlfrL2A0RwbBAAAmMxzUGodsl79\n",
       "9wUtoCeTV8AUTF8BAPys50TWd9ZnQCsmrwAAABbRcyLru3f/P1ELuMvkFTAN01cAANeNnMr6xJoO\n",
       "+InJKwAAgA2MnMr65OjPInLBvkxeAVMxfQUA0EZS0GrF2hHmZPIKmNrff/9tEQIAUMH3NdUOMQuY\n",
       "g3gFTOXxeFhIAQB08OoDQuswYATxCpie6SsAgD4ELWAE8QqYjukrAIAcghbQmgvbgWm5vB0AYD4j\n",
       "w5b1IszJ5BWwDMcHAQDynVmvmeACSjF5BUzO9BUAAMDa/hr9AwDU5NM5AACAtYhXwNRMWgEAAKxN\n",
       "vAKWY/oKAABgHeIVMD1fzwwAALAu8QpYguODAAAAaxKvgGWZvgIAAJifeAUsw/QVAADAesQrYGmm\n",
       "rwAAAOYmXgFLcXk7AADAWsQrYDmODwIAAKxDvAK2YPoKAABgTuIVsCTHBwEAANYgXgEAAAAQS7wC\n",
       "lmX6CgAAYH7iFbA0l7cDAADMTbwCtmP6CgAAYB7iFbA8xwcBAADmJV4BW3B8EAAAYE7iFbAt01cA\n",
       "AAD5xCtgG44PAgAAzEe8ArYiYAEAAMxFvAIAAAAglngFbMf0FQAAwDzEK2BLvn0QAABgDuIVwL9M\n",
       "XwEAAOQRr4BtOT4IAACQT7wC+EbAAgAAyCFeAVtz9xUAAEA28QrYnuODAAAAucQrgCJgAQAApBKv\n",
       "AD4QsAAAAMYSrwD+5f4rAACAPOIVwA9MXwEAAIwjXgE8eTd9JWABAACMIV4BfOP4IAAAQA7xCuAF\n",
       "3z4IAACQQbwCOEHAAgAA6Eu8AnjD/VcAAADjiVcAH7j/CgAAYCzxCuAH7r8CAAAYR7wCuEjAAgAA\n",
       "aE+8AjjA8UEAAIAxxCuAgxwfBAAA6E+8ArhJwAIAAGhHvAI44d3xQQELAACgDfEK4CQBCwAAoB/x\n",
       "CuACF7gDAAD0IV4BVGT6CgAAoC7xCuAixwcBAADaE68AbhCwAAAA2hKvAG5y/xUAAEA74hVABa8C\n",
       "lukrAACA+8QrgIYELAAAgHvEK4BK3H8FAABQn3gFUJGABQAAUJd4BQAAAEAs8QqgMtNXAAAA9YhX\n",
       "AA0IWAAAAHWIVwCNCFgAAAD3iVcADQlYAAAA94hXAI0JWAAAANeJVwAAAADEEq8AOjB9BQAAcI14\n",
       "BdCJgAUAAHCeeAXQkYAFAABwjngF0JmABQAAcJx4BRBEwAIAAPideAUwwLvpq1IELAAAgGfiFcAg\n",
       "nwIWAAAA/xCvAAZy/xUAAMBn4hXAYAIWAADAe+IVQAABCwAA4DXxCiCcgAUAAOxMvAII4RsIAQAA\n",
       "/iReAQQRsAAAAH4nXgGEEbAAAAB+Ea8AAglYAAAA/xCvAEIJWAAAAOIVQDQBCwAA2J14BRDuU8AC\n",
       "AABY3aOU4qN7gAl8mrQSuAAAgFWZvAKYhEAFAADsSLwCWID7rwAAgFWJVwATcYE7AACwG/EKYDIC\n",
       "FgAAsBPxCmBCAhYAALAL8QpgUgIWAACwA/EKYGICFgAAsDrxCmByAhYAALAy8QpgAQIWAACwKvEK\n",
       "YBECFgAAsCLxCmAhAhYAALAa8QpgMQIWAACwEvEKYEECFgAAsArxCmBRAhYAALAC8QpgYQIWAAAw\n",
       "O/EKYHECFgAAMDPxCmADAhYAADAr8QpgEwIWAAAwI/EKYCMCFgAAMBvxCmAzAhYAADAT8QpgQwIW\n",
       "AAAwC/EKYFMCFgAAMAPxCmBjAhYAAJDuUUqxOwHY3E+h6lPkAgAAaMnkFQA/xilTWAAAwCjiFQCl\n",
       "FAELAADIJF4B8B8BCwAASCNeAfAbAQsAAEgiXgHwBwELAABIIV4B8JKABQAAJBCvAHhLwAIAAEYT\n",
       "rwD4SMACAABGepRS7DoA+NGRSPVT6AIAADjL5BUAhxwJU6awAACA2sQrAA4TsAAAgN4cGwTgkp8i\n",
       "lSOEAABADSavALjERe4AAEAP4hUAlwlYAABAa44NAnCbbyIEAABaMXkFwG0ucgcAAFoRrwCoQsAC\n",
       "AABaEK8AqEbAAgAAanPnFQBNuAcLAACoweQVAE2YwgIAAGoQrwBoRsACAADuEq8AaErAAgAA7hCv\n",
       "AGhOwAIAAK5yYTsAXbnIHQAAOMPkFQBdmcICAADOEK8A6E7AAgAAjhKvABhCwAIAAI5w5xUAQx0N\n",
       "VO7BAgCAPYlXAERwkTsAAPCKY4MARHCMEAAAeMXkFQBRHCMEAACembwCIMrRKGUKCwAA9mDyCoBY\n",
       "7sECAADEKwCiOUYIAAB7c2wQgGiOEQIAwN5MXgEwDVNYAACwH5NXAEzDFBYAAOxHvAJgKgIWAADs\n",
       "xbFBAKZ0Jk45RggAAPMSrwCYmnuwAABgbeIVANMzhQUAAOsSrwBYhiksAABYjwvbAViGy9wBAGA9\n",
       "Jq8AWI5jhAAAsA7xCoBlOUYIAADzE68AWJopLAAAmJt4BcAWTGEBAMCcxCsAtmEKCwAA5uPbBgHY\n",
       "xpkg5RsJAQAgg8krALZkCgsAAOZg8gqALZnCAgCAOZi8AmB7prAAACCXeAUA5fx0lYgFAAB9iFcA\n",
       "8MQUFgAAZBGvAOAbU1gAAJBDvAKAN0xhAQDAeOIVAHxgCgsAAMYSrwDgAFNYAAAwhngFAAeZwgIA\n",
       "gP7EKwA4ScQCAIB+xCsAuEjEAgCA9v4a/QMAwKzOxqizsQsAADB5BQBVmMICAIA2TF4BQAVXprBM\n",
       "YgFAP967MC+TVwBQ2ZXFsUksAKjv+zvZ+xbmZPIKACp7PB7uwwKAwbxbYR0mrwCgIVNYANDXp3ev\n",
       "dyzMSbwCgA5ELABo68i71rsV5iReAUAnV48vWGgDwHtn3q/eqTAnd14BQCdX7sIqxZ0dAPCOdyTs\n",
       "weQVAAxiEgsAzvP+hP2IVwAwmPuwAOAY70zYk3gFACEsyAHgNe9I2Jt4BQBBHIUAgF+8F4FSxCsA\n",
       "iGSxDsDOvAeBZ+IVAASzeAdgJ957wCviFQBMwGIegJV5zwGfiFcAMBGLewBW4r0GHCFeAcCELPYB\n",
       "mJn3GHCGeAUAk7q68C/F4h+AMby7gCvEKwCYnI0AAOm8q4A7xCsAWISNAQBpvJuAGsQrAFjMnY1C\n",
       "KTYLANzjPQTUJl4BwKJsHgDoyXsHaEW8AoDF2UwA0JL3DNCaeAUAm7C5AKAm7xWgF/EKADZjswHA\n",
       "Hd4jQG/iFQBszAYEgCO8L4CRxCsAwKYEgJe8H4AE4hUA8J+7m5RSbFQAViBaAUnEKwDgDyIWwH48\n",
       "+4FU4hUA8JaNDMD6POuBdOIVAPCjGhubUmxuAFJ4rgMzEa8AgFNseADm5PkNzEq8AgAusQkCmIPn\n",
       "NTA78QoAuKXWpqgUGyOAWjybgZWIVwBANT7dBxjLcxhYkXgFAFTnE3+AfjxzgdWJVwBAMzZUAO14\n",
       "xgK7EK8AgC5qbrJKsdEC9uM5CuxKvAIAuqq9+SrFBgxYl2cmgHgFAAxkigDgNc9HgF/EKwBgOJMF\n",
       "AJ6FAO+IVwBAFJs3YCeeeQA/E68AgEgtNnSl2NQB43m+AZwjXgEAU7DZA2bl+QVwj3gFAEyl1Saw\n",
       "FBtBoB7PKoB6xCsAYFo2h0ASzySANsQrAGAJLTeNpdg4An/y3AHoQ7wCAJZjQwm04vkC0J94BQAs\n",
       "rfVGsxSbTViZZwjAeOIVALCNHpvQUmxEYWaeEwB5xCsAYEu9Nqil2KRCMs8CgHziFQBAsYGFXfhb\n",
       "B5iPeAUA8E3PzW0pNrjQkr9ngPmJVwAAH/Te+JZi8wt3+JsFWI94BQBw0IhN8RebY/iTv0mAPYhX\n",
       "AAA32DxDH/7WAPYlXgEAVDJyc/3FJpsV+FsC4Jl4BQDQSMIG/IuNOIn8jQBwhHgFANBJ0ka9FJt1\n",
       "+vL7D8BV4hUAwCBpm/kvNvXc4fcagNrEKwCAEKmb/mcCAKX4XQWgL/EKACDYDJHgFeFgXjP+zvl9\n",
       "A1ibeAUAMJkZ48J3YsMYfncAmJF4BQCwgBWixDtixWf+7QFYnXgFALColaPGWakRxL/RL6n/RgCM\n",
       "J14BAGxELCGBUAXAGeIVAACiFk2IVADUIF4BAPAjcYtXxCkAehCvAAC4Rdham0AFwGjiFQAAzQlc\n",
       "mYQpAGYgXgEAEEHgqkuYAmAV4hUAAFNbPXqJUADsTrwCAAAAINZfo38AAAAAAHhHvAIAAAAglngF\n",
       "AAAAQCzxCgAAAIBY4hUAAAAAscQrAAAAAGKJVwAAAADEEq8AAAAAiCVeAQAAABBLvAIAAAAglngF\n",
       "AAAAQCzxCgAAAIBY4hUAAAAAscQrAAAAAGKJVwAAAADEEq8AAAAAiCVeAQAAABBLvAIAAAAglngF\n",
       "AAAAQCzxCgAAAIBY4hUAAAAAscQrAAAAAGKJVwAAAADEEq8AAAAAiCVeAQAAABBLvAIAAAAglngF\n",
       "AAAAQCzxCgAAAIBY4hUAAAAAscQrAAAAAGKJVwAAAADEEq8AAAAAiCVeAQAAABBLvAIAAAAglngF\n",
       "AAAAQCzxCgAAAIBY4hUAAAAAscQrAAAAAGKJVwAAAADEEq8AAAAAiCVeAQAAABBLvAIAAAAglngF\n",
       "AAAAQCzxCgAAAIBY4hUAAAAAscQrAAAAAGKJVwAAAADEEq8AAAAAiCVeAQAAABBLvAIAAAAglngF\n",
       "AAAAQCzxCgAAAIBY4hUAAAAAscQrAAAAAGKJVwAAAADEEq8AAAAAiCVeAQAAABBLvAIAAAAglngF\n",
       "AAAAQCzxCgAAAIBY4hUAAAAAscQrAAAAAGKJVwAAAADEEq8AAAAAiCVeAQAAABBLvAIAAAAglngF\n",
       "AAAAQCzxCgAAAIBY4hUAAAAAscQrAAAAAGKJVwAAAADEEq8AAAAAiCVeAQAAABBLvAIAAAAglngF\n",
       "AAAAQCzxCgAAAIBY4hUAAAAAscQrAAAAAGKJVwAAAADEEq8AAAAAiCVeAQAAABBLvAIAAAAglngF\n",
       "AAAAQCzxCgAAAIBY4hUAAAAAscQrAAAAAGKJVwAAAADEEq8AAAAAiCVeAQAAABBLvAIAAAAglngF\n",
       "AAAAQCzxCgAAAIBY4hUAAAAAscQrAAAAAGKJVwAAAADEEq8AAAAAiCVeAQAAABBLvAIAAAAglngF\n",
       "AAAAQCzxCgAAAIBY4hUAAAAAscQrAAAAAGKJVwAAAADEEq8AAAAAiCVeAQAAABBLvAIAAAAglngF\n",
       "AAAAQCzxCgAAAIBY4hUAAAAAscQrAAAAAGKJVwAAAADEEq8AAAAAiCVeAQAAABBLvAIAAAAglngF\n",
       "AAAAQCzxCgAAAIBY4hUAAAAAscQrAAAAAGKJVwAAAADEEq8AAAAAiCVeAQAAABBLvAIAAAAglngF\n",
       "AAAAQCzxCgAAAIBY4hUAAAAAscQrAAAAAGKJVwAAAADEEq8AAAAAiCVeAQAAABBLvAIAAAAglngF\n",
       "AAAAQCzxCgAAAIBY4hUAAAAAscQrAAAAAGKJVwAAAADEEq8AAAAAiCVeAQAAABBLvAIAAAAglngF\n",
       "AAAAQCzxCgAAAIBY4hUAAAAAscQrAAAAAGKJVwAAAADEEq8AAAAAiCVeAQAAABBLvAIAAAAglngF\n",
       "AAAAQCzxCgAAAIBY4hUAAAAAscQrAAAAAGKJVwAAAADEEq8AAAAAiCVeAQAAABBLvAIAAAAglngF\n",
       "AAAAQCzxCgAAAIBY4hUAAAAAscQrAAAAAGKJVwAAAADEEq8AAAAAiCVeAQAAABBLvAIAAAAglngF\n",
       "AAAAQCzxCgAAAIBY4hUAAAAAscQrAAAAAGKJVwAAAADEEq8AAAAAiCVeAQAAABBLvAIAAAAglngF\n",
       "AAAAQCzxCgAAAIBY4hUAAAAAscQrAAAAAGKJVwAAAADEEq8AAAAAiCVeAQAAABBLvAIAAAAglngF\n",
       "AAAAQCzxCgAAAIBY4hUAAAAAscQrAAAAAGKJVwAAAADEEq8AAAAAiCVeAQAAABBLvAIAAAAglngF\n",
       "AAAAQCzxCgAAAIBY4hUAAAAAscQrAAAAAGKJVwAAAADEEq8AAAAAiCVeAQAAABBLvAIAAAAglngF\n",
       "AAAAQCzxCgAAAIBY4hUAAAAAscQrAAAAAGKJVwAAAADEEq8AAAAAiCVeAQAAABBLvAIAAAAglngF\n",
       "AAAAQCzxCgAAAIBY4hUAAAAAscQrAAAAAGKJVwAAAADEEq8AAAAAiCVeAQAAABBLvAIAAAAglngF\n",
       "AAAAQCzxCgAAAIBY4hUAAAAAscQrAAAAAGKJVwAAAADEEq8AAAAAiCVeAQAAABBLvAIAAAAglngF\n",
       "AAAAQCzxCgAAAIBY4hUAAAAAscQrAAAAAGKJVwAAAADEEq8AAAAAiCVeAQAAABBLvAIAAAAglngF\n",
       "AAAAQCzxCgAAAIBY4hUAAAAAscQrAAAAAGKJVwAAAADEEq8AAAAAiCVeAQAAABBLvAIAAAAglngF\n",
       "AAAAQKz/A2JZMzcj/ChqAAAAAElFTkSuQmCC\n",
       "\" transform=\"translate(678, 47)\"/>\n",
       "</g>\n",
       "</svg>\n"
      ]
     },
     "execution_count": 2,
     "metadata": {},
     "output_type": "execute_result"
    }
   ],
   "source": [
    "A = zeros(6000,5000)\n",
    "for i = 1:3000\n",
    "    A[v1[i]-15:v1[i]+15,1000+i] .= 1\n",
    "    A[v2[i]-15:v2[i]+15,1000+i] .= 1\n",
    "end\n",
    "gr()\n",
    "heatmap(A, yflip=true, aspect_ratio=:equal, color=:gist_gray, cbar=:none,framestyle=:none)\n",
    "#savefig(\"heatmap.png\")"
   ]
  },
  {
   "cell_type": "code",
   "execution_count": 23,
   "metadata": {},
   "outputs": [
    {
     "data": {
      "text/plain": [
       "Fit_bt_Sin_Cos (generic function with 1 method)"
      ]
     },
     "execution_count": 23,
     "metadata": {},
     "output_type": "execute_result"
    }
   ],
   "source": [
    "function Fit_bt_Sin_Cos(T,v)\n",
    "    lambda = 2\n",
    "    n_digree = 35\n",
    "    b = zeros(3000+n_digree-1)\n",
    "    b[1:3000] = v\n",
    "    data_arr = zeros(3000+n_digree-1,n_digree)\n",
    "    for i = 1 : 3000\n",
    "        data_arr[i,1]  = 1\n",
    "        data_arr[i,2]  = sin(2 * pi * i / T)\n",
    "        data_arr[i,3]  = sin(2 * pi * i / (T*(k^1)))\n",
    "        data_arr[i,4]  = sin(2 * pi * i / (T*(k^2)))\n",
    "        data_arr[i,5]  = sin(2 * pi * i / (T*(k^3)))\n",
    "        data_arr[i,6]  = sin(2 * pi * i / (T*(k^4)))\n",
    "        data_arr[i,7]  = sin(2 * pi * i / (T*(k^5)))\n",
    "        data_arr[i,8]  = sin(2 * pi * i / (T*(k^6)))\n",
    "        data_arr[i,9]  = sin(2 * pi * i / (T*(k^7)))\n",
    "        data_arr[i,10] = sin(2 * pi * i / (T*(k^8)))\n",
    "        data_arr[i,11] = sin(2 * pi * i / (T/(k^1)))\n",
    "        data_arr[i,12] = sin(2 * pi * i / (T/(k^2)))\n",
    "        data_arr[i,13] = sin(2 * pi * i / (T/(k^3)))\n",
    "        data_arr[i,14] = sin(2 * pi * i / (T/(k^4)))\n",
    "        data_arr[i,15] = sin(2 * pi * i / (T/(k^5)))\n",
    "        data_arr[i,16] = sin(2 * pi * i / (T/(k^6)))  \n",
    "        data_arr[i,17] = sin(2 * pi * i / (T/(k^7)))\n",
    "        data_arr[i,18] = sin(2 * pi * i / (T/(k^8)))\n",
    "        data_arr[i,19] = sin(2 * pi * i / T)\n",
    "        data_arr[i,20] = cos(2 * pi * i / (T*(k^1)))\n",
    "        data_arr[i,21] = cos(2 * pi * i / (T*(k^2)))\n",
    "        data_arr[i,22] = cos(2 * pi * i / (T*(k^3)))\n",
    "        data_arr[i,23] = cos(2 * pi * i / (T*(k^4)))\n",
    "        data_arr[i,24] = cos(2 * pi * i / (T*(k^5)))\n",
    "        data_arr[i,25] = cos(2 * pi * i / (T*(k^6)))\n",
    "        data_arr[i,26] = cos(2 * pi * i / (T*(k^7)))\n",
    "        data_arr[i,27] = cos(2 * pi * i / (T*(k^8)))\n",
    "        data_arr[i,28] = cos(2 * pi * i / (T/(k^1)))\n",
    "        data_arr[i,29] = cos(2 * pi * i / (T/(k^2)))\n",
    "        data_arr[i,30] = cos(2 * pi * i / (T/(k^3)))\n",
    "        data_arr[i,31] = cos(2 * pi * i / (T/(k^4)))\n",
    "        data_arr[i,32] = cos(2 * pi * i / (T/(k^5)))\n",
    "        data_arr[i,33] = cos(2 * pi * i / (T/(k^6))) \n",
    "        data_arr[i,34] = cos(2 * pi * i / (T/(k^7)))\n",
    "        data_arr[i,35] = cos(2 * pi * i / (T/(k^8)))\n",
    "    end\n",
    "    for i = 2 : n_digree\n",
    "        data_arr[i+3000-1,i] = i\n",
    "    end\n",
    "    model = data_arr \\ b;\n",
    "    pred = data_arr[1:3000,:] * model;\n",
    "    loss = (sum((pred-v).^2)/3000)^0.5\n",
    "    return model,loss,pred\n",
    "end\n",
    "    "
   ]
  },
  {
   "cell_type": "code",
   "execution_count": 45,
   "metadata": {},
   "outputs": [
    {
     "name": "stdout",
     "output_type": "stream",
     "text": [
      "Root mean squared loss of fitted curve on v1 is 60.73365435142669\n"
     ]
    }
   ],
   "source": [
    "T1 = 4000\n",
    "k = 1.2\n",
    "model1,loss1,pred1 = Fit_bt_Sin_Cos(T1,v1);\n",
    "println(\"Root mean squared loss of fitted curve on v1 is \", string(loss1))"
   ]
  },
  {
   "cell_type": "code",
   "execution_count": 36,
   "metadata": {},
   "outputs": [],
   "source": [
    "plot(pred1,itle = \"V1 points and fitted curve\", label= \"fitted curve\", grid = true , xlabel  = \"x axis\", ylabel = \"y axis\")\n",
    "plot!(v1,label= \"v1\")\n",
    "savefig(\"V1_fit.png\")"
   ]
  },
  {
   "cell_type": "code",
   "execution_count": 46,
   "metadata": {},
   "outputs": [
    {
     "name": "stdout",
     "output_type": "stream",
     "text": [
      "Root mean squared loss of fitted curve on v2 is 41.78805497174969\n"
     ]
    }
   ],
   "source": [
    "T2 = 8000\n",
    "model2,loss2,pred2 = Fit_bt_Sin_Cos(T2,v2)\n",
    "println(\"Root mean squared loss of fitted curve on v2 is \", string(loss2))"
   ]
  },
  {
   "cell_type": "code",
   "execution_count": 37,
   "metadata": {},
   "outputs": [],
   "source": [
    "plot(pred2,title = \"V2 points and fitted curve\", label= \"fitted curve\", grid = true , xlabel  = \"x axis\", ylabel = \"y axis\")\n",
    "plot!(v2,label= \"v2\")\n",
    "savefig(\"V2_fit.png\")"
   ]
  },
  {
   "cell_type": "code",
   "execution_count": 28,
   "metadata": {},
   "outputs": [
    {
     "data": {
      "text/plain": [
       "create_new_curve (generic function with 1 method)"
      ]
     },
     "execution_count": 28,
     "metadata": {},
     "output_type": "execute_result"
    }
   ],
   "source": [
    "function create_new_curve(v,model,T)\n",
    "    new_v = zeros(4000)\n",
    "    new_v[1:3000] = v\n",
    "    n_digree = 35\n",
    "    data_arr = zeros(1000,n_digree)\n",
    "    for i = 3001 : 4000\n",
    "        data_arr[i-3000,1]  = 1\n",
    "        data_arr[i-3000,2]  = sin(2 * pi * i / T)\n",
    "        data_arr[i-3000,3]  = sin(2 * pi * i / (T*(k^1)))\n",
    "        data_arr[i-3000,4]  = sin(2 * pi * i / (T*(k^2)))\n",
    "        data_arr[i-3000,5]  = sin(2 * pi * i / (T*(k^3)))\n",
    "        data_arr[i-3000,6]  = sin(2 * pi * i / (T*(k^4)))\n",
    "        data_arr[i-3000,7]  = sin(2 * pi * i / (T*(k^5)))\n",
    "        data_arr[i-3000,8]  = sin(2 * pi * i / (T*(k^6)))\n",
    "        data_arr[i-3000,9]  = sin(2 * pi * i / (T*(k^7)))\n",
    "        data_arr[i-3000,10] = sin(2 * pi * i / (T*(k^8)))\n",
    "        data_arr[i-3000,11] = sin(2 * pi * i / (T/(k^1)))\n",
    "        data_arr[i-3000,12] = sin(2 * pi * i / (T/(k^2)))\n",
    "        data_arr[i-3000,13] = sin(2 * pi * i / (T/(k^3)))\n",
    "        data_arr[i-3000,14] = sin(2 * pi * i / (T/(k^4)))\n",
    "        data_arr[i-3000,15] = sin(2 * pi * i / (T/(k^5)))\n",
    "        data_arr[i-3000,16] = sin(2 * pi * i / (T/(k^6)))  \n",
    "        data_arr[i-3000,17] = sin(2 * pi * i / (T/(k^7)))\n",
    "        data_arr[i-3000,18] = sin(2 * pi * i / (T/(k^8)))\n",
    "        data_arr[i-3000,19] = sin(2 * pi * i / T)\n",
    "        data_arr[i-3000,20] = cos(2 * pi * i / (T*(k^1)))\n",
    "        data_arr[i-3000,21] = cos(2 * pi * i / (T*(k^2)))\n",
    "        data_arr[i-3000,22] = cos(2 * pi * i / (T*(k^3)))\n",
    "        data_arr[i-3000,23] = cos(2 * pi * i / (T*(k^4)))\n",
    "        data_arr[i-3000,24] = cos(2 * pi * i / (T*(k^5)))\n",
    "        data_arr[i-3000,25] = cos(2 * pi * i / (T*(k^6)))\n",
    "        data_arr[i-3000,26] = cos(2 * pi * i / (T*(k^7)))\n",
    "        data_arr[i-3000,27] = cos(2 * pi * i / (T*(k^8)))\n",
    "        data_arr[i-3000,28] = cos(2 * pi * i / (T/(k^1)))\n",
    "        data_arr[i-3000,29] = cos(2 * pi * i / (T/(k^2)))\n",
    "        data_arr[i-3000,30] = cos(2 * pi * i / (T/(k^3)))\n",
    "        data_arr[i-3000,31] = cos(2 * pi * i / (T/(k^4)))\n",
    "        data_arr[i-3000,32] = cos(2 * pi * i / (T/(k^5)))\n",
    "        data_arr[i-3000,33] = cos(2 * pi * i / (T/(k^6))) \n",
    "        data_arr[i-3000,34] = cos(2 * pi * i / (T/(k^7)))\n",
    "        data_arr[i-3000,35] = cos(2 * pi * i / (T/(k^8)))\n",
    "    end\n",
    "    \n",
    "    pred = data_arr * model;\n",
    "    new_v[3001:4000] = pred;\n",
    "    new_v = floor.(new_v)\n",
    "    new_v = Int.(new_v)\n",
    "    return new_v\n",
    "end"
   ]
  },
  {
   "cell_type": "code",
   "execution_count": 29,
   "metadata": {},
   "outputs": [],
   "source": [
    "v1_new = create_new_curve(v1,model1,T1);\n",
    "v2_new = create_new_curve(v2,model2,T2);"
   ]
  },
  {
   "cell_type": "code",
   "execution_count": 30,
   "metadata": {},
   "outputs": [
    {
     "data": {
      "text/plain": [
       "(4000, 4000)"
      ]
     },
     "execution_count": 30,
     "metadata": {},
     "output_type": "execute_result"
    }
   ],
   "source": [
    "v1_new[3000], v1_new[3001]"
   ]
  },
  {
   "cell_type": "code",
   "execution_count": 43,
   "metadata": {},
   "outputs": [],
   "source": [
    "plot(v1_new, title= \"fitted curve for v1\", grid = true , xlabel  = \"x axis\", ylabel = \"y axis\" , label = \"v1\")\n",
    "savefig(\"V1_curve.png\")"
   ]
  },
  {
   "cell_type": "code",
   "execution_count": 44,
   "metadata": {},
   "outputs": [],
   "source": [
    "plot(v2_new, title= \"fitted curve for v2\", grid = true , xlabel  = \"x axis\", ylabel = \"y axis\", label = \"v2\")\n",
    "savefig(\"V2_curve.png\")"
   ]
  },
  {
   "cell_type": "code",
   "execution_count": 34,
   "metadata": {},
   "outputs": [],
   "source": [
    "New_A = zeros(6000,5000)\n",
    "for i = 1:4000\n",
    "    New_A[v1_new[i]-15:v1_new[i]+15,1000+i] .= 1\n",
    "    New_A[v2_new[i]-15:v2_new[i]+15,1000+i] .= 1\n",
    "end\n",
    "gr()\n",
    "heatmap(New_A, yflip=true, aspect_ratio=:equal, color=:gist_gray, cbar=:none,framestyle=:none)\n",
    "#savefig(\"Reconstructed_Image.png\")"
   ]
  },
  {
   "cell_type": "code",
   "execution_count": 59,
   "metadata": {},
   "outputs": [],
   "source": [
    "v2_true = zeros(1000)\n",
    "r = 2000\n",
    "c = [3000,3000]\n",
    "for i = 1 : 1000\n",
    "    x = i + 4000\n",
    "    y = c[2] + (r^2 - (x-c[1])^2)^0.5\n",
    "    v2_true[i] = y\n",
    "end"
   ]
  },
  {
   "cell_type": "code",
   "execution_count": 60,
   "metadata": {},
   "outputs": [
    {
     "data": {
      "text/plain": [
       "3000.0"
      ]
     },
     "execution_count": 60,
     "metadata": {},
     "output_type": "execute_result"
    }
   ],
   "source": [
    "v2_true[1000]"
   ]
  },
  {
   "cell_type": "code",
   "execution_count": 69,
   "metadata": {},
   "outputs": [],
   "source": [
    "plot(v2_true, title= \"True value for v2 in image C curve\", grid = true , xlabel  = \"x axis\", ylabel = \"y axis\" , label = \"v2\")\n",
    "plot!(v2_new[3001:4000], label = \"v2'\")\n",
    "savefig(\"V2_curve_in_C.png\")"
   ]
  },
  {
   "cell_type": "code",
   "execution_count": 66,
   "metadata": {},
   "outputs": [
    {
     "name": "stdout",
     "output_type": "stream",
     "text": [
      "Root mean squared loss of fitted curve on v2 in image C is 11.732622212519468\n"
     ]
    }
   ],
   "source": [
    "Error = (sum(abs.(v2_true - v2_new[3001:4000]))/1000)^0.5\n",
    "println(\"Root mean squared loss of fitted curve on v2 in image C is \", string(Error))"
   ]
  },
  {
   "cell_type": "code",
   "execution_count": null,
   "metadata": {},
   "outputs": [],
   "source": []
  }
 ],
 "metadata": {
  "kernelspec": {
   "display_name": "Julia 1.7.2",
   "language": "julia",
   "name": "julia-1.7"
  },
  "language_info": {
   "file_extension": ".jl",
   "mimetype": "application/julia",
   "name": "julia",
   "version": "1.7.2"
  }
 },
 "nbformat": 4,
 "nbformat_minor": 4
}
