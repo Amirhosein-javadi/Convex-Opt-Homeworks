{
 "cells": [
  {
   "cell_type": "code",
   "execution_count": 25,
   "id": "73b1be61",
   "metadata": {},
   "outputs": [],
   "source": [
    "using JuMP\n",
    "using GLPK\n",
    "using CPUTime\n",
    "using Statistics\n"
   ]
  },
  {
   "cell_type": "code",
   "execution_count": 26,
   "id": "dfd6f9ad",
   "metadata": {},
   "outputs": [
    {
     "data": {
      "text/latex": [
       "$$ \\begin{alignat*}{1}\\text{feasibility}\\\\\n",
       "\\text{Subject to} \\quad\\end{alignat*}\n",
       " $$"
      ],
      "text/plain": [
       "A JuMP Model\n",
       "Feasibility problem with:\n",
       "Variables: 0\n",
       "Model mode: AUTOMATIC\n",
       "CachingOptimizer state: EMPTY_OPTIMIZER\n",
       "Solver name: GLPK"
      ]
     },
     "execution_count": 26,
     "metadata": {},
     "output_type": "execute_result"
    }
   ],
   "source": [
    "model = Model(GLPK.Optimizer)"
   ]
  },
  {
   "cell_type": "code",
   "execution_count": 27,
   "id": "37a5acc7",
   "metadata": {},
   "outputs": [
    {
     "data": {
      "text/plain": [
       "10.0"
      ]
     },
     "execution_count": 27,
     "metadata": {},
     "output_type": "execute_result"
    }
   ],
   "source": [
    "# number of nurses\n",
    "N = 15\n",
    "# number of days\n",
    "T = 7\n",
    "# number of shifts = 3\n",
    "\n",
    "# standard number of hours by contract per nurse\n",
    "k=floor(T/7)\n",
    "H_base = 36\n",
    "H = [H_base*k for item in 1:N]\n",
    "# maximum number of hours for each nurse\n",
    "H_max = 60*k\n",
    "\n",
    "# number of nurses required per shift and duration of each shift\n",
    "\n",
    "R = [6; 5; 4]\n",
    "h = [7; 8; 9]\n",
    "\n",
    "# list of nurses that on the last day of the previous period covered  the night shift\n",
    "p_list= [1] #can be adjusted differently\n",
    "# array with the values of p per each nurse and update the dictionary with p_list\n",
    "p = zeros(N)\n",
    "for item in p_list\n",
    "    p[item]=1\n",
    "end\n",
    "\n",
    "# wages\n",
    "w = ones(N) #can be adjusted differently\n",
    "# rho must be greater than max(w[i]*h[s]) for all i and all s\n",
    "rho = maximum(w*h')+1"
   ]
  },
  {
   "cell_type": "code",
   "execution_count": 28,
   "id": "b4115ee7",
   "metadata": {
    "scrolled": true
   },
   "outputs": [
    {
     "data": {
      "text/plain": [
       "3×7 Matrix{VariableRef}:\n",
       " alpha[1,1]  alpha[1,2]  alpha[1,3]  …  alpha[1,5]  alpha[1,6]  alpha[1,7]\n",
       " alpha[2,1]  alpha[2,2]  alpha[2,3]     alpha[2,5]  alpha[2,6]  alpha[2,7]\n",
       " alpha[3,1]  alpha[3,2]  alpha[3,3]     alpha[3,5]  alpha[3,6]  alpha[3,7]"
      ]
     },
     "execution_count": 28,
     "metadata": {},
     "output_type": "execute_result"
    }
   ],
   "source": [
    "# create the variables\n",
    "@variable(model, x[1:N, 1:3, 1:T], Bin)\n",
    "@variable(model, alpha[1:3, 1:T])\n"
   ]
  },
  {
   "cell_type": "code",
   "execution_count": 29,
   "id": "31410d08",
   "metadata": {
    "scrolled": true
   },
   "outputs": [],
   "source": [
    "###is_binary.(alpha)\n",
    "###delete.(model, c_1)\n",
    "###unregister.(model, C_1)"
   ]
  },
  {
   "cell_type": "code",
   "execution_count": 30,
   "id": "da959691",
   "metadata": {},
   "outputs": [
    {
     "data": {
      "text/latex": [
       "$$ 7 x_{1,1,1} + 7 x_{1,1,2} + 7 x_{1,1,3} + 7 x_{1,1,4} + 7 x_{1,1,5} + 7 x_{1,1,6} + 7 x_{1,1,7} + 8 x_{1,2,1} + 8 x_{1,2,2} + 8 x_{1,2,3} + 8 x_{1,2,4} + 8 x_{1,2,5} + 8 x_{1,2,6} + 8 x_{1,2,7} + 9 x_{1,3,1} + 9 x_{1,3,2} + 9 x_{1,3,3} + 9 x_{1,3,4} + 9 x_{1,3,5} + 9 x_{1,3,6} + 9 x_{1,3,7} + 7 x_{2,1,1} + 7 x_{2,1,2} + 7 x_{2,1,3} + 7 x_{2,1,4} + 7 x_{2,1,5} + 7 x_{2,1,6} + 7 x_{2,1,7} + 8 x_{2,2,1} + 8 x_{2,2,2} + 8 x_{2,2,3} + 8 x_{2,2,4} + 8 x_{2,2,5} + 8 x_{2,2,6} + 8 x_{2,2,7} + 9 x_{2,3,1} + 9 x_{2,3,2} + 9 x_{2,3,3} + 9 x_{2,3,4} + 9 x_{2,3,5} + 9 x_{2,3,6} + 9 x_{2,3,7} + 7 x_{3,1,1} + 7 x_{3,1,2} + 7 x_{3,1,3} + 7 x_{3,1,4} + 7 x_{3,1,5} + 7 x_{3,1,6} + 7 x_{3,1,7} + 8 x_{3,2,1} + 8 x_{3,2,2} + 8 x_{3,2,3} + 8 x_{3,2,4} + 8 x_{3,2,5} + 8 x_{3,2,6} + 8 x_{3,2,7} + 9 x_{3,3,1} + 9 x_{3,3,2} + 9 x_{3,3,3} + 9 x_{3,3,4} + 9 x_{3,3,5} + 9 x_{3,3,6} + 9 x_{3,3,7} + 7 x_{4,1,1} + 7 x_{4,1,2} + 7 x_{4,1,3} + 7 x_{4,1,4} + 7 x_{4,1,5} + 7 x_{4,1,6} + 7 x_{4,1,7} + 8 x_{4,2,1} + 8 x_{4,2,2} + 8 x_{4,2,3} + 8 x_{4,2,4} + 8 x_{4,2,5} + 8 x_{4,2,6} + 8 x_{4,2,7} + 9 x_{4,3,1} + 9 x_{4,3,2} + 9 x_{4,3,3} + 9 x_{4,3,4} + 9 x_{4,3,5} + 9 x_{4,3,6} + 9 x_{4,3,7} + 7 x_{5,1,1} + 7 x_{5,1,2} + 7 x_{5,1,3} + 7 x_{5,1,4} + 7 x_{5,1,5} + 7 x_{5,1,6} + 7 x_{5,1,7} + 8 x_{5,2,1} + 8 x_{5,2,2} + 8 x_{5,2,3} + 8 x_{5,2,4} + 8 x_{5,2,5} + 8 x_{5,2,6} + 8 x_{5,2,7} + 9 x_{5,3,1} + 9 x_{5,3,2} + 9 x_{5,3,3} + 9 x_{5,3,4} + 9 x_{5,3,5} + 9 x_{5,3,6} + 9 x_{5,3,7} + 7 x_{6,1,1} + 7 x_{6,1,2} + 7 x_{6,1,3} + 7 x_{6,1,4} + 7 x_{6,1,5} + 7 x_{6,1,6} + 7 x_{6,1,7} + 8 x_{6,2,1} + 8 x_{6,2,2} + 8 x_{6,2,3} + 8 x_{6,2,4} + 8 x_{6,2,5} + 8 x_{6,2,6} + 8 x_{6,2,7} + 9 x_{6,3,1} + 9 x_{6,3,2} + 9 x_{6,3,3} + 9 x_{6,3,4} + 9 x_{6,3,5} + 9 x_{6,3,6} + 9 x_{6,3,7} + 7 x_{7,1,1} + 7 x_{7,1,2} + 7 x_{7,1,3} + 7 x_{7,1,4} + 7 x_{7,1,5} + 7 x_{7,1,6} + 7 x_{7,1,7} + 8 x_{7,2,1} + 8 x_{7,2,2} + 8 x_{7,2,3} + 8 x_{7,2,4} + 8 x_{7,2,5} + 8 x_{7,2,6} + 8 x_{7,2,7} + 9 x_{7,3,1} + 9 x_{7,3,2} + 9 x_{7,3,3} + 9 x_{7,3,4} + 9 x_{7,3,5} + 9 x_{7,3,6} + 9 x_{7,3,7} + 7 x_{8,1,1} + 7 x_{8,1,2} + 7 x_{8,1,3} + 7 x_{8,1,4} + 7 x_{8,1,5} + 7 x_{8,1,6} + 7 x_{8,1,7} + 8 x_{8,2,1} + 8 x_{8,2,2} + 8 x_{8,2,3} + 8 x_{8,2,4} + 8 x_{8,2,5} + 8 x_{8,2,6} + 8 x_{8,2,7} + 9 x_{8,3,1} + 9 x_{8,3,2} + 9 x_{8,3,3} + 9 x_{8,3,4} + 9 x_{8,3,5} + 9 x_{8,3,6} + 9 x_{8,3,7} + 7 x_{9,1,1} + 7 x_{9,1,2} + 7 x_{9,1,3} + 7 x_{9,1,4} + 7 x_{9,1,5} + 7 x_{9,1,6} + 7 x_{9,1,7} + 8 x_{9,2,1} + 8 x_{9,2,2} + 8 x_{9,2,3} + 8 x_{9,2,4} + 8 x_{9,2,5} + 8 x_{9,2,6} + 8 x_{9,2,7} + 9 x_{9,3,1} + 9 x_{9,3,2} + 9 x_{9,3,3} + 9 x_{9,3,4} + 9 x_{9,3,5} + 9 x_{9,3,6} + 9 x_{9,3,7} + 7 x_{10,1,1} + 7 x_{10,1,2} + 7 x_{10,1,3} + 7 x_{10,1,4} + 7 x_{10,1,5} + 7 x_{10,1,6} + 7 x_{10,1,7} + 8 x_{10,2,1} + 8 x_{10,2,2} + 8 x_{10,2,3} + 8 x_{10,2,4} + 8 x_{10,2,5} + 8 x_{10,2,6} + 8 x_{10,2,7} + 9 x_{10,3,1} + 9 x_{10,3,2} + 9 x_{10,3,3} + 9 x_{10,3,4} + 9 x_{10,3,5} + 9 x_{10,3,6} + 9 x_{10,3,7} + 7 x_{11,1,1} + 7 x_{11,1,2} + 7 x_{11,1,3} + 7 x_{11,1,4} + 7 x_{11,1,5} + 7 x_{11,1,6} + 7 x_{11,1,7} + 8 x_{11,2,1} + 8 x_{11,2,2} + 8 x_{11,2,3} + 8 x_{11,2,4} + 8 x_{11,2,5} + 8 x_{11,2,6} + 8 x_{11,2,7} + 9 x_{11,3,1} + 9 x_{11,3,2} + 9 x_{11,3,3} + 9 x_{11,3,4} + 9 x_{11,3,5} + 9 x_{11,3,6} + 9 x_{11,3,7} + 7 x_{12,1,1} + 7 x_{12,1,2} + 7 x_{12,1,3} + 7 x_{12,1,4} + 7 x_{12,1,5} + 7 x_{12,1,6} + 7 x_{12,1,7} + 8 x_{12,2,1} + 8 x_{12,2,2} + 8 x_{12,2,3} + 8 x_{12,2,4} + 8 x_{12,2,5} + 8 x_{12,2,6} + 8 x_{12,2,7} + 9 x_{12,3,1} + 9 x_{12,3,2} + 9 x_{12,3,3} + 9 x_{12,3,4} + 9 x_{12,3,5} + 9 x_{12,3,6} + 9 x_{12,3,7} + 7 x_{13,1,1} + 7 x_{13,1,2} + 7 x_{13,1,3} + 7 x_{13,1,4} + 7 x_{13,1,5} + 7 x_{13,1,6} + 7 x_{13,1,7} + 8 x_{13,2,1} + 8 x_{13,2,2} + 8 x_{13,2,3} + 8 x_{13,2,4} + 8 x_{13,2,5} + 8 x_{13,2,6} + 8 x_{13,2,7} + 9 x_{13,3,1} + 9 x_{13,3,2} + 9 x_{13,3,3} + 9 x_{13,3,4} + 9 x_{13,3,5} + 9 x_{13,3,6} + 9 x_{13,3,7} + 7 x_{14,1,1} + 7 x_{14,1,2} + 7 x_{14,1,3} + 7 x_{14,1,4} + 7 x_{14,1,5} + 7 x_{14,1,6} + 7 x_{14,1,7} + 8 x_{14,2,1} + 8 x_{14,2,2} + 8 x_{14,2,3} + 8 x_{14,2,4} + 8 x_{14,2,5} + 8 x_{14,2,6} + 8 x_{14,2,7} + 9 x_{14,3,1} + 9 x_{14,3,2} + 9 x_{14,3,3} + 9 x_{14,3,4} + 9 x_{14,3,5} + 9 x_{14,3,6} + 9 x_{14,3,7} + 7 x_{15,1,1} + 7 x_{15,1,2} + 7 x_{15,1,3} + 7 x_{15,1,4} + 7 x_{15,1,5} + 7 x_{15,1,6} + 7 x_{15,1,7} + 8 x_{15,2,1} + 8 x_{15,2,2} + 8 x_{15,2,3} + 8 x_{15,2,4} + 8 x_{15,2,5} + 8 x_{15,2,6} + 8 x_{15,2,7} + 9 x_{15,3,1} + 9 x_{15,3,2} + 9 x_{15,3,3} + 9 x_{15,3,4} + 9 x_{15,3,5} + 9 x_{15,3,6} + 9 x_{15,3,7} + 10 alpha_{1,1} + 10 alpha_{1,2} + 10 alpha_{1,3} + 10 alpha_{1,4} + 10 alpha_{1,5} + 10 alpha_{1,6} + 10 alpha_{1,7} + 10 alpha_{2,1} + 10 alpha_{2,2} + 10 alpha_{2,3} + 10 alpha_{2,4} + 10 alpha_{2,5} + 10 alpha_{2,6} + 10 alpha_{2,7} + 10 alpha_{3,1} + 10 alpha_{3,2} + 10 alpha_{3,3} + 10 alpha_{3,4} + 10 alpha_{3,5} + 10 alpha_{3,6} + 10 alpha_{3,7} $$"
      ],
      "text/plain": [
       "7 x[1,1,1] + 7 x[1,1,2] + 7 x[1,1,3] + 7 x[1,1,4] + 7 x[1,1,5] + 7 x[1,1,6] + 7 x[1,1,7] + 8 x[1,2,1] + 8 x[1,2,2] + 8 x[1,2,3] + 8 x[1,2,4] + 8 x[1,2,5] + 8 x[1,2,6] + 8 x[1,2,7] + 9 x[1,3,1] + 9 x[1,3,2] + 9 x[1,3,3] + 9 x[1,3,4] + 9 x[1,3,5] + 9 x[1,3,6] + 9 x[1,3,7] + 7 x[2,1,1] + 7 x[2,1,2] + 7 x[2,1,3] + 7 x[2,1,4] + 7 x[2,1,5] + 7 x[2,1,6] + 7 x[2,1,7] + 8 x[2,2,1] + 8 x[2,2,2] + 8 x[2,2,3] + 8 x[2,2,4] + 8 x[2,2,5] + 8 x[2,2,6] + 8 x[2,2,7] + 9 x[2,3,1] + 9 x[2,3,2] + 9 x[2,3,3] + 9 x[2,3,4] + 9 x[2,3,5] + 9 x[2,3,6] + 9 x[2,3,7] + 7 x[3,1,1] + 7 x[3,1,2] + 7 x[3,1,3] + 7 x[3,1,4] + 7 x[3,1,5] + 7 x[3,1,6] + 7 x[3,1,7] + 8 x[3,2,1] + 8 x[3,2,2] + 8 x[3,2,3] + 8 x[3,2,4] + 8 x[3,2,5] + 8 x[3,2,6] + 8 x[3,2,7] + 9 x[3,3,1] + 9 x[3,3,2] + 9 x[3,3,3] + 9 x[3,3,4] + 9 x[3,3,5] + 9 x[3,3,6] + 9 x[3,3,7] + 7 x[4,1,1] + 7 x[4,1,2] + 7 x[4,1,3] + 7 x[4,1,4] + 7 x[4,1,5] + 7 x[4,1,6] + 7 x[4,1,7] + 8 x[4,2,1] + 8 x[4,2,2] + 8 x[4,2,3] + 8 x[4,2,4] + 8 x[4,2,5] + 8 x[4,2,6] + 8 x[4,2,7] + 9 x[4,3,1] + 9 x[4,3,2] + 9 x[4,3,3] + 9 x[4,3,4] + 9 x[4,3,5] + 9 x[4,3,6] + 9 x[4,3,7] + 7 x[5,1,1] + 7 x[5,1,2] + 7 x[5,1,3] + 7 x[5,1,4] + 7 x[5,1,5] + 7 x[5,1,6] + 7 x[5,1,7] + 8 x[5,2,1] + 8 x[5,2,2] + 8 x[5,2,3] + 8 x[5,2,4] + 8 x[5,2,5] + 8 x[5,2,6] + 8 x[5,2,7] + 9 x[5,3,1] + 9 x[5,3,2] + 9 x[5,3,3] + 9 x[5,3,4] + 9 x[5,3,5] + 9 x[5,3,6] + 9 x[5,3,7] + 7 x[6,1,1] + 7 x[6,1,2] + 7 x[6,1,3] + 7 x[6,1,4] + 7 x[6,1,5] + 7 x[6,1,6] + 7 x[6,1,7] + 8 x[6,2,1] + 8 x[6,2,2] + 8 x[6,2,3] + 8 x[6,2,4] + 8 x[6,2,5] + 8 x[6,2,6] + 8 x[6,2,7] + 9 x[6,3,1] + 9 x[6,3,2] + 9 x[6,3,3] + 9 x[6,3,4] + 9 x[6,3,5] + 9 x[6,3,6] + 9 x[6,3,7] + 7 x[7,1,1] + 7 x[7,1,2] + 7 x[7,1,3] + 7 x[7,1,4] + 7 x[7,1,5] + 7 x[7,1,6] + 7 x[7,1,7] + 8 x[7,2,1] + 8 x[7,2,2] + 8 x[7,2,3] + 8 x[7,2,4] + 8 x[7,2,5] + 8 x[7,2,6] + 8 x[7,2,7] + 9 x[7,3,1] + 9 x[7,3,2] + 9 x[7,3,3] + 9 x[7,3,4] + 9 x[7,3,5] + 9 x[7,3,6] + 9 x[7,3,7] + 7 x[8,1,1] + 7 x[8,1,2] + 7 x[8,1,3] + 7 x[8,1,4] + 7 x[8,1,5] + 7 x[8,1,6] + 7 x[8,1,7] + 8 x[8,2,1] + 8 x[8,2,2] + 8 x[8,2,3] + 8 x[8,2,4] + 8 x[8,2,5] + 8 x[8,2,6] + 8 x[8,2,7] + 9 x[8,3,1] + 9 x[8,3,2] + 9 x[8,3,3] + 9 x[8,3,4] + 9 x[8,3,5] + 9 x[8,3,6] + 9 x[8,3,7] + 7 x[9,1,1] + 7 x[9,1,2] + 7 x[9,1,3] + 7 x[9,1,4] + 7 x[9,1,5] + 7 x[9,1,6] + 7 x[9,1,7] + 8 x[9,2,1] + 8 x[9,2,2] + 8 x[9,2,3] + 8 x[9,2,4] + 8 x[9,2,5] + 8 x[9,2,6] + 8 x[9,2,7] + 9 x[9,3,1] + 9 x[9,3,2] + 9 x[9,3,3] + 9 x[9,3,4] + 9 x[9,3,5] + 9 x[9,3,6] + 9 x[9,3,7] + 7 x[10,1,1] + 7 x[10,1,2] + 7 x[10,1,3] + 7 x[10,1,4] + 7 x[10,1,5] + 7 x[10,1,6] + 7 x[10,1,7] + 8 x[10,2,1] + 8 x[10,2,2] + 8 x[10,2,3] + 8 x[10,2,4] + 8 x[10,2,5] + 8 x[10,2,6] + 8 x[10,2,7] + 9 x[10,3,1] + 9 x[10,3,2] + 9 x[10,3,3] + 9 x[10,3,4] + 9 x[10,3,5] + 9 x[10,3,6] + 9 x[10,3,7] + 7 x[11,1,1] + 7 x[11,1,2] + 7 x[11,1,3] + 7 x[11,1,4] + 7 x[11,1,5] + 7 x[11,1,6] + 7 x[11,1,7] + 8 x[11,2,1] + 8 x[11,2,2] + 8 x[11,2,3] + 8 x[11,2,4] + 8 x[11,2,5] + 8 x[11,2,6] + 8 x[11,2,7] + 9 x[11,3,1] + 9 x[11,3,2] + 9 x[11,3,3] + 9 x[11,3,4] + 9 x[11,3,5] + 9 x[11,3,6] + 9 x[11,3,7] + 7 x[12,1,1] + 7 x[12,1,2] + 7 x[12,1,3] + 7 x[12,1,4] + 7 x[12,1,5] + 7 x[12,1,6] + 7 x[12,1,7] + 8 x[12,2,1] + 8 x[12,2,2] + 8 x[12,2,3] + 8 x[12,2,4] + 8 x[12,2,5] + 8 x[12,2,6] + 8 x[12,2,7] + 9 x[12,3,1] + 9 x[12,3,2] + 9 x[12,3,3] + 9 x[12,3,4] + 9 x[12,3,5] + 9 x[12,3,6] + 9 x[12,3,7] + 7 x[13,1,1] + 7 x[13,1,2] + 7 x[13,1,3] + 7 x[13,1,4] + 7 x[13,1,5] + 7 x[13,1,6] + 7 x[13,1,7] + 8 x[13,2,1] + 8 x[13,2,2] + 8 x[13,2,3] + 8 x[13,2,4] + 8 x[13,2,5] + 8 x[13,2,6] + 8 x[13,2,7] + 9 x[13,3,1] + 9 x[13,3,2] + 9 x[13,3,3] + 9 x[13,3,4] + 9 x[13,3,5] + 9 x[13,3,6] + 9 x[13,3,7] + 7 x[14,1,1] + 7 x[14,1,2] + 7 x[14,1,3] + 7 x[14,1,4] + 7 x[14,1,5] + 7 x[14,1,6] + 7 x[14,1,7] + 8 x[14,2,1] + 8 x[14,2,2] + 8 x[14,2,3] + 8 x[14,2,4] + 8 x[14,2,5] + 8 x[14,2,6] + 8 x[14,2,7] + 9 x[14,3,1] + 9 x[14,3,2] + 9 x[14,3,3] + 9 x[14,3,4] + 9 x[14,3,5] + 9 x[14,3,6] + 9 x[14,3,7] + 7 x[15,1,1] + 7 x[15,1,2] + 7 x[15,1,3] + 7 x[15,1,4] + 7 x[15,1,5] + 7 x[15,1,6] + 7 x[15,1,7] + 8 x[15,2,1] + 8 x[15,2,2] + 8 x[15,2,3] + 8 x[15,2,4] + 8 x[15,2,5] + 8 x[15,2,6] + 8 x[15,2,7] + 9 x[15,3,1] + 9 x[15,3,2] + 9 x[15,3,3] + 9 x[15,3,4] + 9 x[15,3,5] + 9 x[15,3,6] + 9 x[15,3,7] + 10 alpha[1,1] + 10 alpha[1,2] + 10 alpha[1,3] + 10 alpha[1,4] + 10 alpha[1,5] + 10 alpha[1,6] + 10 alpha[1,7] + 10 alpha[2,1] + 10 alpha[2,2] + 10 alpha[2,3] + 10 alpha[2,4] + 10 alpha[2,5] + 10 alpha[2,6] + 10 alpha[2,7] + 10 alpha[3,1] + 10 alpha[3,2] + 10 alpha[3,3] + 10 alpha[3,4] + 10 alpha[3,5] + 10 alpha[3,6] + 10 alpha[3,7]"
      ]
     },
     "execution_count": 30,
     "metadata": {},
     "output_type": "execute_result"
    }
   ],
   "source": [
    "# objective function definition\n",
    "@objective(model, Min, sum(x[i,s,t]*h[s]*w[i] for i in 1:N for s in 1:3 for t in 1:T) \n",
    "    + rho*sum(alpha[s,t] for s in 1:3 for t in 1:T))\n"
   ]
  },
  {
   "cell_type": "code",
   "execution_count": 31,
   "id": "4a5b33dc",
   "metadata": {},
   "outputs": [
    {
     "data": {
      "text/plain": [
       "15×7 Matrix{ConstraintRef{Model, MathOptInterface.ConstraintIndex{MathOptInterface.ScalarAffineFunction{Float64}, MathOptInterface.LessThan{Float64}}, ScalarShape}}:\n",
       " x[1,1,1] + x[1,2,1] + x[1,3,1] <= 1.0     …  x[1,1,7] + x[1,2,7] + x[1,3,7] <= 1.0\n",
       " x[2,1,1] + x[2,2,1] + x[2,3,1] <= 1.0        x[2,1,7] + x[2,2,7] + x[2,3,7] <= 1.0\n",
       " x[3,1,1] + x[3,2,1] + x[3,3,1] <= 1.0        x[3,1,7] + x[3,2,7] + x[3,3,7] <= 1.0\n",
       " x[4,1,1] + x[4,2,1] + x[4,3,1] <= 1.0        x[4,1,7] + x[4,2,7] + x[4,3,7] <= 1.0\n",
       " x[5,1,1] + x[5,2,1] + x[5,3,1] <= 1.0        x[5,1,7] + x[5,2,7] + x[5,3,7] <= 1.0\n",
       " x[6,1,1] + x[6,2,1] + x[6,3,1] <= 1.0     …  x[6,1,7] + x[6,2,7] + x[6,3,7] <= 1.0\n",
       " x[7,1,1] + x[7,2,1] + x[7,3,1] <= 1.0        x[7,1,7] + x[7,2,7] + x[7,3,7] <= 1.0\n",
       " x[8,1,1] + x[8,2,1] + x[8,3,1] <= 1.0        x[8,1,7] + x[8,2,7] + x[8,3,7] <= 1.0\n",
       " x[9,1,1] + x[9,2,1] + x[9,3,1] <= 1.0        x[9,1,7] + x[9,2,7] + x[9,3,7] <= 1.0\n",
       " x[10,1,1] + x[10,2,1] + x[10,3,1] <= 1.0     x[10,1,7] + x[10,2,7] + x[10,3,7] <= 1.0\n",
       " x[11,1,1] + x[11,2,1] + x[11,3,1] <= 1.0  …  x[11,1,7] + x[11,2,7] + x[11,3,7] <= 1.0\n",
       " x[12,1,1] + x[12,2,1] + x[12,3,1] <= 1.0     x[12,1,7] + x[12,2,7] + x[12,3,7] <= 1.0\n",
       " x[13,1,1] + x[13,2,1] + x[13,3,1] <= 1.0     x[13,1,7] + x[13,2,7] + x[13,3,7] <= 1.0\n",
       " x[14,1,1] + x[14,2,1] + x[14,3,1] <= 1.0     x[14,1,7] + x[14,2,7] + x[14,3,7] <= 1.0\n",
       " x[15,1,1] + x[15,2,1] + x[15,3,1] <= 1.0     x[15,1,7] + x[15,2,7] + x[15,3,7] <= 1.0"
      ]
     },
     "execution_count": 31,
     "metadata": {},
     "output_type": "execute_result"
    }
   ],
   "source": [
    "#constraints\n",
    "@constraint(model, a_1, sum(x[:,s,:] for s in 1:3).<=1 )"
   ]
  },
  {
   "cell_type": "code",
   "execution_count": 32,
   "id": "f8e1dd87",
   "metadata": {},
   "outputs": [
    {
     "data": {
      "text/plain": [
       "3×7 Matrix{ConstraintRef{Model, MathOptInterface.ConstraintIndex{MathOptInterface.ScalarAffineFunction{Float64}, MathOptInterface.EqualTo{Float64}}, ScalarShape}}:\n",
       " x[1,1,1] + x[2,1,1] + x[3,1,1] + x[4,1,1] + x[5,1,1] + x[6,1,1] + x[7,1,1] + x[8,1,1] + x[9,1,1] + x[10,1,1] + x[11,1,1] + x[12,1,1] + x[13,1,1] + x[14,1,1] + x[15,1,1] + alpha[1,1] == 6.0  …  x[1,1,7] + x[2,1,7] + x[3,1,7] + x[4,1,7] + x[5,1,7] + x[6,1,7] + x[7,1,7] + x[8,1,7] + x[9,1,7] + x[10,1,7] + x[11,1,7] + x[12,1,7] + x[13,1,7] + x[14,1,7] + x[15,1,7] + alpha[1,7] == 6.0\n",
       " x[1,2,1] + x[2,2,1] + x[3,2,1] + x[4,2,1] + x[5,2,1] + x[6,2,1] + x[7,2,1] + x[8,2,1] + x[9,2,1] + x[10,2,1] + x[11,2,1] + x[12,2,1] + x[13,2,1] + x[14,2,1] + x[15,2,1] + alpha[2,1] == 5.0     x[1,2,7] + x[2,2,7] + x[3,2,7] + x[4,2,7] + x[5,2,7] + x[6,2,7] + x[7,2,7] + x[8,2,7] + x[9,2,7] + x[10,2,7] + x[11,2,7] + x[12,2,7] + x[13,2,7] + x[14,2,7] + x[15,2,7] + alpha[2,7] == 5.0\n",
       " x[1,3,1] + x[2,3,1] + x[3,3,1] + x[4,3,1] + x[5,3,1] + x[6,3,1] + x[7,3,1] + x[8,3,1] + x[9,3,1] + x[10,3,1] + x[11,3,1] + x[12,3,1] + x[13,3,1] + x[14,3,1] + x[15,3,1] + alpha[3,1] == 4.0     x[1,3,7] + x[2,3,7] + x[3,3,7] + x[4,3,7] + x[5,3,7] + x[6,3,7] + x[7,3,7] + x[8,3,7] + x[9,3,7] + x[10,3,7] + x[11,3,7] + x[12,3,7] + x[13,3,7] + x[14,3,7] + x[15,3,7] + alpha[3,7] == 4.0"
      ]
     },
     "execution_count": 32,
     "metadata": {},
     "output_type": "execute_result"
    }
   ],
   "source": [
    "@constraint(model, b_1, sum(x[i,:,:] for i in 1:N) + alpha[:,:] .== R*(ones(T))')"
   ]
  },
  {
   "cell_type": "code",
   "execution_count": 33,
   "id": "87273d50",
   "metadata": {},
   "outputs": [
    {
     "data": {
      "text/plain": [
       "3×7 Matrix{ConstraintRef{Model, MathOptInterface.ConstraintIndex{MathOptInterface.ScalarAffineFunction{Float64}, MathOptInterface.GreaterThan{Float64}}, ScalarShape}}:\n",
       " alpha[1,1] >= 0.0  alpha[1,2] >= 0.0  …  alpha[1,7] >= 0.0\n",
       " alpha[2,1] >= 0.0  alpha[2,2] >= 0.0     alpha[2,7] >= 0.0\n",
       " alpha[3,1] >= 0.0  alpha[3,2] >= 0.0     alpha[3,7] >= 0.0"
      ]
     },
     "execution_count": 33,
     "metadata": {},
     "output_type": "execute_result"
    }
   ],
   "source": [
    "@constraint(model, c_1, sum(x[:,s,t]*h[s] for s in 1:3 for t in 1:T).>= H)\n",
    "@constraint(model, d_1, sum(x[:,s,t]*h[s] for s in 1:3 for t in 1:T).<= H_max)\n",
    "@constraint(model, e_1, x[:, 3, 1:T-1] + sum(x[:,s,2:T] for s in 1:3).<= 1)\n",
    "@constraint(model, f_1, sum(x[:,s,1] for s in 1:3).<= (1 .- p))\n",
    "@constraint(model, g_1, alpha[:,:] .>= 0)\n"
   ]
  },
  {
   "cell_type": "code",
   "execution_count": 34,
   "id": "e94e7ec0",
   "metadata": {},
   "outputs": [],
   "source": [
    "optimize!(model)"
   ]
  },
  {
   "cell_type": "code",
   "execution_count": 35,
   "id": "ea079463",
   "metadata": {},
   "outputs": [
    {
     "name": "stdout",
     "output_type": "stream",
     "text": [
      "\n",
      "The solver stopped because: \n",
      "termination_status(model) = MathOptInterface.OPTIMAL\n"
     ]
    },
    {
     "data": {
      "text/plain": [
       "OPTIMAL::TerminationStatusCode = 1"
      ]
     },
     "execution_count": 35,
     "metadata": {},
     "output_type": "execute_result"
    }
   ],
   "source": [
    "println()\n",
    "println(\"The solver stopped because: \")\n",
    "@show termination_status(model)# run it in ipynb file to get userfriendly result"
   ]
  },
  {
   "cell_type": "code",
   "execution_count": 36,
   "id": "f3d52df5",
   "metadata": {},
   "outputs": [
    {
     "name": "stdout",
     "output_type": "stream",
     "text": [
      "\n",
      "to see if the solver found a primal feasible point:\n",
      "primal_status(model) = MathOptInterface.FEASIBLE_POINT\n"
     ]
    },
    {
     "data": {
      "text/plain": [
       "FEASIBLE_POINT::ResultStatusCode = 1"
      ]
     },
     "execution_count": 36,
     "metadata": {},
     "output_type": "execute_result"
    }
   ],
   "source": [
    "println()\n",
    "println(\"to see if the solver found a primal feasible point:\")\n",
    "@show primal_status(model)# run it in ipynb file to get userfriendly result"
   ]
  },
  {
   "cell_type": "code",
   "execution_count": 37,
   "id": "0b4fd088",
   "metadata": {},
   "outputs": [
    {
     "name": "stdout",
     "output_type": "stream",
     "text": [
      "\n",
      "minimum cost:\n",
      "objective_value(model) = 839.0\n"
     ]
    },
    {
     "data": {
      "text/plain": [
       "839.0"
      ]
     },
     "execution_count": 37,
     "metadata": {},
     "output_type": "execute_result"
    }
   ],
   "source": [
    "println()\n",
    "println(\"minimum cost:\")\n",
    "@show objective_value(model)# run it in ipynb file to get userfriendly result"
   ]
  },
  {
   "cell_type": "code",
   "execution_count": 38,
   "id": "29bbfc4e",
   "metadata": {
    "scrolled": true
   },
   "outputs": [
    {
     "name": "stdout",
     "output_type": "stream",
     "text": [
      "\n",
      "Matrix alpha is:\n",
      "value.(alpha) = [0.0 0.0 0.0 0.0 0.0 0.0 0.0; 0.0 0.0 0.0 0.0 0.0 0.0 0.0; 1.0000000000000002 2.9999999999999973 1.0000000000000007 4.0 2.220446049250313e-16 4.0 0.0]\n"
     ]
    },
    {
     "data": {
      "text/plain": [
       "3×7 Matrix{Float64}:\n",
       " 0.0  0.0  0.0  0.0  0.0          0.0  0.0\n",
       " 0.0  0.0  0.0  0.0  0.0          0.0  0.0\n",
       " 1.0  3.0  1.0  4.0  2.22045e-16  4.0  0.0"
      ]
     },
     "execution_count": 38,
     "metadata": {},
     "output_type": "execute_result"
    }
   ],
   "source": [
    "println()\n",
    "println(\"Matrix alpha is:\")\n",
    "@show value.(alpha)#run it in ipynb file to get userfriendly result"
   ]
  },
  {
   "cell_type": "code",
   "execution_count": 39,
   "id": "2514edc1",
   "metadata": {},
   "outputs": [
    {
     "name": "stdout",
     "output_type": "stream",
     "text": [
      "\n",
      "max(alpha[s,t] for all s and all t) is: 4.0\n"
     ]
    }
   ],
   "source": [
    "println()\n",
    "println(\"max(alpha[s,t] for all s and all t) is: \", maximum(value.(alpha)))\n"
   ]
  },
  {
   "cell_type": "code",
   "execution_count": 40,
   "id": "fe6a55f2",
   "metadata": {},
   "outputs": [
    {
     "name": "stdout",
     "output_type": "stream",
     "text": [
      "\n",
      "sum(alpha[s,t] for all s and all t) is: 13.0\n"
     ]
    }
   ],
   "source": [
    "println()\n",
    "println(\"sum(alpha[s,t] for all s and all t) is: \", round(value.(sum(alpha))))"
   ]
  },
  {
   "cell_type": "code",
   "execution_count": 41,
   "id": "30398c3e",
   "metadata": {},
   "outputs": [
    {
     "name": "stdout",
     "output_type": "stream",
     "text": [
      "number of cases in which the number of nurses is below the required quantity is: 5\n"
     ]
    }
   ],
   "source": [
    "fault_num=0\n",
    "for s in 1:3\n",
    "    for t in 1:T\n",
    "        if value.(alpha[s,t]) >= 0.000001\n",
    "            global fault_num += 1\n",
    "        end\n",
    "    end\n",
    "end\n",
    "println(\"number of cases in which the number of nurses is below the required quantity is: \", fault_num)"
   ]
  },
  {
   "cell_type": "code",
   "execution_count": 42,
   "id": "fda0f0fe",
   "metadata": {},
   "outputs": [
    {
     "name": "stdout",
     "output_type": "stream",
     "text": [
      "\n",
      "CPU Time:\n",
      "  0.024067 seconds (343 allocations: 37.906 KiB)\n"
     ]
    }
   ],
   "source": [
    "println()\n",
    "println(\"CPU Time:\")\n",
    "CPU_Time = @time  optimize!(model)\n"
   ]
  },
  {
   "cell_type": "code",
   "execution_count": 43,
   "id": "166d2c42",
   "metadata": {
    "scrolled": true
   },
   "outputs": [
    {
     "name": "stdout",
     "output_type": "stream",
     "text": [
      "-------------------------------------------\n",
      "number of total shifts for nurse_1 is: 6.0\n",
      "number of total shifts for nurse_2 is: 5.0\n",
      "number of total shifts for nurse_3 is: 4.0\n",
      "number of total shifts for nurse_4 is: 6.0\n",
      "number of total shifts for nurse_5 is: 4.0\n",
      "number of total shifts for nurse_6 is: 6.0\n",
      "number of total shifts for nurse_7 is: 7.0\n",
      "number of total shifts for nurse_8 is: 7.0\n",
      "number of total shifts for nurse_9 is: 6.0\n",
      "number of total shifts for nurse_10 is: 7.0\n",
      "number of total shifts for nurse_11 is: 7.0\n",
      "number of total shifts for nurse_12 is: 7.0\n",
      "number of total shifts for nurse_13 is: 6.0\n",
      "number of total shifts for nurse_14 is: 7.0\n",
      "number of total shifts for nurse_15 is: 7.0\n"
     ]
    }
   ],
   "source": [
    "#number of total shifts for each nurse:\n",
    "println(\"-------------------------------------------\")\n",
    "for i in 1:N\n",
    "    println(\"number of total shifts for nurse_\", i, \" is: \", value.(sum(x[i,s,t] for s in 1:3 for t in 1:T)))\n",
    "end\n"
   ]
  },
  {
   "cell_type": "code",
   "execution_count": 44,
   "id": "62d763ed",
   "metadata": {},
   "outputs": [
    {
     "name": "stdout",
     "output_type": "stream",
     "text": [
      "-------------------------------------------\n",
      "NO! The number of nurses is not enough to satisfy the demand\n"
     ]
    }
   ],
   "source": [
    "#Is the number of N nurses  enough to satisfy the demand?\n",
    "println(\"-------------------------------------------\")\n",
    "if value.(sum(alpha)) >= 0.000001\n",
    "    println(\"NO! The number of nurses is not enough to satisfy the demand\")\n",
    "else\n",
    "    println(\"YES! The number of nurses is enough to satisfy the demand\")\n",
    "end\n"
   ]
  },
  {
   "cell_type": "code",
   "execution_count": 45,
   "id": "91b521f4",
   "metadata": {},
   "outputs": [
    {
     "name": "stdout",
     "output_type": "stream",
     "text": [
      "-------------------------------------------\n",
      "nurse_1 works for: 44.0 hours.\n",
      "nurse_2 works for: 40.0 hours.\n",
      "nurse_3 works for: 36.0 hours.\n",
      "nurse_4 works for: 44.0 hours.\n",
      "nurse_5 works for: 36.0 hours.\n",
      "nurse_6 works for: 46.0 hours.\n",
      "nurse_7 works for: 51.0 hours.\n",
      "nurse_8 works for: 51.0 hours.\n",
      "nurse_9 works for: 47.0 hours.\n",
      "nurse_10 works for: 54.0 hours.\n",
      "nurse_11 works for: 54.0 hours.\n",
      "nurse_12 works for: 54.0 hours.\n",
      "nurse_13 works for: 48.0 hours.\n",
      "nurse_14 works for: 52.0 hours.\n",
      "nurse_15 works for: 52.0 hours.\n"
     ]
    }
   ],
   "source": [
    "#How many hours does each nurse work?\n",
    "println(\"-------------------------------------------\")\n",
    "for i in 1:N\n",
    "    println(\"nurse_\", i, \" works for: \", value.(sum(x[i,s,t]*h[s] for s in 1:3 for t in 1:T)), \" hours.\")\n",
    "end\n",
    "\n"
   ]
  },
  {
   "cell_type": "code",
   "execution_count": 46,
   "id": "6e934190",
   "metadata": {},
   "outputs": [
    {
     "name": "stdout",
     "output_type": "stream",
     "text": [
      "-------------------------------------------\n",
      "\n",
      "Maximum number of total hours worked: 54.0\n"
     ]
    }
   ],
   "source": [
    "println(\"-------------------------------------------\")\n",
    "#Maximum number of total hours worked\n",
    "println()\n",
    "println(\"Maximum number of total hours worked: \", maximum(value.(sum((x[:,s,t])*h[s] for s in 1:3 for t in 1:T))))"
   ]
  },
  {
   "cell_type": "code",
   "execution_count": 47,
   "id": "64caaf19",
   "metadata": {},
   "outputs": [],
   "source": [
    "########The End!"
   ]
  },
  {
   "cell_type": "code",
   "execution_count": null,
   "id": "fa4822f9",
   "metadata": {},
   "outputs": [],
   "source": []
  },
  {
   "cell_type": "code",
   "execution_count": null,
   "id": "f46dbd6c",
   "metadata": {},
   "outputs": [],
   "source": []
  }
 ],
 "metadata": {
  "kernelspec": {
   "display_name": "Julia 1.7.2",
   "language": "julia",
   "name": "julia-1.7"
  },
  "language_info": {
   "file_extension": ".jl",
   "mimetype": "application/julia",
   "name": "julia",
   "version": "1.7.2"
  }
 },
 "nbformat": 4,
 "nbformat_minor": 5
}
