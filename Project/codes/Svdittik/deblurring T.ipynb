{
 "cells": [
  {
   "cell_type": "markdown",
   "metadata": {},
   "source": [
    "# Import"
   ]
  },
  {
   "cell_type": "code",
   "execution_count": 290,
   "metadata": {},
   "outputs": [],
   "source": [
    "using MAT\n",
    "using LinearAlgebra\n",
    "using GeneralizedSVD\n",
    "using Plots\n",
    "using Images, FileIO\n",
    "using Noise"
   ]
  },
  {
   "cell_type": "markdown",
   "metadata": {},
   "source": [
    "# Loading Mat files "
   ]
  },
  {
   "cell_type": "code",
   "execution_count": 291,
   "metadata": {},
   "outputs": [],
   "source": [
    "vars = matread(\"T.mat\");\n",
    "T = vars[\"T\"];\n",
    "T = Matrix(T);"
   ]
  },
  {
   "cell_type": "markdown",
   "metadata": {},
   "source": [
    "# Loading images"
   ]
  },
  {
   "cell_type": "code",
   "execution_count": 292,
   "metadata": {},
   "outputs": [
    {
     "data": {
      "image/png": "[encoded data removed]",
      "text/html": [
       "<img src=\"data:image/png;base64,iVBORw0KGgoAAAANSUhEUgAAAIAAAACACAAAAADmVT4XAAAABGdBTUEAALGPC/xhBQAAAAFzUkdCAK7OHOkAAAAgY0hSTQAAeiYAAICEAAD6AAAAgOgAAHUwAADqYAAAOpgAABdwnLpRPAAAAkhJREFUeAHFwUFuXGUQBsDq0RcuCexYY1bJigvAFViFUxKUaSz9SC/Pb+wZ4zFdlQ84o/2/CifEsBgWw/K3vULbK7TrCu15hbb5ihgWw2JYTjjbtKN2m0ahXdb2TohhMSyGxSsV2vPa68SwGBbD0l6n3abQXtaIYTEshqXQ7q9dV4hhMSyGxROF9rxCu02hbQptL4bFsBgWT7TbfYff8T1O+IyP+OKydhTDYlgMi1dqm9/ws80D/sInS7suhsWwGBYXFNpeoS2Fxg+OfsInt4thMSyGxaNC27Sl0Ja2lE15uxgWw2JYPGqXtaO2FP7Eg70/bArtZTEshsWw+EahLYV2VJbGRxR+tHzGrzbtuhgWw2JYPCo0GmVptL1C23zBA35Bo9A2hfayGBbDYlg8ahQa7XmFdtSWxglnS7suhsWwGBb/apc1ytKWQtsrNM4otNvEsBgWw+KKctRe1m4Xw2JYDIs7aUtZ2qbQLothMSyGxZ21pdCWRqEthbbEsBgWw+KdNAptacsJZ5sYFsNiWNxB2zTKZYWzpSwxLIbFsLiDthQKjXJUaEujEMNiWAyLOyi0TbmsHcWwGBbD4g7KbQptL4bFsBgWVzTKptD+m3YUw2JYDIsnCm1T9hqFRqHdrtD2YlgMi2HxRLuuUWiv045iWAyLYSmXFcrz2ts1YlgMi2E5u6wthfY+CjEshsWwFNpSaBTa0ii09xHDYlgMy9mmUWhLodEotLcptM0ZMSyGxbB8wFdLoVGWxgmFRnm7shROiGExLIb9AyiXjGVrseHRAAAAAElFTkSuQmCC\">"
      ],
      "text/plain": [
       "32×32 Array{Gray{N0f8},2} with eltype Gray{N0f8}:\n",
       " Gray{N0f8}(0.02)   Gray{N0f8}(0.012)  …  Gray{N0f8}(0.02)\n",
       " Gray{N0f8}(0.0)    Gray{N0f8}(0.0)       Gray{N0f8}(0.0)\n",
       " Gray{N0f8}(0.008)  Gray{N0f8}(0.0)       Gray{N0f8}(0.008)\n",
       " Gray{N0f8}(0.008)  Gray{N0f8}(0.0)       Gray{N0f8}(0.008)\n",
       " Gray{N0f8}(0.004)  Gray{N0f8}(0.0)       Gray{N0f8}(0.004)\n",
       " Gray{N0f8}(0.008)  Gray{N0f8}(0.0)    …  Gray{N0f8}(0.008)\n",
       " Gray{N0f8}(0.008)  Gray{N0f8}(0.0)       Gray{N0f8}(0.008)\n",
       " Gray{N0f8}(0.008)  Gray{N0f8}(0.0)       Gray{N0f8}(0.008)\n",
       " Gray{N0f8}(0.008)  Gray{N0f8}(0.0)       Gray{N0f8}(0.008)\n",
       " Gray{N0f8}(0.008)  Gray{N0f8}(0.0)       Gray{N0f8}(0.008)\n",
       " Gray{N0f8}(0.008)  Gray{N0f8}(0.004)  …  Gray{N0f8}(0.008)\n",
       " Gray{N0f8}(0.008)  Gray{N0f8}(0.0)       Gray{N0f8}(0.008)\n",
       " Gray{N0f8}(0.008)  Gray{N0f8}(0.0)       Gray{N0f8}(0.008)\n",
       " ⋮                                     ⋱  \n",
       " Gray{N0f8}(0.008)  Gray{N0f8}(0.0)    …  Gray{N0f8}(0.008)\n",
       " Gray{N0f8}(0.008)  Gray{N0f8}(0.0)       Gray{N0f8}(0.008)\n",
       " Gray{N0f8}(0.008)  Gray{N0f8}(0.0)       Gray{N0f8}(0.008)\n",
       " Gray{N0f8}(0.008)  Gray{N0f8}(0.0)       Gray{N0f8}(0.008)\n",
       " Gray{N0f8}(0.008)  Gray{N0f8}(0.0)       Gray{N0f8}(0.008)\n",
       " Gray{N0f8}(0.008)  Gray{N0f8}(0.0)    …  Gray{N0f8}(0.008)\n",
       " Gray{N0f8}(0.008)  Gray{N0f8}(0.0)       Gray{N0f8}(0.008)\n",
       " Gray{N0f8}(0.012)  Gray{N0f8}(0.0)       Gray{N0f8}(0.004)\n",
       " Gray{N0f8}(0.004)  Gray{N0f8}(0.0)       Gray{N0f8}(0.008)\n",
       " Gray{N0f8}(0.008)  Gray{N0f8}(0.0)       Gray{N0f8}(0.008)\n",
       " Gray{N0f8}(0.0)    Gray{N0f8}(0.0)    …  Gray{N0f8}(0.0)\n",
       " Gray{N0f8}(0.02)   Gray{N0f8}(0.008)     Gray{N0f8}(0.02)"
      ]
     },
     "execution_count": 292,
     "metadata": {},
     "output_type": "execute_result"
    }
   ],
   "source": [
    "img_path = \"org_image.jpg\"\n",
    "org_image = load(img_path)"
   ]
  },
  {
   "cell_type": "code",
   "execution_count": 293,
   "metadata": {},
   "outputs": [
    {
     "data": {
      "image/png": "[encoded data removed]",
      "text/html": [
       "<img src=\"data:image/png;base64,iVBORw0KGgoAAAANSUhEUgAAAIAAAACACAAAAADmVT4XAAAABGdBTUEAALGPC/xhBQAAAAFzUkdCAK7OHOkAAAAgY0hSTQAAeiYAAICEAAD6AAAAgOgAAHUwAADqYAAAOpgAABdwnLpRPAAAAwJJREFUeAHFwWlPnGUYBtATuF5oGRVrWhpNTTQucfn//0U/NDWxJS2QAuLLNs+gJI/JyD50yX1OfERBc7soFsWiWHxEzd2iWBSLYlEsikWxKBbFolgUi2LxAUTX3F8Ui2JRLN5RsIqHWMOAfRzhBM1iolgUi2KxoKDpgsd4hKf4HAO28QbbOMLoblEsikWxeAcTbOArPMNTLGFd1zDD6G5RLIpFsVjQKpruISb4Ft/gF6zgN3MHFhPFolgUiwWdmJtgHY/xK37SHWILL7FiMVEsikWxuEHMNVetuCgYsIIVXdDcLopFsSgWlwQTDFjDBKeYYh8jRvyFHfyOKQY8x2vs49RiolgUi2JxjQFPsIFHuj28wTZO8BYvMMXfuj/xBzZxgOZuUSyKRbG4pCHYwJf4Dg2buhGb2MIUR9jSbWMPuzixmCgWxaJYnAuauQk28AN+1AVTvELDAY6wjTXdIWY4RbOYKBbFolica+aCCR7jGX7GFIf4C5/oRnNB0wXN4qJYFIticUnDA5zoZhhwhhEDgqYLmrnmfqJYFItisaAl3dRc0LyfKBbFoli8g6abYMAaJhiwjBmWdTMc4QQHOMVoLopFsSgW72HAE2xgA+suGnS7eI032MYJmi6KRbEoFvew5KLgKb7G99jAgJluGSO2MMMJRuyZi2JRLIrFHZbdbAWHOEZzvS8w4lOsuCqKRbEoFguY4cxVp/gMDxDdzNwMb7GPA5y6KopFsSgW9zS46AVGHGMdA6a6QbeDLezhEE0XRLEoFsXiP0FDcIxV3QxnWMKAY0S3o3uFHTzEMgZMdTNMMeIAp+YaolgUi2JxLmi6hhE7eIkJ/sFL7GBEM/fa7WKumYsuikWxKBbnmotGbGFZd4bn2MLU/TTXa7ooFsWiWFwSNGzpZphiF7s41AUNQXO9uKi5KopFsSgWlzQcYRsjNhFs66Yuam7W3C2KRbEoFtcYMSK6VYyIDy+KRbEoFrdouqZr7i9obhbFolgUi/8JmquC5qLmbkFzuygWxaLYv3ufyDfC5LP+AAAAAElFTkSuQmCC\">"
      ],
      "text/plain": [
       "32×32 Array{Gray{N0f8},2} with eltype Gray{N0f8}:\n",
       " Gray{N0f8}(0.0)  Gray{N0f8}(0.0)    Gray{N0f8}(0.0)    …  Gray{N0f8}(0.0)\n",
       " Gray{N0f8}(0.0)  Gray{N0f8}(0.0)    Gray{N0f8}(0.0)       Gray{N0f8}(0.0)\n",
       " Gray{N0f8}(0.0)  Gray{N0f8}(0.0)    Gray{N0f8}(0.0)       Gray{N0f8}(0.0)\n",
       " Gray{N0f8}(0.0)  Gray{N0f8}(0.0)    Gray{N0f8}(0.0)       Gray{N0f8}(0.0)\n",
       " Gray{N0f8}(0.0)  Gray{N0f8}(0.0)    Gray{N0f8}(0.0)       Gray{N0f8}(0.0)\n",
       " Gray{N0f8}(0.0)  Gray{N0f8}(0.0)    Gray{N0f8}(0.0)    …  Gray{N0f8}(0.0)\n",
       " Gray{N0f8}(0.0)  Gray{N0f8}(0.0)    Gray{N0f8}(0.0)       Gray{N0f8}(0.0)\n",
       " Gray{N0f8}(0.0)  Gray{N0f8}(0.0)    Gray{N0f8}(0.0)       Gray{N0f8}(0.0)\n",
       " Gray{N0f8}(0.0)  Gray{N0f8}(0.0)    Gray{N0f8}(0.0)       Gray{N0f8}(0.0)\n",
       " Gray{N0f8}(0.0)  Gray{N0f8}(0.0)    Gray{N0f8}(0.0)       Gray{N0f8}(0.0)\n",
       " Gray{N0f8}(0.0)  Gray{N0f8}(0.0)    Gray{N0f8}(0.0)    …  Gray{N0f8}(0.0)\n",
       " Gray{N0f8}(0.0)  Gray{N0f8}(0.0)    Gray{N0f8}(0.0)       Gray{N0f8}(0.0)\n",
       " Gray{N0f8}(0.0)  Gray{N0f8}(0.0)    Gray{N0f8}(0.0)       Gray{N0f8}(0.0)\n",
       " ⋮                                                      ⋱  \n",
       " Gray{N0f8}(0.0)  Gray{N0f8}(0.0)    Gray{N0f8}(0.0)    …  Gray{N0f8}(0.0)\n",
       " Gray{N0f8}(0.0)  Gray{N0f8}(0.0)    Gray{N0f8}(0.0)       Gray{N0f8}(0.0)\n",
       " Gray{N0f8}(0.0)  Gray{N0f8}(0.0)    Gray{N0f8}(0.0)       Gray{N0f8}(0.0)\n",
       " Gray{N0f8}(0.0)  Gray{N0f8}(0.0)    Gray{N0f8}(0.0)       Gray{N0f8}(0.016)\n",
       " Gray{N0f8}(0.0)  Gray{N0f8}(0.0)    Gray{N0f8}(0.016)     Gray{N0f8}(0.0)\n",
       " Gray{N0f8}(0.0)  Gray{N0f8}(0.016)  Gray{N0f8}(0.0)    …  Gray{N0f8}(0.016)\n",
       " Gray{N0f8}(0.0)  Gray{N0f8}(0.0)    Gray{N0f8}(0.0)       Gray{N0f8}(0.0)\n",
       " Gray{N0f8}(0.0)  Gray{N0f8}(0.0)    Gray{N0f8}(0.0)       Gray{N0f8}(0.0)\n",
       " Gray{N0f8}(0.0)  Gray{N0f8}(0.0)    Gray{N0f8}(0.0)       Gray{N0f8}(0.0)\n",
       " Gray{N0f8}(0.0)  Gray{N0f8}(0.0)    Gray{N0f8}(0.0)       Gray{N0f8}(0.0)\n",
       " Gray{N0f8}(0.0)  Gray{N0f8}(0.0)    Gray{N0f8}(0.0)    …  Gray{N0f8}(0.0)\n",
       " Gray{N0f8}(0.0)  Gray{N0f8}(0.0)    Gray{N0f8}(0.0)       Gray{N0f8}(0.0)"
      ]
     },
     "execution_count": 293,
     "metadata": {},
     "output_type": "execute_result"
    }
   ],
   "source": [
    "img_path = \"T_result.jpg\"\n",
    "T_result = load(img_path)"
   ]
  },
  {
   "cell_type": "code",
   "execution_count": 294,
   "metadata": {},
   "outputs": [],
   "source": [
    "n = 1024\n",
    "Noise_power = 0.05\n",
    "e = add_gauss(zeros(n,1), Noise_power)\n",
    "T_result_noise = reshape(map(Float64, T_result), (32*32,1));"
   ]
  },
  {
   "cell_type": "markdown",
   "metadata": {},
   "source": [
    "# regulation matrix"
   ]
  },
  {
   "cell_type": "code",
   "execution_count": 295,
   "metadata": {},
   "outputs": [],
   "source": [
    "L = zeros(n-2,n)\n",
    "for i in range(1,n-2)\n",
    "    L[i,i] = -1\n",
    "    L[i,i+1] = 2\n",
    "    L[i,i+2] = -1\n",
    "end\n",
    "p = n-2;"
   ]
  },
  {
   "cell_type": "markdown",
   "metadata": {},
   "source": [
    "# Functions"
   ]
  },
  {
   "cell_type": "code",
   "execution_count": 296,
   "metadata": {},
   "outputs": [
    {
     "data": {
      "text/plain": [
       "df (generic function with 1 method)"
      ]
     },
     "execution_count": 296,
     "metadata": {},
     "output_type": "execute_result"
    }
   ],
   "source": [
    "function f(b_hat,lambda_arr,alpha_arr,z_arr,beta,p,eta,delta)\n",
    "    y = 0 \n",
    "    for j in range(1,p)\n",
    "        numerator = (b_hat[j] * lambda_arr[j]^2 - alpha_arr[j] * z_arr[j] * lambda_arr[j]^2)^2\n",
    "        denominator = (beta * alpha_arr[j]^2 + lambda_arr[j]^2)^2\n",
    "        y += numerator/denominator\n",
    "    end\n",
    "    y = y - (eta*delta)^2\n",
    "end\n",
    "\n",
    "function df(b_hat,lambda_arr,alpha_arr,z_arr,beta,p,eta,delta)\n",
    "    y = 0 \n",
    "    for j in range(1,p)\n",
    "        numerator = -2 * (alpha_arr[j]^2) * (b_hat[j] * lambda_arr[j]^2 - alpha_arr[j] * z_arr[j] * lambda_arr[j]^2)^2 \n",
    "        denominator = (beta * alpha_arr[j]^2 + lambda_arr[j]^2)^3\n",
    "        y += numerator/denominator\n",
    "    end\n",
    "    return y\n",
    "end"
   ]
  },
  {
   "cell_type": "markdown",
   "metadata": {},
   "source": [
    "## Beta Finder"
   ]
  },
  {
   "cell_type": "code",
   "execution_count": 297,
   "metadata": {},
   "outputs": [
    {
     "data": {
      "text/plain": [
       "beta_solver (generic function with 2 methods)"
      ]
     },
     "execution_count": 297,
     "metadata": {},
     "output_type": "execute_result"
    }
   ],
   "source": [
    "function beta_solver(max_iter,beta,epsilon_criterion,beta_max,z_arr)\n",
    "    for i in range(1,max_iter)\n",
    "        fx = f(b_hat,lambda_arr,alpha_arr,z_arr,beta,p,eta,delta) \n",
    "        if abs(f(b_hat,lambda_arr,alpha_arr,z_arr,beta,p,eta,delta)) < epsilon_criterion\n",
    "            return beta\n",
    "        end\n",
    "        dfx = df(b_hat,lambda_arr,alpha_arr,z_arr,beta,p,eta,delta)\n",
    "        beta_new = beta - (fx / dfx)\n",
    "        if beta_new >= beta_max\n",
    "            return beta\n",
    "        else\n",
    "            beta = beta_new\n",
    "        end\n",
    "    end\n",
    "    return beta\n",
    "end"
   ]
  },
  {
   "cell_type": "markdown",
   "metadata": {},
   "source": [
    "# generalized singular value decomposition"
   ]
  },
  {
   "cell_type": "code",
   "execution_count": 298,
   "metadata": {},
   "outputs": [
    {
     "data": {
      "text/plain": [
       "true"
      ]
     },
     "execution_count": 298,
     "metadata": {},
     "output_type": "execute_result"
    }
   ],
   "source": [
    "F = gsvd(T, L);\n",
    "U = F.U\n",
    "Sigma = F.C;\n",
    "V = F.V;\n",
    "Lambda = F.S;\n",
    "Y = (F.R*F.Q')';\n",
    "\n",
    "[T; L] ≈ [U*Sigma; V*Lambda] * Y'"
   ]
  },
  {
   "cell_type": "markdown",
   "metadata": {},
   "source": [
    "# initiate the process"
   ]
  },
  {
   "cell_type": "code",
   "execution_count": 299,
   "metadata": {},
   "outputs": [
    {
     "data": {
      "text/plain": [
       "7.437462453744898"
      ]
     },
     "execution_count": 299,
     "metadata": {},
     "output_type": "execute_result"
    }
   ],
   "source": [
    "x0 = zeros(1024,1);\n",
    "z_arr = Y' * x0;\n",
    "b = T_result_noise;\n",
    "b_hat = U' * b;\n",
    "eta = 1.1\n",
    "delta = Noise_power * sqrt(n);\n",
    "norm(T * x0 - b)"
   ]
  },
  {
   "cell_type": "code",
   "execution_count": 300,
   "metadata": {},
   "outputs": [],
   "source": [
    "lambda_arr = zeros(p,1);\n",
    "for i in range(1,p)\n",
    "    lambda_arr[i] = Lambda[p+1-i,n+1-i];\n",
    "end\n",
    "alpha_arr  = zeros(p,1);\n",
    "for i in range(1,p)\n",
    "    alpha_arr[i] = Sigma[n+1-i,n+1-i];\n",
    "end "
   ]
  },
  {
   "cell_type": "code",
   "execution_count": 301,
   "metadata": {},
   "outputs": [],
   "source": [
    "beta = 0\n",
    "max_iter = 40;\n",
    "max_iter_alg = 40;\n",
    "epsilon_criterion = 1e-4;\n",
    "z_criterion = 1e-3;\n",
    "beta_max = 1000;"
   ]
  },
  {
   "cell_type": "markdown",
   "metadata": {},
   "source": [
    "# Test two functions"
   ]
  },
  {
   "cell_type": "code",
   "execution_count": 302,
   "metadata": {},
   "outputs": [
    {
     "data": {
      "text/plain": [
       "(52.21822113307435, -563445.739663074)"
      ]
     },
     "execution_count": 302,
     "metadata": {},
     "output_type": "execute_result"
    }
   ],
   "source": [
    "fx = f(b_hat,lambda_arr,alpha_arr,z_arr,beta,p,eta,delta);\n",
    "dfx = df(b_hat,lambda_arr,alpha_arr,z_arr,beta,p,eta,delta);\n",
    "fx, dfx"
   ]
  },
  {
   "cell_type": "markdown",
   "metadata": {},
   "source": [
    "# Running the Alg"
   ]
  },
  {
   "cell_type": "code",
   "execution_count": 303,
   "metadata": {},
   "outputs": [],
   "source": [
    "for i in range(1,max_iter_alg)\n",
    "    beta = beta_solver(max_iter,beta,epsilon_criterion,beta_max,z_arr)\n",
    "    a = Sigma' * Sigma + (1/beta) * Lambda' * Lambda\n",
    "    b = Sigma' * b_hat + (1/beta) *  Lambda' * Lambda * z_arr\n",
    "    new_z = a \\ b;\n",
    "    if norm(new_z - z_arr) < z_criterion \n",
    "        z_arr = new_z\n",
    "        break\n",
    "    end\n",
    "    z_arr = new_z\n",
    "end"
   ]
  },
  {
   "cell_type": "code",
   "execution_count": 304,
   "metadata": {},
   "outputs": [
    {
     "data": {
      "image/png": "[encoded data removed]",
      "text/html": [
       "<img src=\"data:image/png;base64,iVBORw0KGgoAAAANSUhEUgAAAIAAAACACAAAAADmVT4XAAAABGdBTUEAALGPC/xhBQAAAAFzUkdCAK7OHOkAAAAgY0hSTQAAeiYAAICEAAD6AAAAgOgAAHUwAADqYAAAOpgAABdwnLpRPAAABR9JREFUeAHFwbtvnWcdAODnO9/P9vEldpybE5oSAhkq1AsSa6UiARJiYUH8Fd2YGVgY2RgrgYTEX0AFYkEgsRQxNEApEYmaRLVrJ/ElPsfn8p1zGH6RXlnu/j5P3MKudBPPcRuPpCVM8XU8lFYwxnUc4BLGmOAN/AeBZUzwLfxdCnR4E/9EqCxUFiqLDcUelrCimKNBq5iiwU0cYI6JNJc6dNJE0Uk9KVQWKguVxZrUwxxTxTomWEFfatCgjzVpIAU6F3VSg4XUSKGyUFmoLELqYyj1pMAADRbSAjNMMXTeFawqGgRaKTDFmiJUFioLlcVCahHosCY10kTRYobATFrGbfRwA//CFjpcQ19aoMUmelKoLFQWKguvdOhjiGXpTNFIlzDEFANpgofSknSCFn00UocWfbRSqCxUFiqLVhojpIU0xhKmuCotYSL1pG/j31jDtrRAh5fYVMwww5IUKguVhcoipDkm0kKxjQG2pFbxIzzB+/grDrGJvykOcdd5J1iWQmWhslBZ+BJjxRBT7Epr0irex318B+9hH2v4OS7jCCNckVYwxjHWpVBZqCxUFmPFMiZoFEMssCt1UoO7uK/YUexghBFuSCsYS1tSqCxUFiqLM8UmnmGmmEsLaSTN0cOK1GCBRtrFSOpJY8WmFCoLlYXKYq7opFMXhbQvBfbQKP6E16QTxVwaK5alUFmoLFQWq1IPL6Vl6Ru4h0/xXXwgXcMz/A6f4x+4iz/gbRdNFC1mmEihslBZqCz60lxaxlfxCX6Gn+C/eAcfoMUtPMNv8BAd3sWf8VRxE3uYu+iZFCoLlYXKYtl5E4ylt7CKdxQzzKUjvJRGmGJfanED+5hKgR5m2JVCZaGyUFk0LjqR1qUOoTiSNhQPpDNphgeY4yOpQ0jPpVBZqCxUFiPFBk4R0h10COcNsIWrij1pXerjTNpXBBqcSaGyUFmoLI4U6xhiJvUxddER7qF10YE0kpbQxwBLmKLFkhQqC5WFymIgtZhhjj3FF9jBTFrFmXQqvY2P8TouYxctZljDNp5jqrgshcpCZaGyOJM2cCidKK5hCUvSdTzG/7CQbmAZ29iQ7uEF3sRb+BVaTDDDuhQqC5WFymIoLTCTJoqX6CuGztvCL9HDZdzEb/EDHGIVd7CGD/GxtCyFykJlobIYSSdYxRnmis9wFT3pSNrEMRb4Cq4qfojr2FG8h78o5lKoLFQWKosGLTqsYIIVXJVeR09q0UOLLYwxwB/xPTzDN3EfX0PgU3wfn+CJYiqFykJlobJYRh9H6DDDqbSPG9IZZphhEwdYwwv8FLfxAO/i99jCa9jDj/ERnijmUqgsVBYqixY96RQtZjjDI9yQVhUTjHAPR9hD4BiPpGO8xBwf4qnUwxwDKVQWKguVRYuhYh1TXMHMeVfwAmsYYYSF9FR6oNjAifMu4RhHaBAqC5WFyqLFCKs4Q4s+JniMN7CHDiOpL43RYIFtHKJFgwk2cIJ9RSudYgWhslBZqCwm0jU8waHi1/gFZriDobQqPVasSCPFC2miGEmn6CFUFioLlcVA2nDRLu5Ln0mttIMvpD52MESHKZawiQEa6QQjaSSFykJlobLwyjoCHfoY4YpiIN3CM1yWWlzCMdaxi8AKRriEI8ylOdYxkEJlobJQWXilQYceRtJE2sKxtMAxetIMBzjAptThUJpg6LxtDKRQWagsVBZemUiXcCx9jm3cwjECnTRw0RpOpBYzXMNjRYMNRagsVBYq+z83rGN34ZZjIQAAAABJRU5ErkJg\">"
      ],
      "text/plain": [
       "32×32 Array{Gray{Float64},2} with eltype Gray{Float64}:\n",
       " Gray{Float64}(0.0993794)    …  Gray{Float64}(-0.121386)\n",
       " Gray{Float64}(0.146921)        Gray{Float64}(-0.16326)\n",
       " Gray{Float64}(0.183548)        Gray{Float64}(-0.203116)\n",
       " Gray{Float64}(0.198631)        Gray{Float64}(-0.244986)\n",
       " Gray{Float64}(0.196543)        Gray{Float64}(-0.285934)\n",
       " Gray{Float64}(0.195611)     …  Gray{Float64}(-0.311153)\n",
       " Gray{Float64}(0.206212)        Gray{Float64}(-0.315595)\n",
       " Gray{Float64}(0.222882)        Gray{Float64}(-0.299457)\n",
       " Gray{Float64}(0.223463)        Gray{Float64}(-0.274005)\n",
       " Gray{Float64}(0.196262)        Gray{Float64}(-0.253488)\n",
       " Gray{Float64}(0.16131)      …  Gray{Float64}(-0.24733)\n",
       " Gray{Float64}(0.151571)        Gray{Float64}(-0.24783)\n",
       " Gray{Float64}(0.189863)        Gray{Float64}(-0.239687)\n",
       " ⋮                           ⋱  \n",
       " Gray{Float64}(0.0366134)    …  Gray{Float64}(-0.20393)\n",
       " Gray{Float64}(0.00409795)      Gray{Float64}(-0.190316)\n",
       " Gray{Float64}(0.00656645)      Gray{Float64}(-0.160937)\n",
       " Gray{Float64}(0.0304468)       Gray{Float64}(-0.0658483)\n",
       " Gray{Float64}(0.0427104)       Gray{Float64}(-0.0228504)\n",
       " Gray{Float64}(0.0562546)    …  Gray{Float64}(0.00515148)\n",
       " Gray{Float64}(0.0683134)       Gray{Float64}(0.0321916)\n",
       " Gray{Float64}(0.0420386)       Gray{Float64}(0.0402015)\n",
       " Gray{Float64}(-0.00947736)     Gray{Float64}(-0.0252473)\n",
       " Gray{Float64}(-0.0488045)      Gray{Float64}(-0.0464462)\n",
       " Gray{Float64}(-0.0703283)   …  Gray{Float64}(-0.0324515)\n",
       " Gray{Float64}(-0.0912331)      Gray{Float64}(-0.0123977)"
      ]
     },
     "execution_count": 304,
     "metadata": {},
     "output_type": "execute_result"
    }
   ],
   "source": [
    "x_reconstructed = Y' \\ z_arr;\n",
    "x_reconstructed = reshape(x_reconstructed, (32,32));\n",
    "x_reconstructed_image = Gray.(x_reconstructed)"
   ]
  }
 ],
 "metadata": {
  "kernelspec": {
   "display_name": "Julia 1.7.2",
   "language": "julia",
   "name": "julia-1.7"
  },
  "language_info": {
   "file_extension": ".jl",
   "mimetype": "application/julia",
   "name": "julia",
   "version": "1.7.2"
  }
 },
 "nbformat": 4,
 "nbformat_minor": 4
}
