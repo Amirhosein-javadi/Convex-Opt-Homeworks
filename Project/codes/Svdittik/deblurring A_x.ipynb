{
 "cells": [
  {
   "cell_type": "markdown",
   "metadata": {},
   "source": [
    "# Import"
   ]
  },
  {
   "cell_type": "code",
   "execution_count": 70,
   "metadata": {},
   "outputs": [],
   "source": [
    "using MAT\n",
    "using LinearAlgebra\n",
    "using GeneralizedSVD\n",
    "using Plots\n",
    "using Images, FileIO\n",
    "using Noise"
   ]
  },
  {
   "cell_type": "markdown",
   "metadata": {},
   "source": [
    "# Loading Mat files "
   ]
  },
  {
   "cell_type": "code",
   "execution_count": 71,
   "metadata": {},
   "outputs": [],
   "source": [
    "vars = matread(\"A_x.mat\");\n",
    "A_x = vars[\"A_x\"];\n",
    "A_x = Matrix(A_x);"
   ]
  },
  {
   "cell_type": "markdown",
   "metadata": {},
   "source": [
    "# Loading images"
   ]
  },
  {
   "cell_type": "code",
   "execution_count": 72,
   "metadata": {},
   "outputs": [
    {
     "data": {
      "image/png": "[encoded data removed]",
      "text/html": [
       "<img src=\"data:image/png;base64,iVBORw0KGgoAAAANSUhEUgAAAIAAAACACAAAAADmVT4XAAAABGdBTUEAALGPC/xhBQAAAAFzUkdCAK7OHOkAAAAgY0hSTQAAeiYAAICEAAD6AAAAgOgAAHUwAADqYAAAOpgAABdwnLpRPAAAAkhJREFUeAHFwUFuXGUQBsDq0RcuCexYY1bJigvAFViFUxKUaSz9SC/Pb+wZ4zFdlQ84o/2/CifEsBgWw/K3vULbK7TrCu15hbb5ihgWw2JYTjjbtKN2m0ahXdb2TohhMSyGxSsV2vPa68SwGBbD0l6n3abQXtaIYTEshqXQ7q9dV4hhMSyGxROF9rxCu02hbQptL4bFsBgWT7TbfYff8T1O+IyP+OKydhTDYlgMi1dqm9/ws80D/sInS7suhsWwGBYXFNpeoS2Fxg+OfsInt4thMSyGxaNC27Sl0Ja2lE15uxgWw2JYPGqXtaO2FP7Eg70/bArtZTEshsWw+EahLYV2VJbGRxR+tHzGrzbtuhgWw2JYPCo0GmVptL1C23zBA35Bo9A2hfayGBbDYlg8ahQa7XmFdtSWxglnS7suhsWwGBb/apc1ytKWQtsrNM4otNvEsBgWw+KKctRe1m4Xw2JYDIs7aUtZ2qbQLothMSyGxZ21pdCWRqEthbbEsBgWw+KdNAptacsJZ5sYFsNiWNxB2zTKZYWzpSwxLIbFsLiDthQKjXJUaEujEMNiWAyLOyi0TbmsHcWwGBbD4g7KbQptL4bFsBgWVzTKptD+m3YUw2JYDIsnCm1T9hqFRqHdrtD2YlgMi2HxRLuuUWiv045iWAyLYSmXFcrz2ts1YlgMi2E5u6wthfY+CjEshsWwFNpSaBTa0ii09xHDYlgMy9mmUWhLodEotLcptM0ZMSyGxbB8wFdLoVGWxgmFRnm7shROiGExLIb9AyiXjGVrseHRAAAAAElFTkSuQmCC\">"
      ],
      "text/plain": [
       "32×32 Array{Gray{N0f8},2} with eltype Gray{N0f8}:\n",
       " Gray{N0f8}(0.02)   Gray{N0f8}(0.012)  …  Gray{N0f8}(0.02)\n",
       " Gray{N0f8}(0.0)    Gray{N0f8}(0.0)       Gray{N0f8}(0.0)\n",
       " Gray{N0f8}(0.008)  Gray{N0f8}(0.0)       Gray{N0f8}(0.008)\n",
       " Gray{N0f8}(0.008)  Gray{N0f8}(0.0)       Gray{N0f8}(0.008)\n",
       " Gray{N0f8}(0.004)  Gray{N0f8}(0.0)       Gray{N0f8}(0.004)\n",
       " Gray{N0f8}(0.008)  Gray{N0f8}(0.0)    …  Gray{N0f8}(0.008)\n",
       " Gray{N0f8}(0.008)  Gray{N0f8}(0.0)       Gray{N0f8}(0.008)\n",
       " Gray{N0f8}(0.008)  Gray{N0f8}(0.0)       Gray{N0f8}(0.008)\n",
       " Gray{N0f8}(0.008)  Gray{N0f8}(0.0)       Gray{N0f8}(0.008)\n",
       " Gray{N0f8}(0.008)  Gray{N0f8}(0.0)       Gray{N0f8}(0.008)\n",
       " Gray{N0f8}(0.008)  Gray{N0f8}(0.004)  …  Gray{N0f8}(0.008)\n",
       " Gray{N0f8}(0.008)  Gray{N0f8}(0.0)       Gray{N0f8}(0.008)\n",
       " Gray{N0f8}(0.008)  Gray{N0f8}(0.0)       Gray{N0f8}(0.008)\n",
       " ⋮                                     ⋱  \n",
       " Gray{N0f8}(0.008)  Gray{N0f8}(0.0)    …  Gray{N0f8}(0.008)\n",
       " Gray{N0f8}(0.008)  Gray{N0f8}(0.0)       Gray{N0f8}(0.008)\n",
       " Gray{N0f8}(0.008)  Gray{N0f8}(0.0)       Gray{N0f8}(0.008)\n",
       " Gray{N0f8}(0.008)  Gray{N0f8}(0.0)       Gray{N0f8}(0.008)\n",
       " Gray{N0f8}(0.008)  Gray{N0f8}(0.0)       Gray{N0f8}(0.008)\n",
       " Gray{N0f8}(0.008)  Gray{N0f8}(0.0)    …  Gray{N0f8}(0.008)\n",
       " Gray{N0f8}(0.008)  Gray{N0f8}(0.0)       Gray{N0f8}(0.008)\n",
       " Gray{N0f8}(0.012)  Gray{N0f8}(0.0)       Gray{N0f8}(0.004)\n",
       " Gray{N0f8}(0.004)  Gray{N0f8}(0.0)       Gray{N0f8}(0.008)\n",
       " Gray{N0f8}(0.008)  Gray{N0f8}(0.0)       Gray{N0f8}(0.008)\n",
       " Gray{N0f8}(0.0)    Gray{N0f8}(0.0)    …  Gray{N0f8}(0.0)\n",
       " Gray{N0f8}(0.02)   Gray{N0f8}(0.008)     Gray{N0f8}(0.02)"
      ]
     },
     "execution_count": 72,
     "metadata": {},
     "output_type": "execute_result"
    }
   ],
   "source": [
    "img_path = \"org_image.jpg\"\n",
    "org_image = load(img_path)"
   ]
  },
  {
   "cell_type": "code",
   "execution_count": 73,
   "metadata": {},
   "outputs": [
    {
     "data": {
      "image/png": "[encoded data removed]",
      "text/html": [
       "<img src=\"data:image/png;base64,iVBORw0KGgoAAAANSUhEUgAAAIAAAACACAAAAADmVT4XAAAABGdBTUEAALGPC/xhBQAAAAFzUkdCAK7OHOkAAAAgY0hSTQAAeiYAAICEAAD6AAAAgOgAAHUwAADqYAAAOpgAABdwnLpRPAAAAwFJREFUeAHFwTFvlXUYB9BD+dELXDAGQ2JMiJs6kBidGHXyC/p5nFhMjEEGFkIMAwyFGAO+tLc8bR3+JG8uhd62QJ5z4hxiKMfFUE4nmkWzaBanFJRZGYIyK2cTzaJZNItzKLNCDOXsolk0i2ZxSuX9yhDHlZNFs2gWzeKMYl2ZlbOLZtEsmsU5lFlQjgsWmJwsmkWzaBZnVGZLTIalYTIUymbRLJpFsziHJb7CLfyCpeEZ/sQDPEbZLJpFs2gWb8SszILCEpPhS3yDO/get3EZfxgOUXhss2gWzaJZgkI5LijDyuwqvsBNXMMNwzXcxC08xWObRbNoFs1S3q8QlHUHhsJlXDFs48iwcjrRLJpFs3gjWBhWKEMZyhC8xj5eYAdPsI3neI4nWCEoJ4tm0SyaJWaTzQoPcYgdXMQOCn/jPu7jsdOJZtEsmqWsu4Hv8CO+xc94hQe4h7u4h0d4hN+sC8oQlJNFs2gWzbLECmX4B//iNS5gD/v4D3tYocxiKMeVzaJZNItmmawLLuISLmOBQ+9XCIJCOZtoFs2iWbylsMArFC6YHeG62RITCkFQ1gXl3YJoFs2iWWywhy3EbIkJE5aYUNYFC0zerxDNolk0iw32cBnBa+xbN1kXFArl3ZaGFaJZNItmscG2oQwHmAxLTNaVWVCOm8yiWTSLZnGCYAuHhkvWfY07+AE/4bbjVniI33EP9/AXXhqiWTSLZrHBArsoXMBFwxKfYxsXDLu4gpVhgQV28QKvMGHXcB3RLJpFs9hg5d1WeIYYVmYL667gM2zjIhYovEQ0i2bRLE5Qhi0E+zgwFJ7iV+cXRLNoFs3iLcEKVxEcYguFq2bB5MMUolk0i2aJoQyFA7zGHq5gZSiUYYHy4aJZNItmKbPgBm7gEo6wwiGODAssseXjiGbRLJpliRUKhR3s4C6CwhKTTyOaRbNolskQ68psMiwNE4Ly4aJZNItm8UY5rqybzMrHEc2iWTSLDYLy6USzaBbN4gRBGYJCsMCEoHyYaBbNotn/0g3H7JKZYIwAAAAASUVORK5C\">"
      ],
      "text/plain": [
       "32×32 Array{Gray{N0f8},2} with eltype Gray{N0f8}:\n",
       " Gray{N0f8}(0.0)    Gray{N0f8}(0.0)    …  Gray{N0f8}(0.0)  Gray{N0f8}(0.0)\n",
       " Gray{N0f8}(0.0)    Gray{N0f8}(0.0)       Gray{N0f8}(0.0)  Gray{N0f8}(0.0)\n",
       " Gray{N0f8}(0.0)    Gray{N0f8}(0.0)       Gray{N0f8}(0.0)  Gray{N0f8}(0.0)\n",
       " Gray{N0f8}(0.0)    Gray{N0f8}(0.0)       Gray{N0f8}(0.0)  Gray{N0f8}(0.0)\n",
       " Gray{N0f8}(0.0)    Gray{N0f8}(0.0)       Gray{N0f8}(0.0)  Gray{N0f8}(0.0)\n",
       " Gray{N0f8}(0.0)    Gray{N0f8}(0.0)    …  Gray{N0f8}(0.0)  Gray{N0f8}(0.0)\n",
       " Gray{N0f8}(0.0)    Gray{N0f8}(0.0)       Gray{N0f8}(0.0)  Gray{N0f8}(0.0)\n",
       " Gray{N0f8}(0.0)    Gray{N0f8}(0.0)       Gray{N0f8}(0.0)  Gray{N0f8}(0.0)\n",
       " Gray{N0f8}(0.0)    Gray{N0f8}(0.0)       Gray{N0f8}(0.0)  Gray{N0f8}(0.0)\n",
       " Gray{N0f8}(0.016)  Gray{N0f8}(0.0)       Gray{N0f8}(0.0)  Gray{N0f8}(0.0)\n",
       " Gray{N0f8}(0.0)    Gray{N0f8}(0.0)    …  Gray{N0f8}(0.0)  Gray{N0f8}(0.0)\n",
       " Gray{N0f8}(0.0)    Gray{N0f8}(0.0)       Gray{N0f8}(0.0)  Gray{N0f8}(0.0)\n",
       " Gray{N0f8}(0.016)  Gray{N0f8}(0.016)     Gray{N0f8}(0.0)  Gray{N0f8}(0.0)\n",
       " ⋮                                     ⋱  ⋮                \n",
       " Gray{N0f8}(0.0)    Gray{N0f8}(0.0)    …  Gray{N0f8}(0.0)  Gray{N0f8}(0.0)\n",
       " Gray{N0f8}(0.0)    Gray{N0f8}(0.0)       Gray{N0f8}(0.0)  Gray{N0f8}(0.051)\n",
       " Gray{N0f8}(0.0)    Gray{N0f8}(0.0)       Gray{N0f8}(0.0)  Gray{N0f8}(0.0)\n",
       " Gray{N0f8}(0.0)    Gray{N0f8}(0.0)       Gray{N0f8}(0.0)  Gray{N0f8}(0.016)\n",
       " Gray{N0f8}(0.0)    Gray{N0f8}(0.0)       Gray{N0f8}(0.0)  Gray{N0f8}(0.0)\n",
       " Gray{N0f8}(0.016)  Gray{N0f8}(0.016)  …  Gray{N0f8}(0.0)  Gray{N0f8}(0.0)\n",
       " Gray{N0f8}(0.0)    Gray{N0f8}(0.0)       Gray{N0f8}(0.0)  Gray{N0f8}(0.0)\n",
       " Gray{N0f8}(0.043)  Gray{N0f8}(0.016)     Gray{N0f8}(0.0)  Gray{N0f8}(0.0)\n",
       " Gray{N0f8}(0.0)    Gray{N0f8}(0.0)       Gray{N0f8}(0.0)  Gray{N0f8}(0.0)\n",
       " Gray{N0f8}(0.0)    Gray{N0f8}(0.0)       Gray{N0f8}(0.0)  Gray{N0f8}(0.0)\n",
       " Gray{N0f8}(0.0)    Gray{N0f8}(0.0)    …  Gray{N0f8}(0.0)  Gray{N0f8}(0.0)\n",
       " Gray{N0f8}(0.0)    Gray{N0f8}(0.0)       Gray{N0f8}(0.0)  Gray{N0f8}(0.0)"
      ]
     },
     "execution_count": 73,
     "metadata": {},
     "output_type": "execute_result"
    }
   ],
   "source": [
    "img_path = \"A_x_result.jpg\"\n",
    "A_x_result = load(img_path)"
   ]
  },
  {
   "cell_type": "code",
   "execution_count": 74,
   "metadata": {},
   "outputs": [],
   "source": [
    "n = 1024\n",
    "Noise_power = 0.05\n",
    "e = add_gauss(zeros(n,1), Noise_power)\n",
    "A_x_result_noise = reshape(map(Float64, A_x_result), (32*32,1));"
   ]
  },
  {
   "cell_type": "markdown",
   "metadata": {},
   "source": [
    "# regulation matrix"
   ]
  },
  {
   "cell_type": "code",
   "execution_count": 75,
   "metadata": {},
   "outputs": [],
   "source": [
    "L = zeros(n-2,n)\n",
    "for i in range(1,n-2)\n",
    "    L[i,i] = -1\n",
    "    L[i,i+1] = 2\n",
    "    L[i,i+2] = -1\n",
    "end\n",
    "p = n-2;"
   ]
  },
  {
   "cell_type": "markdown",
   "metadata": {},
   "source": [
    "# Functions"
   ]
  },
  {
   "cell_type": "code",
   "execution_count": 76,
   "metadata": {},
   "outputs": [
    {
     "data": {
      "text/plain": [
       "df (generic function with 1 method)"
      ]
     },
     "execution_count": 76,
     "metadata": {},
     "output_type": "execute_result"
    }
   ],
   "source": [
    "function f(b_hat,lambda_arr,alpha_arr,z_arr,beta,p,eta,delta)\n",
    "    y = 0 \n",
    "    for j in range(1,p)\n",
    "        numerator = (b_hat[j] * lambda_arr[j]^2 - alpha_arr[j] * z_arr[j] * lambda_arr[j]^2)^2\n",
    "        denominator = (beta * alpha_arr[j]^2 + lambda_arr[j]^2)^2\n",
    "        y += numerator/denominator\n",
    "    end\n",
    "    y = y - (eta*delta)^2\n",
    "end\n",
    "\n",
    "function df(b_hat,lambda_arr,alpha_arr,z_arr,beta,p,eta,delta)\n",
    "    y = 0 \n",
    "    for j in range(1,p)\n",
    "        numerator = -2 * (alpha_arr[j]^2) * (b_hat[j] * lambda_arr[j]^2 - alpha_arr[j] * z_arr[j] * lambda_arr[j]^2)^2 \n",
    "        denominator = (beta * alpha_arr[j]^2 + lambda_arr[j]^2)^3\n",
    "        y += numerator/denominator\n",
    "    end\n",
    "    return y\n",
    "end"
   ]
  },
  {
   "cell_type": "markdown",
   "metadata": {},
   "source": [
    "## Beta Finder"
   ]
  },
  {
   "cell_type": "code",
   "execution_count": 77,
   "metadata": {},
   "outputs": [
    {
     "data": {
      "text/plain": [
       "beta_solver (generic function with 1 method)"
      ]
     },
     "execution_count": 77,
     "metadata": {},
     "output_type": "execute_result"
    }
   ],
   "source": [
    "function beta_solver(max_iter,beta,epsilon_criterion,beta_max,z_arr)\n",
    "    for i in range(1,max_iter)\n",
    "        fx = f(b_hat,lambda_arr,alpha_arr,z_arr,beta,p,eta,delta) \n",
    "        if abs(f(b_hat,lambda_arr,alpha_arr,z_arr,beta,p,eta,delta)) < epsilon_criterion\n",
    "            return beta\n",
    "        end\n",
    "        dfx = df(b_hat,lambda_arr,alpha_arr,z_arr,beta,p,eta,delta)\n",
    "        beta_new = beta - (fx / dfx)\n",
    "        if beta_new >= beta_max\n",
    "            return beta\n",
    "        else\n",
    "            beta = beta_new\n",
    "        end\n",
    "    end\n",
    "    return beta\n",
    "end"
   ]
  },
  {
   "cell_type": "markdown",
   "metadata": {},
   "source": [
    "# generalized singular value decomposition"
   ]
  },
  {
   "cell_type": "code",
   "execution_count": 78,
   "metadata": {},
   "outputs": [
    {
     "data": {
      "text/plain": [
       "true"
      ]
     },
     "execution_count": 78,
     "metadata": {},
     "output_type": "execute_result"
    }
   ],
   "source": [
    "F = gsvd(A_x, L);\n",
    "U = F.U\n",
    "Sigma = F.C;\n",
    "V = F.V;\n",
    "Lambda = F.S;\n",
    "Y = (F.R*F.Q')';\n",
    "\n",
    "[A_x; L] ≈ [U*Sigma; V*Lambda] * Y'"
   ]
  },
  {
   "cell_type": "markdown",
   "metadata": {},
   "source": [
    "# initiate the process"
   ]
  },
  {
   "cell_type": "code",
   "execution_count": 79,
   "metadata": {},
   "outputs": [
    {
     "data": {
      "text/plain": [
       "8.755961774115576"
      ]
     },
     "execution_count": 79,
     "metadata": {},
     "output_type": "execute_result"
    }
   ],
   "source": [
    "x0 = zeros(1024,1);\n",
    "z_arr = Y' * x0;\n",
    "b = A_x_result_noise;\n",
    "b_hat = U' * b;\n",
    "eta = 1.1\n",
    "delta = Noise_power * sqrt(n);\n",
    "norm(A_x * x0 - b)"
   ]
  },
  {
   "cell_type": "code",
   "execution_count": 80,
   "metadata": {},
   "outputs": [],
   "source": [
    "lambda_arr = zeros(p,1);\n",
    "for i in range(1,p)\n",
    "    lambda_arr[i] = Lambda[p+1-i,n+1-i];\n",
    "end\n",
    "alpha_arr  = zeros(p,1);\n",
    "for i in range(1,p)\n",
    "    alpha_arr[i] = Sigma[n+1-i,n+1-i];\n",
    "end "
   ]
  },
  {
   "cell_type": "code",
   "execution_count": 81,
   "metadata": {},
   "outputs": [],
   "source": [
    "beta = 0\n",
    "max_iter = 40;\n",
    "max_iter_alg = 40;\n",
    "epsilon_criterion = 1e-4;\n",
    "z_criterion = 1e-3;\n",
    "beta_max = 1000;"
   ]
  },
  {
   "cell_type": "markdown",
   "metadata": {},
   "source": [
    "# Test two functions"
   ]
  },
  {
   "cell_type": "code",
   "execution_count": 82,
   "metadata": {},
   "outputs": [
    {
     "data": {
      "text/plain": [
       "(73.56916381527903, -977050.3633853688)"
      ]
     },
     "execution_count": 82,
     "metadata": {},
     "output_type": "execute_result"
    }
   ],
   "source": [
    "fx = f(b_hat,lambda_arr,alpha_arr,z_arr,beta,p,eta,delta);\n",
    "dfx = df(b_hat,lambda_arr,alpha_arr,z_arr,beta,p,eta,delta);\n",
    "fx, dfx"
   ]
  },
  {
   "cell_type": "markdown",
   "metadata": {},
   "source": [
    "# Running the Alg"
   ]
  },
  {
   "cell_type": "code",
   "execution_count": 83,
   "metadata": {},
   "outputs": [],
   "source": [
    "for i in range(1,max_iter_alg)\n",
    "    beta = beta_solver(max_iter,beta,epsilon_criterion,beta_max,z_arr)\n",
    "    a = Sigma' * Sigma + (1/beta) * Lambda' * Lambda\n",
    "    b = Sigma' * b_hat + (1/beta) *  Lambda' * Lambda * z_arr\n",
    "    new_z = a \\ b;\n",
    "    if norm(new_z - z_arr) < z_criterion \n",
    "        z_arr = new_z\n",
    "        break\n",
    "    end\n",
    "    z_arr = new_z\n",
    "end"
   ]
  },
  {
   "cell_type": "code",
   "execution_count": 84,
   "metadata": {},
   "outputs": [
    {
     "data": {
      "image/png": "[encoded data removed]",
      "text/html": [
       "<img src=\"data:image/png;base64,iVBORw0KGgoAAAANSUhEUgAAAIAAAACACAAAAADmVT4XAAAABGdBTUEAALGPC/xhBQAAAAFzUkdCAK7OHOkAAAAgY0hSTQAAeiYAAICEAAD6AAAAgOgAAHUwAADqYAAAOpgAABdwnLpRPAAABU9JREFUeAHFwcuOHGcZANBTVV/3TE+PZ+z4EmOiRERRgiIQgjcIS3gFxA6JDVs2eQmegZfIClixwFJkEcGKkAuJbGfG48vM9PSlqrpo6YtUGvkB/nOiQY89rNFgwBb7WCGkDjMsEbiDp1Il3ccTqcKAezhx3V2cIhQWCguFxT4WWKPCFjNcYYUaW0zQo5dqbKUGvbSRGvRSL1UYpK0UCguFhcIijCpsEUY1OuxhbbTBWqrRYw+dNEiBznUNWikUFgoLhUVvNEiDUS8N0kZqsJVaqcLgugl6103RS6GwUFgoLFppgh4DWimkDp3UIDBB63UbaSsNqKQKAwaEFAoLhYXCYi3tYyFtpCnWUidNsEKFlXQDS6ykGlO0GHCMCwxo0GOOVwiFhcJCYeF7NbaosJX2sUSglSaY4cLoPTySHuAxVtjDGhNpQIUWcykUFgoLhYWdwEKaYo3AGgNmuMSA2/gKP8QH+Cl+h3fwMf6Dx1It3TDaShMpFBYKC4WFnRt4IR1gjWOcSVMMOMBaOsdv8Eu8gw3+gP/iE1RYSqdGW+lMCoWFwkJhYWfP6FxqvK7BE2kPH+Ft6d/4OY5Q4R6+k55IcyykEwRCYaGwUFjYWRvV6NEbbRBo0aDHFmtU0n3pXHqGQIcJWqxQYUCDDqGwUFgoLOxc4T5O0KDBJRr0uJAq3MIztPgbPsCA2/gfPsMEG+yjwy2coMcUG9zGdwiFhcJCYTHDBlfYYoUGWxziQnoXX6CXLvBn3MSb+Ah/wl+xkaZY4Q5OpEE6xncIhYXCQmGxxBSDdIhL/BYf4wFe4i38Av/CHAv8E3/EN/gRvkSNt3CKSnqOfbQItLjEDKGwUFgoLOz8DF/iApfSF5jgEK/Q4hu0eIAF7mAp1dIMK3TYSAsc4BU66QJzhMJCYaGwsNNhIdXYosZMegNLbKSp9BwhvZQGnGHAIG3QoccgbdAjFBYKC4WFnQmWmKCVetzEAgeYoZdaHOMV9nALZ2iwxCCt0GBAL22xL10hFBYKC4WFnYU0GJ1jDyeY42u8j0f4Ch/iFTYYcIRzaY4ePea4RIcaFaY4l0JhobBQWNg5Q40pOukpKtyWvsYMMyzxUqrQYoPbOMMCx3iFDp00Q42l9AChsFBYKCzsdJhjMOqlkGb4AkvU2EhzvInPcSUdIqSVUYe10VOEwkJhobCwcwMdLoxuSs/xBpYI3MUpVtIP8BDHruulRvocv8dfcIwOC4TCQmGhsLCzjxq90Z60lA7wLY5wE3fwOebYSmu0uMR9rNFiH7fwUJqjR4VQWCgsFBZ2rrBx3VJaSDPcRYcXOJZW+Aq3pB5zaQ9bLNHhQ/wDj6W7CIWFwkJhYecUc3RYSafS+9IEa5zjJh5Lj/FrPDG6iwWWGKS38a3rjhEKC4WFwsLOFX6Ch2jQY2u0woAO+3gbn0k38TXu4UQ6xCnmWEgNBkzQSgNCYaGwUFjYqfEuHqKXwugl3sAV7mIjVbghhdFMaoz2MLiuQSgsFBYKCztbHEqBDu9Jz3CKQ/wYKzyV9jBI51KNXmqNOmkwahEKC4WFwsL3TqVOeoRf4ROjA1RYSCs8RoW1tMULqTe68LorhMJCYaGwmGKDv0sTHOIFPpWOcYkr3EONFiu0CNSYoMUlAls06HGBGls06HGJUFgoLBQWGwSeSTVeoMKp1KOXztDjCCssUKHFEVosUaPHEc6xRIUtjnCOK4TCQmGhsLBzhOeo0Uu38Bw1BqNeqqUBlTSRBgzSVBqMJtKAUFgoLBQWdiqpRifV0gxb6R5OUOEA59hiihXCqJIar2uMQmGhsFDY/wEg6qOU2n822AAAAABJRU5ErkJg\">"
      ],
      "text/plain": [
       "32×32 Array{Gray{Float64},2} with eltype Gray{Float64}:\n",
       " Gray{Float64}(0.0115065)    …  Gray{Float64}(-0.0311396)\n",
       " Gray{Float64}(0.0432545)       Gray{Float64}(-0.0485376)\n",
       " Gray{Float64}(0.0577745)       Gray{Float64}(-0.0650333)\n",
       " Gray{Float64}(0.0482314)       Gray{Float64}(-0.0734108)\n",
       " Gray{Float64}(0.0270561)       Gray{Float64}(-0.0880937)\n",
       " Gray{Float64}(0.000418377)  …  Gray{Float64}(-0.127937)\n",
       " Gray{Float64}(-0.0223146)      Gray{Float64}(-0.103206)\n",
       " Gray{Float64}(-0.0212333)      Gray{Float64}(-0.0678406)\n",
       " Gray{Float64}(-0.0418651)      Gray{Float64}(-0.0323494)\n",
       " Gray{Float64}(-0.00285866)     Gray{Float64}(0.0149777)\n",
       " Gray{Float64}(-0.049432)    …  Gray{Float64}(0.00180848)\n",
       " Gray{Float64}(-0.100155)       Gray{Float64}(-0.0602314)\n",
       " Gray{Float64}(0.0340934)       Gray{Float64}(-0.0317986)\n",
       " ⋮                           ⋱  \n",
       " Gray{Float64}(-0.201051)    …  Gray{Float64}(-0.070155)\n",
       " Gray{Float64}(-0.223979)       Gray{Float64}(0.0484891)\n",
       " Gray{Float64}(-0.162941)       Gray{Float64}(0.083106)\n",
       " Gray{Float64}(-0.135958)       Gray{Float64}(0.142172)\n",
       " Gray{Float64}(-0.162613)       Gray{Float64}(0.138744)\n",
       " Gray{Float64}(-0.242036)    …  Gray{Float64}(0.147817)\n",
       " Gray{Float64}(-0.240368)       Gray{Float64}(0.130985)\n",
       " Gray{Float64}(-0.0173323)      Gray{Float64}(0.0899656)\n",
       " Gray{Float64}(0.0237095)       Gray{Float64}(0.0441378)\n",
       " Gray{Float64}(-0.00727929)     Gray{Float64}(0.00470855)\n",
       " Gray{Float64}(-0.055052)    …  Gray{Float64}(-0.029656)\n",
       " Gray{Float64}(-0.0488301)      Gray{Float64}(-0.0491179)"
      ]
     },
     "execution_count": 84,
     "metadata": {},
     "output_type": "execute_result"
    }
   ],
   "source": [
    "x_reconstructed = Y' \\ z_arr;\n",
    "x_reconstructed = reshape(x_reconstructed, (32,32));\n",
    "x_reconstructed_image = Gray.(x_reconstructed)"
   ]
  }
 ],
 "metadata": {
  "kernelspec": {
   "display_name": "Julia 1.7.2",
   "language": "julia",
   "name": "julia-1.7"
  },
  "language_info": {
   "file_extension": ".jl",
   "mimetype": "application/julia",
   "name": "julia",
   "version": "1.7.2"
  }
 },
 "nbformat": 4,
 "nbformat_minor": 4
}
