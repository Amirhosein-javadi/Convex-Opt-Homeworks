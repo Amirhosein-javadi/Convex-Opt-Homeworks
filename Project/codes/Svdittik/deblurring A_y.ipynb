{
 "cells": [
  {
   "cell_type": "markdown",
   "metadata": {},
   "source": [
    "# Import"
   ]
  },
  {
   "cell_type": "code",
   "execution_count": 75,
   "metadata": {},
   "outputs": [],
   "source": [
    "using MAT\n",
    "using LinearAlgebra\n",
    "using GeneralizedSVD\n",
    "using Plots\n",
    "using Images, FileIO\n",
    "using Noise"
   ]
  },
  {
   "cell_type": "markdown",
   "metadata": {},
   "source": [
    "# Loading Mat files "
   ]
  },
  {
   "cell_type": "code",
   "execution_count": 76,
   "metadata": {},
   "outputs": [],
   "source": [
    "vars = matread(\"A_y.mat\");\n",
    "A_y = vars[\"A_y\"];\n",
    "A_y = Matrix(A_y);"
   ]
  },
  {
   "cell_type": "markdown",
   "metadata": {},
   "source": [
    "# Loading images"
   ]
  },
  {
   "cell_type": "code",
   "execution_count": 77,
   "metadata": {},
   "outputs": [
    {
     "data": {
      "image/png": "[encoded data removed]",
      "text/html": [
       "<img src=\"data:image/png;base64,iVBORw0KGgoAAAANSUhEUgAAAIAAAACACAAAAADmVT4XAAAABGdBTUEAALGPC/xhBQAAAAFzUkdCAK7OHOkAAAAgY0hSTQAAeiYAAICEAAD6AAAAgOgAAHUwAADqYAAAOpgAABdwnLpRPAAAAkhJREFUeAHFwUFuXGUQBsDq0RcuCexYY1bJigvAFViFUxKUaSz9SC/Pb+wZ4zFdlQ84o/2/CifEsBgWw/K3vULbK7TrCu15hbb5ihgWw2JYTjjbtKN2m0ahXdb2TohhMSyGxSsV2vPa68SwGBbD0l6n3abQXtaIYTEshqXQ7q9dV4hhMSyGxROF9rxCu02hbQptL4bFsBgWT7TbfYff8T1O+IyP+OKydhTDYlgMi1dqm9/ws80D/sInS7suhsWwGBYXFNpeoS2Fxg+OfsInt4thMSyGxaNC27Sl0Ja2lE15uxgWw2JYPGqXtaO2FP7Eg70/bArtZTEshsWw+EahLYV2VJbGRxR+tHzGrzbtuhgWw2JYPCo0GmVptL1C23zBA35Bo9A2hfayGBbDYlg8ahQa7XmFdtSWxglnS7suhsWwGBb/apc1ytKWQtsrNM4otNvEsBgWw+KKctRe1m4Xw2JYDIs7aUtZ2qbQLothMSyGxZ21pdCWRqEthbbEsBgWw+KdNAptacsJZ5sYFsNiWNxB2zTKZYWzpSwxLIbFsLiDthQKjXJUaEujEMNiWAyLOyi0TbmsHcWwGBbD4g7KbQptL4bFsBgWVzTKptD+m3YUw2JYDIsnCm1T9hqFRqHdrtD2YlgMi2HxRLuuUWiv045iWAyLYSmXFcrz2ts1YlgMi2E5u6wthfY+CjEshsWwFNpSaBTa0ii09xHDYlgMy9mmUWhLodEotLcptM0ZMSyGxbB8wFdLoVGWxgmFRnm7shROiGExLIb9AyiXjGVrseHRAAAAAElFTkSuQmCC\">"
      ],
      "text/plain": [
       "32×32 Array{Gray{N0f8},2} with eltype Gray{N0f8}:\n",
       " Gray{N0f8}(0.02)   Gray{N0f8}(0.012)  …  Gray{N0f8}(0.02)\n",
       " Gray{N0f8}(0.0)    Gray{N0f8}(0.0)       Gray{N0f8}(0.0)\n",
       " Gray{N0f8}(0.008)  Gray{N0f8}(0.0)       Gray{N0f8}(0.008)\n",
       " Gray{N0f8}(0.008)  Gray{N0f8}(0.0)       Gray{N0f8}(0.008)\n",
       " Gray{N0f8}(0.004)  Gray{N0f8}(0.0)       Gray{N0f8}(0.004)\n",
       " Gray{N0f8}(0.008)  Gray{N0f8}(0.0)    …  Gray{N0f8}(0.008)\n",
       " Gray{N0f8}(0.008)  Gray{N0f8}(0.0)       Gray{N0f8}(0.008)\n",
       " Gray{N0f8}(0.008)  Gray{N0f8}(0.0)       Gray{N0f8}(0.008)\n",
       " Gray{N0f8}(0.008)  Gray{N0f8}(0.0)       Gray{N0f8}(0.008)\n",
       " Gray{N0f8}(0.008)  Gray{N0f8}(0.0)       Gray{N0f8}(0.008)\n",
       " Gray{N0f8}(0.008)  Gray{N0f8}(0.004)  …  Gray{N0f8}(0.008)\n",
       " Gray{N0f8}(0.008)  Gray{N0f8}(0.0)       Gray{N0f8}(0.008)\n",
       " Gray{N0f8}(0.008)  Gray{N0f8}(0.0)       Gray{N0f8}(0.008)\n",
       " ⋮                                     ⋱  \n",
       " Gray{N0f8}(0.008)  Gray{N0f8}(0.0)    …  Gray{N0f8}(0.008)\n",
       " Gray{N0f8}(0.008)  Gray{N0f8}(0.0)       Gray{N0f8}(0.008)\n",
       " Gray{N0f8}(0.008)  Gray{N0f8}(0.0)       Gray{N0f8}(0.008)\n",
       " Gray{N0f8}(0.008)  Gray{N0f8}(0.0)       Gray{N0f8}(0.008)\n",
       " Gray{N0f8}(0.008)  Gray{N0f8}(0.0)       Gray{N0f8}(0.008)\n",
       " Gray{N0f8}(0.008)  Gray{N0f8}(0.0)    …  Gray{N0f8}(0.008)\n",
       " Gray{N0f8}(0.008)  Gray{N0f8}(0.0)       Gray{N0f8}(0.008)\n",
       " Gray{N0f8}(0.012)  Gray{N0f8}(0.0)       Gray{N0f8}(0.004)\n",
       " Gray{N0f8}(0.004)  Gray{N0f8}(0.0)       Gray{N0f8}(0.008)\n",
       " Gray{N0f8}(0.008)  Gray{N0f8}(0.0)       Gray{N0f8}(0.008)\n",
       " Gray{N0f8}(0.0)    Gray{N0f8}(0.0)    …  Gray{N0f8}(0.0)\n",
       " Gray{N0f8}(0.02)   Gray{N0f8}(0.008)     Gray{N0f8}(0.02)"
      ]
     },
     "execution_count": 77,
     "metadata": {},
     "output_type": "execute_result"
    }
   ],
   "source": [
    "img_path = \"org_image.jpg\"\n",
    "org_image = load(img_path)"
   ]
  },
  {
   "cell_type": "code",
   "execution_count": 78,
   "metadata": {},
   "outputs": [
    {
     "data": {
      "image/png": "[encoded data removed]",
      "text/html": [
       "<img src=\"data:image/png;base64,iVBORw0KGgoAAAANSUhEUgAAAIAAAACACAAAAADmVT4XAAAABGdBTUEAALGPC/xhBQAAAAFzUkdCAK7OHOkAAAAgY0hSTQAAeiYAAICEAAD6AAAAgOgAAHUwAADqYAAAOpgAABdwnLpRPAAAAxZJREFUeAHFwUGLneUZBuDL8X4Tz0gYrZQsLC7cFgOKoF32d/Zv9Bd0JVQMigsXBQNWW8EoRyFfMs/ppIF38Xk8M5MzGnmuK25og8WLE82iWTSLG1q8WNEsmkWzOMJA+X1Es2gWzeJXGCgvRjSLZtEsbmi43EC5uWgWzaJZ/AplGriLV3GCn/AQi+NFs2gWzeIIZVWmgTfxLv6AgW9xHw8cL5pFs2gWNzBQpjt4C/dwFwNf4iF+wNZxolk0i2bxzAaLaYPFvjNsUaaB7/FXfIA3cIE3cRv/wAaL54tm0SyaxS/sHNq63F28j9cR/AcPTIvjRLNoFs3imcWqrM7wyFRWZRr23cZwM9EsmkWzuMRA4W1cmM7xAIvVv/ExXjdt8SUGynGiWTSLZnGN93Bi9S/TBgs+wwn+iB3+i09QGCjPF82iWTTLQNlXpg9Rplv4m333UfiT6QE+dzPRLJpFs5Sr/QU7PMGrVovpa5zjK9NDfGsqDJTrRbNoFs3iGn82PcIphqlMhW/wjcuV54tm0SyaxRFOsUM5NFBuZoPFFM2iWTSL36iwwWIaKNNAmQbKtJgGolk0i2ZxpGCgHLqHx3iM13COC7yCczzGK7iPDRaraBbNolm8APdMFxj4H85xx/QEL+O+fYVoFs2iWfxGA+9gY3oJT7HgFOemxbSYBgrRLJpFs7jCcJwyFW7hqSmmU5ziR/vKFM2iWTSLK5TjnGGDBad4hIGBp3iIR9hZDRQGolk0i2ZxheE4W3yB73AHP2GD4InpNm47dIpoFs2iWVyh7NshKAyU6Qx/x2umxzjBLZzjFs7xA86wRZm2iGbRLJrFNT7FBU5wgcVUVltsscEOhWEqDAQ7lNUwRbNoFs3iGv9EmYbrLVZlVSiHyhTNolk0i58ZKAwUPsKJ6WXTQFkNU1kNU1kNlEPRLJpFs/iZsu8T0wVOXK4cKofK5aJZNItmcYkyfYEdYlUODQQ7lOMNRLNoFs3imQ0W00CZFlM5NEyFQrncQJkGyr5oFs2iWfzCKbb2bbBgg8VUjlP2DZRVNItm0ez/ubXAvH+7TtsAAAAASUVORK5C\">"
      ],
      "text/plain": [
       "32×32 Array{Gray{N0f8},2} with eltype Gray{N0f8}:\n",
       " Gray{N0f8}(0.0)  Gray{N0f8}(0.0)    …  Gray{N0f8}(0.0)   Gray{N0f8}(0.0)\n",
       " Gray{N0f8}(0.0)  Gray{N0f8}(0.0)       Gray{N0f8}(0.0)   Gray{N0f8}(0.0)\n",
       " Gray{N0f8}(0.0)  Gray{N0f8}(0.0)       Gray{N0f8}(0.0)   Gray{N0f8}(0.0)\n",
       " Gray{N0f8}(0.0)  Gray{N0f8}(0.0)       Gray{N0f8}(0.0)   Gray{N0f8}(0.0)\n",
       " Gray{N0f8}(0.0)  Gray{N0f8}(0.0)       Gray{N0f8}(0.0)   Gray{N0f8}(0.0)\n",
       " Gray{N0f8}(0.0)  Gray{N0f8}(0.0)    …  Gray{N0f8}(0.0)   Gray{N0f8}(0.0)\n",
       " Gray{N0f8}(0.0)  Gray{N0f8}(0.0)       Gray{N0f8}(0.0)   Gray{N0f8}(0.0)\n",
       " Gray{N0f8}(0.0)  Gray{N0f8}(0.0)       Gray{N0f8}(0.0)   Gray{N0f8}(0.0)\n",
       " Gray{N0f8}(0.0)  Gray{N0f8}(0.035)     Gray{N0f8}(0.0)   Gray{N0f8}(0.0)\n",
       " Gray{N0f8}(0.0)  Gray{N0f8}(0.035)     Gray{N0f8}(0.0)   Gray{N0f8}(0.0)\n",
       " Gray{N0f8}(0.0)  Gray{N0f8}(0.0)    …  Gray{N0f8}(0.0)   Gray{N0f8}(0.0)\n",
       " Gray{N0f8}(0.0)  Gray{N0f8}(0.0)       Gray{N0f8}(0.0)   Gray{N0f8}(0.0)\n",
       " Gray{N0f8}(0.0)  Gray{N0f8}(0.0)       Gray{N0f8}(0.0)   Gray{N0f8}(0.0)\n",
       " ⋮                                   ⋱  ⋮                 \n",
       " Gray{N0f8}(0.0)  Gray{N0f8}(0.0)    …  Gray{N0f8}(0.02)  Gray{N0f8}(0.0)\n",
       " Gray{N0f8}(0.0)  Gray{N0f8}(0.0)       Gray{N0f8}(0.0)   Gray{N0f8}(0.0)\n",
       " Gray{N0f8}(0.0)  Gray{N0f8}(0.0)       Gray{N0f8}(0.0)   Gray{N0f8}(0.02)\n",
       " Gray{N0f8}(0.0)  Gray{N0f8}(0.0)       Gray{N0f8}(0.0)   Gray{N0f8}(0.059)\n",
       " Gray{N0f8}(0.0)  Gray{N0f8}(0.0)       Gray{N0f8}(0.0)   Gray{N0f8}(0.0)\n",
       " Gray{N0f8}(0.0)  Gray{N0f8}(0.0)    …  Gray{N0f8}(0.02)  Gray{N0f8}(0.02)\n",
       " Gray{N0f8}(0.0)  Gray{N0f8}(0.0)       Gray{N0f8}(0.0)   Gray{N0f8}(0.0)\n",
       " Gray{N0f8}(0.0)  Gray{N0f8}(0.0)       Gray{N0f8}(0.0)   Gray{N0f8}(0.0)\n",
       " Gray{N0f8}(0.0)  Gray{N0f8}(0.0)       Gray{N0f8}(0.0)   Gray{N0f8}(0.0)\n",
       " Gray{N0f8}(0.0)  Gray{N0f8}(0.0)       Gray{N0f8}(0.0)   Gray{N0f8}(0.02)\n",
       " Gray{N0f8}(0.0)  Gray{N0f8}(0.035)  …  Gray{N0f8}(0.0)   Gray{N0f8}(0.02)\n",
       " Gray{N0f8}(0.0)  Gray{N0f8}(0.035)     Gray{N0f8}(0.0)   Gray{N0f8}(0.02)"
      ]
     },
     "execution_count": 78,
     "metadata": {},
     "output_type": "execute_result"
    }
   ],
   "source": [
    "img_path = \"A_y_result.jpg\"\n",
    "A_y_result = load(img_path)"
   ]
  },
  {
   "cell_type": "code",
   "execution_count": 79,
   "metadata": {},
   "outputs": [],
   "source": [
    "n = 1024\n",
    "Noise_power = 0.05\n",
    "e = add_gauss(zeros(n,1), Noise_power)\n",
    "A_y_result_noise = reshape(map(Float64, A_y_result), (32*32,1));"
   ]
  },
  {
   "cell_type": "markdown",
   "metadata": {},
   "source": [
    "# regulation matrix"
   ]
  },
  {
   "cell_type": "code",
   "execution_count": 80,
   "metadata": {},
   "outputs": [],
   "source": [
    "L = zeros(n-2,n)\n",
    "for i in range(1,n-2)\n",
    "    L[i,i] = -1\n",
    "    L[i,i+1] = 2\n",
    "    L[i,i+2] = -1\n",
    "end\n",
    "p = n-2;"
   ]
  },
  {
   "cell_type": "markdown",
   "metadata": {},
   "source": [
    "# Functions"
   ]
  },
  {
   "cell_type": "code",
   "execution_count": 81,
   "metadata": {},
   "outputs": [
    {
     "data": {
      "text/plain": [
       "df (generic function with 1 method)"
      ]
     },
     "execution_count": 81,
     "metadata": {},
     "output_type": "execute_result"
    }
   ],
   "source": [
    "function f(b_hat,lambda_arr,alpha_arr,z_arr,beta,p,eta,delta)\n",
    "    y = 0 \n",
    "    for j in range(1,p)\n",
    "        numerator = (b_hat[j] * lambda_arr[j]^2 - alpha_arr[j] * z_arr[j] * lambda_arr[j]^2)^2\n",
    "        denominator = (beta * alpha_arr[j]^2 + lambda_arr[j]^2)^2\n",
    "        y += numerator/denominator\n",
    "    end\n",
    "    y = y - (eta*delta)^2\n",
    "end\n",
    "\n",
    "function df(b_hat,lambda_arr,alpha_arr,z_arr,beta,p,eta,delta)\n",
    "    y = 0 \n",
    "    for j in range(1,p)\n",
    "        numerator = -2 * (alpha_arr[j]^2) * (b_hat[j] * lambda_arr[j]^2 - alpha_arr[j] * z_arr[j] * lambda_arr[j]^2)^2 \n",
    "        denominator = (beta * alpha_arr[j]^2 + lambda_arr[j]^2)^3\n",
    "        y += numerator/denominator\n",
    "    end\n",
    "    return y\n",
    "end"
   ]
  },
  {
   "cell_type": "markdown",
   "metadata": {},
   "source": [
    "## Beta Finder"
   ]
  },
  {
   "cell_type": "code",
   "execution_count": 82,
   "metadata": {},
   "outputs": [
    {
     "data": {
      "text/plain": [
       "beta_solver (generic function with 1 method)"
      ]
     },
     "execution_count": 82,
     "metadata": {},
     "output_type": "execute_result"
    }
   ],
   "source": [
    "function beta_solver(max_iter,beta,epsilon_criterion,beta_max,z_arr)\n",
    "    for i in range(1,max_iter)\n",
    "        fx = f(b_hat,lambda_arr,alpha_arr,z_arr,beta,p,eta,delta) \n",
    "        if abs(f(b_hat,lambda_arr,alpha_arr,z_arr,beta,p,eta,delta)) < epsilon_criterion\n",
    "            return beta\n",
    "        end\n",
    "        dfx = df(b_hat,lambda_arr,alpha_arr,z_arr,beta,p,eta,delta)\n",
    "        beta_new = beta - (fx / dfx)\n",
    "        if beta_new >= beta_max\n",
    "            return beta\n",
    "        else\n",
    "            beta = beta_new\n",
    "        end\n",
    "    end\n",
    "    return beta\n",
    "end"
   ]
  },
  {
   "cell_type": "markdown",
   "metadata": {},
   "source": [
    "# generalized singular value decomposition"
   ]
  },
  {
   "cell_type": "code",
   "execution_count": 83,
   "metadata": {},
   "outputs": [
    {
     "data": {
      "text/plain": [
       "true"
      ]
     },
     "execution_count": 83,
     "metadata": {},
     "output_type": "execute_result"
    }
   ],
   "source": [
    "F = gsvd(A_y, L);\n",
    "U = F.U\n",
    "Sigma = F.C;\n",
    "V = F.V;\n",
    "Lambda = F.S;\n",
    "Y = (F.R*F.Q')';\n",
    "\n",
    "[A_y; L] ≈ [U*Sigma; V*Lambda] * Y'"
   ]
  },
  {
   "cell_type": "markdown",
   "metadata": {},
   "source": [
    "# initiate the process"
   ]
  },
  {
   "cell_type": "code",
   "execution_count": 84,
   "metadata": {},
   "outputs": [
    {
     "data": {
      "text/plain": [
       "9.08443624723224"
      ]
     },
     "execution_count": 84,
     "metadata": {},
     "output_type": "execute_result"
    }
   ],
   "source": [
    "x0 = zeros(1024,1);\n",
    "z_arr = Y' * x0;\n",
    "b = A_y_result_noise;\n",
    "b_hat = U' * b;\n",
    "eta = 1.1\n",
    "delta = Noise_power * sqrt(n);\n",
    "norm(A_y * x0 - b)"
   ]
  },
  {
   "cell_type": "code",
   "execution_count": 85,
   "metadata": {},
   "outputs": [],
   "source": [
    "lambda_arr = zeros(p,1);\n",
    "for i in range(1,p)\n",
    "    lambda_arr[i] = Lambda[p+1-i,n+1-i];\n",
    "end\n",
    "alpha_arr  = zeros(p,1);\n",
    "for i in range(1,p)\n",
    "    alpha_arr[i] = Sigma[n+1-i,n+1-i];\n",
    "end "
   ]
  },
  {
   "cell_type": "code",
   "execution_count": 86,
   "metadata": {},
   "outputs": [],
   "source": [
    "beta = 0\n",
    "max_iter = 40;\n",
    "max_iter_alg = 40;\n",
    "epsilon_criterion = 1e-4;\n",
    "z_criterion = 1e-3;\n",
    "beta_max = 1000;"
   ]
  },
  {
   "cell_type": "markdown",
   "metadata": {},
   "source": [
    "# Test two functions"
   ]
  },
  {
   "cell_type": "code",
   "execution_count": 87,
   "metadata": {},
   "outputs": [
    {
     "data": {
      "text/plain": [
       "(79.42932669005643, -1.1314060025259224e6)"
      ]
     },
     "execution_count": 87,
     "metadata": {},
     "output_type": "execute_result"
    }
   ],
   "source": [
    "fx = f(b_hat,lambda_arr,alpha_arr,z_arr,beta,p,eta,delta);\n",
    "dfx = df(b_hat,lambda_arr,alpha_arr,z_arr,beta,p,eta,delta);\n",
    "fx, dfx"
   ]
  },
  {
   "cell_type": "markdown",
   "metadata": {},
   "source": [
    "# Running the Alg"
   ]
  },
  {
   "cell_type": "code",
   "execution_count": 88,
   "metadata": {},
   "outputs": [],
   "source": [
    "for i in range(1,max_iter_alg)\n",
    "    beta = beta_solver(max_iter,beta,epsilon_criterion,beta_max,z_arr)\n",
    "    a = Sigma' * Sigma + (1/beta) * Lambda' * Lambda\n",
    "    b = Sigma' * b_hat + (1/beta) *  Lambda' * Lambda * z_arr\n",
    "    new_z = a \\ b;\n",
    "    if norm(new_z - z_arr) < z_criterion \n",
    "        z_arr = new_z\n",
    "        break\n",
    "    end\n",
    "    z_arr = new_z\n",
    "end"
   ]
  },
  {
   "cell_type": "code",
   "execution_count": 89,
   "metadata": {},
   "outputs": [
    {
     "data": {
      "image/png": "[encoded data removed]",
      "text/html": [
       "<img src=\"data:image/png;base64,iVBORw0KGgoAAAANSUhEUgAAAIAAAACACAAAAADmVT4XAAAABGdBTUEAALGPC/xhBQAAAAFzUkdCAK7OHOkAAAAgY0hSTQAAeiYAAICEAAD6AAAAgOgAAHUwAADqYAAAOpgAABdwnLpRPAAABRZJREFUeAHFwT2LbHcdAODnnPmdedmd3bv3eg0xoJWVooXYCAFbQcQyH8HOytJOsLESrGy09DMIgpWNEAKm8CVCRIxyw32ZnZ3ZmTlvBn6Bk2G5Yvd/nvCpGXrpAnsPXaDBBgscMceADgsc0aD1eoEONUJhobBQWFQY0ZvsUWNw7oAOtcmAJY44Sj1qDM4FOvTSiFBYKCwUFjUW2EtLHKQVelyhwwY9nuIZHmGDO5MrbHGBAT1aKTBgQIURobBQWCgsBowmgzSgRi/1Uo9X0mhSo8Y1tugwQ4MRA1oPhcJCYaGwGHGPCiNOqDBiJz137iQdsMY9VniCjXRCjUCDE3qpMgmFhcJCYeFTFUZpgYOHrqQt3sAznKQ73EmP8RIDTqgwmgRaKRQWCguFRYURg1SjQ4VRusYt7vEIc7ySVniKW2ykl2jQSqNzvRQIhYXCQmFR4wJbaY4DajRoMMMX8G88xwr3+CrewTfQ4ff4Hf6EGjP0JnP06E1CYaGwUFiMOJq00oA1brHD2uSAx3gHP8JK+j5+jh+jxRo19ugxmtToEAoLhYXCYkCFCiMa9NIOHRa4wxW2GKXvYuXc9/AL/AMtFlhji5NUoZJCYaGwUFj4xBInVFigxh5HaYEjDlhJL/FlqcUGT7HGB2iwxx4NWpMGJykUFgoLhUWDjVRhg0CFUbqVWsxRSb/CD9HgMT7EL6XWpHVulBYIhYXCQmExmIzSIH0Hz7HDCu9iJzX4NTb4Fnb4I37j9QI1TlKFUFgoLBQWg4cCJ/wEC2zxBN/GMwRWeA/v4Su4xJ+xxVvYo8YcL9FjhlGa4YBQWCgsFBY1lthjxAX20jedeybdYGvyV3wRO5NHuMMlLvEf7DGikXqEwkJhobCoUUkVaud6zExmeIVOatDhn5jjgI9MnmOBo3OdFAoLhYXCokUrVbhDhUqaYYNraYU7aYUTRnTo0KB17mhSYcSINUJhobBQWPiMUQq0JpdocY3WJDCgN2m9XmCJHh0GhMJCYaGwqDE410sbzLHCM9xhwAIzbHGJa6zxEVpcoUWFwEZqsMccC3QIhYXCQmFRY4m9tMQBM1ybvIFBatBKO3wNn0eNp6hwwg3WOOAl3sMMBzRoEQoLhYXCoscMFSoscUCPyrk5WtyZ1PgZ5tjjTeyxw5t4gQot3sYTvEAnhcJCYaGwGLGVKmxRo0aLHve4kZa4lwId3sYtrk0G1B7aYIV7BEJhobBQWPiMQWqkBg2W6LHA0WSGN/FbPMKX8DFGjDhixCU+xBp3GKQOobBQWCgsKozOdWjQYybtsZUazHDCK/xUCnyMG1zgOS7xCC/QSqN0jVBYKCwUFjXmuJfmOOGEGQbUuHKuwoADnuPv0j0ucYU9bqUbdJhjlC4QCguFhcJiwBL3mOMGz1BLtckVthhxL3V437kdds69whoVtqhxi1BYKCwUFiM20gk7NGjxPgYMqFBjgdbkEjv/n8BOCuwRCguFhcLCJwaTHWbSD3CHHmtsUGMw2UlLdOg81KDFK6lCJYXCQmGhsKgwSjP0qKU/eL0LdBjwdfwFNzhhiRod7jHD5/A3qcERc4TCQmGhsKixxA5zqcbRpMaAGVbYSyespT0CR6ywxAYdjniCBXqM0gVCYaGwUFiMWGCHe7yFj1DhAiPWeIE1thhxlO7wrrSR/uWhD3CNHjvUOCEUFgoLhcWA3mSQRsywRYMVKgyo0KNBKy1x8L916KXAHqGwUFgo7L/2k4+SXUvh+gAAAABJRU5ErkJg\">"
      ],
      "text/plain": [
       "32×32 Array{Gray{Float64},2} with eltype Gray{Float64}:\n",
       " Gray{Float64}(-0.0145436)   …  Gray{Float64}(0.00794172)\n",
       " Gray{Float64}(0.00362315)      Gray{Float64}(0.00415961)\n",
       " Gray{Float64}(0.0113402)       Gray{Float64}(0.000110956)\n",
       " Gray{Float64}(0.00420929)      Gray{Float64}(-0.0072723)\n",
       " Gray{Float64}(-0.0088283)      Gray{Float64}(-0.0114207)\n",
       " Gray{Float64}(-0.0116559)   …  Gray{Float64}(0.00123486)\n",
       " Gray{Float64}(0.00434303)      Gray{Float64}(0.0166875)\n",
       " Gray{Float64}(0.0131471)       Gray{Float64}(0.0140183)\n",
       " Gray{Float64}(0.00706417)      Gray{Float64}(-0.0105672)\n",
       " Gray{Float64}(-0.0113264)      Gray{Float64}(-0.0281251)\n",
       " Gray{Float64}(-0.0233928)   …  Gray{Float64}(-0.00764465)\n",
       " Gray{Float64}(0.0183738)       Gray{Float64}(0.0279718)\n",
       " Gray{Float64}(0.0108938)       Gray{Float64}(0.0323953)\n",
       " ⋮                           ⋱  \n",
       " Gray{Float64}(0.00538562)   …  Gray{Float64}(-0.0401365)\n",
       " Gray{Float64}(-0.0122262)      Gray{Float64}(0.0158426)\n",
       " Gray{Float64}(-0.0111535)      Gray{Float64}(-0.00390011)\n",
       " Gray{Float64}(0.00450787)      Gray{Float64}(0.0548986)\n",
       " Gray{Float64}(0.0130724)       Gray{Float64}(0.0960695)\n",
       " Gray{Float64}(0.00361222)   …  Gray{Float64}(0.0404837)\n",
       " Gray{Float64}(-0.0109514)      Gray{Float64}(-0.107234)\n",
       " Gray{Float64}(-0.00861921)     Gray{Float64}(-0.025386)\n",
       " Gray{Float64}(0.00305401)      Gray{Float64}(0.0220573)\n",
       " Gray{Float64}(0.0129692)       Gray{Float64}(0.0622649)\n",
       " Gray{Float64}(0.00645101)   …  Gray{Float64}(0.0410397)\n",
       " Gray{Float64}(-0.0197375)      Gray{Float64}(-0.0100421)"
      ]
     },
     "execution_count": 89,
     "metadata": {},
     "output_type": "execute_result"
    }
   ],
   "source": [
    "x_reconstructed = Y' \\ z_arr;\n",
    "x_reconstructed = reshape(x_reconstructed, (32,32));\n",
    "x_reconstructed_image = Gray.(x_reconstructed)"
   ]
  }
 ],
 "metadata": {
  "kernelspec": {
   "display_name": "Julia 1.7.2",
   "language": "julia",
   "name": "julia-1.7"
  },
  "language_info": {
   "file_extension": ".jl",
   "mimetype": "application/julia",
   "name": "julia",
   "version": "1.7.2"
  }
 },
 "nbformat": 4,
 "nbformat_minor": 4
}
