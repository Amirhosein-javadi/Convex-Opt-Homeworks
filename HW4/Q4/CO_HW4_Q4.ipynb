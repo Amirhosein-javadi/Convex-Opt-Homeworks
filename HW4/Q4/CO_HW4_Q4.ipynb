{
 "cells": [
  {
   "cell_type": "code",
   "execution_count": 54,
   "metadata": {},
   "outputs": [],
   "source": [
    "using CSV\n",
    "using DataFrames\n",
    "using LinearAlgebra\n",
    "using Plots\n",
    "df = CSV.read(\"asset_prices.csv\", DataFrame);\n",
    "prices=Matrix(df);\n",
    "asset_names=names(df);\n",
    "p_changes = prices[2:end,:] - prices[1:end-1,:];\n",
    "R = p_changes./prices[1:end-1,:];\n",
    "T,n = size(R)\n",
    "p_tar = 0.2/250;"
   ]
  },
  {
   "cell_type": "code",
   "execution_count": 55,
   "metadata": {},
   "outputs": [],
   "source": [
    "Model = zeros((n+2,n+2));\n",
    "y = zeros((n+2,1));\n",
    "miu = transpose(R) * ones((T,1)) / T;\n",
    "Model[1:n,1:n] = 2* transpose(R) * R;\n",
    "Model[n+1,1:n] .= 1;\n",
    "Model[n+2,1:n] = transpose(miu);\n",
    "Model[1:n,n+1] .= 1;\n",
    "Model[1:n,n+2] = miu;\n",
    "y[1:n] = 2 * p_tar * T * miu;\n",
    "y[n+1] = 1;\n",
    "y[n+2] = p_tar;"
   ]
  },
  {
   "cell_type": "code",
   "execution_count": 56,
   "metadata": {},
   "outputs": [
    {
     "data": {
      "text/plain": [
       "0.004116656070326331"
      ]
     },
     "execution_count": 56,
     "metadata": {},
     "output_type": "execute_result"
    }
   ],
   "source": [
    "Initial_Ans = (Model \\ y);\n",
    "W0 = Initial_Ans[1:n];\n",
    "r0 = R*W0;\n",
    "downsiderisk_Arr = zeros(T)\n",
    "for i = 1 : T\n",
    "    downsiderisk_Arr[i] = maximum([p_tar-r0[i],0])\n",
    "end\n",
    "W0_downsiderisk = sum(downsiderisk_Arr)/T"
   ]
  },
  {
   "cell_type": "code",
   "execution_count": 57,
   "metadata": {},
   "outputs": [
    {
     "data": {
      "text/plain": [
       "Df (generic function with 1 method)"
      ]
     },
     "execution_count": 57,
     "metadata": {},
     "output_type": "execute_result"
    }
   ],
   "source": [
    "function f(w)\n",
    "    r = R*w;\n",
    "    y = zeros((T,1));\n",
    "    for i =1:T\n",
    "        y[i] = maximum([p_tar-r[i],0])/T;\n",
    "    end\n",
    "    return y\n",
    "end\n",
    "\n",
    "function Df(w)\n",
    "    y = f(w);\n",
    "    alpha = y.>0;\n",
    "    dw = zeros((T,T))\n",
    "    for i = 1 : T\n",
    "       dw[i,i]= alpha[i]; \n",
    "    end\n",
    "    y = - dw * R\n",
    "end"
   ]
  },
  {
   "cell_type": "code",
   "execution_count": 58,
   "metadata": {},
   "outputs": [],
   "source": [
    "Kmax = 300;\n",
    "lambda = 1e-4;\n",
    "loss_value = zeros(Kmax);\n",
    "W = W0\n",
    "for i =1:Kmax\n",
    "    D = Df(W)\n",
    "    F = f(W)\n",
    "    W = W .- (transpose(D) * D + lambda * I) \\ (transpose(D)* F)\n",
    "    loss_value[i] = sum(F)\n",
    "end"
   ]
  },
  {
   "cell_type": "code",
   "execution_count": 73,
   "metadata": {},
   "outputs": [],
   "source": [
    "plot(1:Kmax, loss_value,\n",
    "    xlabel = \"Iteration\",\n",
    "    ylabel = \"loss\",\n",
    "    title = \"Downside risk vs Iterations\",\n",
    "    legend = false,\n",
    "    grid = true)\n",
    "savefig(\"Downside_risk.png\")"
   ]
  },
  {
   "cell_type": "code",
   "execution_count": 70,
   "metadata": {},
   "outputs": [
    {
     "name": "stdout",
     "output_type": "stream",
     "text": [
      "Final Result:\n",
      "Initial downside risk is 0.004116656070326331\n",
      "Downside risk of portfolio optimization after 300 iteration is 0.0036772705084149107\n"
     ]
    }
   ],
   "source": [
    "println(\"Final Result:\")\n",
    "println(\"Initial downside risk is \" * string(W0_downsiderisk))\n",
    "println(\"Downside risk of portfolio optimization after \" * string(Kmax) * \" iteration is \" * string(loss_value[Kmax]))"
   ]
  }
 ],
 "metadata": {
  "kernelspec": {
   "display_name": "Julia 1.7.2",
   "language": "julia",
   "name": "julia-1.7"
  },
  "language_info": {
   "file_extension": ".jl",
   "mimetype": "application/julia",
   "name": "julia",
   "version": "1.7.2"
  }
 },
 "nbformat": 4,
 "nbformat_minor": 4
}
